{
 "cells": [
  {
   "cell_type": "code",
   "execution_count": 109,
   "metadata": {},
   "outputs": [],
   "source": [
    "import duckdb"
   ]
  },
  {
   "cell_type": "code",
   "execution_count": 2,
   "metadata": {},
   "outputs": [],
   "source": [
    "con = duckdb.connect(database = \"csecicids2018.duckdb\", read_only = False)"
   ]
  },
  {
   "cell_type": "code",
   "execution_count": 3,
   "metadata": {},
   "outputs": [
    {
     "data": {
      "text/plain": [
       "<duckdb.duckdb.DuckDBPyConnection at 0x7f3900e21ef0>"
      ]
     },
     "execution_count": 3,
     "metadata": {},
     "output_type": "execute_result"
    }
   ],
   "source": [
    "con.execute('CREATE OR REPLACE TABLE flows AS SELECT \"Flow ID\", Label FROM read_csv_auto(\"../datasets/CSECICIDS2018_improved/*.csv\");')"
   ]
  },
  {
   "cell_type": "code",
   "execution_count": 4,
   "metadata": {},
   "outputs": [
    {
     "data": {
      "text/plain": [
       "<duckdb.duckdb.DuckDBPyConnection at 0x7f3900e21ef0>"
      ]
     },
     "execution_count": 4,
     "metadata": {},
     "output_type": "execute_result"
    }
   ],
   "source": [
    "con.execute(\"UPDATE Flows SET Label = regexp_replace(Label, '(.+) - Attempted','BENIGN')\")"
   ]
  },
  {
   "cell_type": "code",
   "execution_count": 5,
   "metadata": {},
   "outputs": [
    {
     "data": {
      "text/html": [
       "<div>\n",
       "<style scoped>\n",
       "    .dataframe tbody tr th:only-of-type {\n",
       "        vertical-align: middle;\n",
       "    }\n",
       "\n",
       "    .dataframe tbody tr th {\n",
       "        vertical-align: top;\n",
       "    }\n",
       "\n",
       "    .dataframe thead th {\n",
       "        text-align: right;\n",
       "    }\n",
       "</style>\n",
       "<table border=\"1\" class=\"dataframe\">\n",
       "  <thead>\n",
       "    <tr style=\"text-align: right;\">\n",
       "      <th></th>\n",
       "      <th>Label</th>\n",
       "    </tr>\n",
       "  </thead>\n",
       "  <tbody>\n",
       "    <tr>\n",
       "      <th>0</th>\n",
       "      <td>DDoS-HOIC</td>\n",
       "    </tr>\n",
       "    <tr>\n",
       "      <th>1</th>\n",
       "      <td>Web Attack - XSS</td>\n",
       "    </tr>\n",
       "    <tr>\n",
       "      <th>2</th>\n",
       "      <td>Infiltration - NMAP Portscan</td>\n",
       "    </tr>\n",
       "    <tr>\n",
       "      <th>3</th>\n",
       "      <td>Web Attack - Brute Force</td>\n",
       "    </tr>\n",
       "    <tr>\n",
       "      <th>4</th>\n",
       "      <td>BENIGN</td>\n",
       "    </tr>\n",
       "    <tr>\n",
       "      <th>5</th>\n",
       "      <td>DDoS-LOIC-UDP</td>\n",
       "    </tr>\n",
       "    <tr>\n",
       "      <th>6</th>\n",
       "      <td>Botnet Ares</td>\n",
       "    </tr>\n",
       "    <tr>\n",
       "      <th>7</th>\n",
       "      <td>Infiltration - Communication Victim Attacker</td>\n",
       "    </tr>\n",
       "    <tr>\n",
       "      <th>8</th>\n",
       "      <td>DoS Slowloris</td>\n",
       "    </tr>\n",
       "    <tr>\n",
       "      <th>9</th>\n",
       "      <td>DoS GoldenEye</td>\n",
       "    </tr>\n",
       "    <tr>\n",
       "      <th>10</th>\n",
       "      <td>SSH-BruteForce</td>\n",
       "    </tr>\n",
       "    <tr>\n",
       "      <th>11</th>\n",
       "      <td>DoS Hulk</td>\n",
       "    </tr>\n",
       "    <tr>\n",
       "      <th>12</th>\n",
       "      <td>Infiltration - Dropbox Download</td>\n",
       "    </tr>\n",
       "    <tr>\n",
       "      <th>13</th>\n",
       "      <td>DDoS-LOIC-HTTP</td>\n",
       "    </tr>\n",
       "    <tr>\n",
       "      <th>14</th>\n",
       "      <td>Web Attack - SQL</td>\n",
       "    </tr>\n",
       "  </tbody>\n",
       "</table>\n",
       "</div>"
      ],
      "text/plain": [
       "                                           Label\n",
       "0                                      DDoS-HOIC\n",
       "1                               Web Attack - XSS\n",
       "2                   Infiltration - NMAP Portscan\n",
       "3                       Web Attack - Brute Force\n",
       "4                                         BENIGN\n",
       "5                                  DDoS-LOIC-UDP\n",
       "6                                    Botnet Ares\n",
       "7   Infiltration - Communication Victim Attacker\n",
       "8                                  DoS Slowloris\n",
       "9                                  DoS GoldenEye\n",
       "10                                SSH-BruteForce\n",
       "11                                      DoS Hulk\n",
       "12               Infiltration - Dropbox Download\n",
       "13                                DDoS-LOIC-HTTP\n",
       "14                              Web Attack - SQL"
      ]
     },
     "execution_count": 5,
     "metadata": {},
     "output_type": "execute_result"
    }
   ],
   "source": [
    "con.execute('SELECT DISTINCT Label FROM flows')\n",
    "Labels = con.fetch_df()\n",
    "Labels"
   ]
  },
  {
   "cell_type": "code",
   "execution_count": 6,
   "metadata": {},
   "outputs": [
    {
     "data": {
      "text/html": [
       "<div>\n",
       "<style scoped>\n",
       "    .dataframe tbody tr th:only-of-type {\n",
       "        vertical-align: middle;\n",
       "    }\n",
       "\n",
       "    .dataframe tbody tr th {\n",
       "        vertical-align: top;\n",
       "    }\n",
       "\n",
       "    .dataframe thead th {\n",
       "        text-align: right;\n",
       "    }\n",
       "</style>\n",
       "<table border=\"1\" class=\"dataframe\">\n",
       "  <thead>\n",
       "    <tr style=\"text-align: right;\">\n",
       "      <th></th>\n",
       "      <th>Label</th>\n",
       "      <th>count</th>\n",
       "    </tr>\n",
       "  </thead>\n",
       "  <tbody>\n",
       "    <tr>\n",
       "      <th>0</th>\n",
       "      <td>DDoS-HOIC</td>\n",
       "      <td>1082293</td>\n",
       "    </tr>\n",
       "    <tr>\n",
       "      <th>1</th>\n",
       "      <td>Web Attack - XSS</td>\n",
       "      <td>113</td>\n",
       "    </tr>\n",
       "    <tr>\n",
       "      <th>2</th>\n",
       "      <td>Infiltration - NMAP Portscan</td>\n",
       "      <td>89374</td>\n",
       "    </tr>\n",
       "    <tr>\n",
       "      <th>3</th>\n",
       "      <td>Web Attack - Brute Force</td>\n",
       "      <td>131</td>\n",
       "    </tr>\n",
       "    <tr>\n",
       "      <th>4</th>\n",
       "      <td>BENIGN</td>\n",
       "      <td>59659723</td>\n",
       "    </tr>\n",
       "    <tr>\n",
       "      <th>5</th>\n",
       "      <td>Infiltration - Communication Victim Attacker</td>\n",
       "      <td>204</td>\n",
       "    </tr>\n",
       "    <tr>\n",
       "      <th>6</th>\n",
       "      <td>Botnet Ares</td>\n",
       "      <td>142921</td>\n",
       "    </tr>\n",
       "    <tr>\n",
       "      <th>7</th>\n",
       "      <td>DDoS-LOIC-UDP</td>\n",
       "      <td>2527</td>\n",
       "    </tr>\n",
       "    <tr>\n",
       "      <th>8</th>\n",
       "      <td>DoS Slowloris</td>\n",
       "      <td>8490</td>\n",
       "    </tr>\n",
       "    <tr>\n",
       "      <th>9</th>\n",
       "      <td>SSH-BruteForce</td>\n",
       "      <td>94197</td>\n",
       "    </tr>\n",
       "    <tr>\n",
       "      <th>10</th>\n",
       "      <td>DoS GoldenEye</td>\n",
       "      <td>22560</td>\n",
       "    </tr>\n",
       "    <tr>\n",
       "      <th>11</th>\n",
       "      <td>Infiltration - Dropbox Download</td>\n",
       "      <td>85</td>\n",
       "    </tr>\n",
       "    <tr>\n",
       "      <th>12</th>\n",
       "      <td>DoS Hulk</td>\n",
       "      <td>1803160</td>\n",
       "    </tr>\n",
       "    <tr>\n",
       "      <th>13</th>\n",
       "      <td>DDoS-LOIC-HTTP</td>\n",
       "      <td>289328</td>\n",
       "    </tr>\n",
       "    <tr>\n",
       "      <th>14</th>\n",
       "      <td>Web Attack - SQL</td>\n",
       "      <td>39</td>\n",
       "    </tr>\n",
       "  </tbody>\n",
       "</table>\n",
       "</div>"
      ],
      "text/plain": [
       "                                           Label     count\n",
       "0                                      DDoS-HOIC   1082293\n",
       "1                               Web Attack - XSS       113\n",
       "2                   Infiltration - NMAP Portscan     89374\n",
       "3                       Web Attack - Brute Force       131\n",
       "4                                         BENIGN  59659723\n",
       "5   Infiltration - Communication Victim Attacker       204\n",
       "6                                    Botnet Ares    142921\n",
       "7                                  DDoS-LOIC-UDP      2527\n",
       "8                                  DoS Slowloris      8490\n",
       "9                                 SSH-BruteForce     94197\n",
       "10                                 DoS GoldenEye     22560\n",
       "11               Infiltration - Dropbox Download        85\n",
       "12                                      DoS Hulk   1803160\n",
       "13                                DDoS-LOIC-HTTP    289328\n",
       "14                              Web Attack - SQL        39"
      ]
     },
     "execution_count": 6,
     "metadata": {},
     "output_type": "execute_result"
    }
   ],
   "source": [
    "con.execute('SELECT Label, COUNT(*) AS count FROM Flows GROUP BY Label')\n",
    "counted_labels = con.fetch_df()\n",
    "counted_labels"
   ]
  },
  {
   "cell_type": "code",
   "execution_count": 85,
   "metadata": {},
   "outputs": [
    {
     "data": {
      "text/plain": [
       "<duckdb.duckdb.DuckDBPyConnection at 0x7f3900e21ef0>"
      ]
     },
     "execution_count": 85,
     "metadata": {},
     "output_type": "execute_result"
    }
   ],
   "source": [
    "con.execute('CREATE OR REPLACE TABLE sampled_flows (\"Flow ID\" VARCHAR, Label VARCHAR)')"
   ]
  },
  {
   "cell_type": "code",
   "execution_count": 87,
   "metadata": {},
   "outputs": [],
   "source": [
    "for label in Labels.to_numpy():\n",
    "    con.execute('WITH tab1 AS (SELECT \"Flow ID\", Label FROM flows WHERE Label = \\'{}\\' ORDER BY RANDOM() LIMIT 2000) INSERT INTO sampled_flows SELECT * FROM tab1'.format(label[0]))"
   ]
  },
  {
   "cell_type": "code",
   "execution_count": 88,
   "metadata": {},
   "outputs": [
    {
     "data": {
      "text/plain": [
       "[('DDoS-HOIC', 2000),\n",
       " ('Web Attack - XSS', 113),\n",
       " ('Infiltration - NMAP Portscan', 2000),\n",
       " ('Web Attack - Brute Force', 131),\n",
       " ('BENIGN', 2000),\n",
       " ('DDoS-LOIC-UDP', 2000),\n",
       " ('Botnet Ares', 2000),\n",
       " ('Infiltration - Communication Victim Attacker', 204),\n",
       " ('DoS Slowloris', 2000),\n",
       " ('DoS GoldenEye', 2000),\n",
       " ('SSH-BruteForce', 2000),\n",
       " ('DoS Hulk', 2000),\n",
       " ('Infiltration - Dropbox Download', 85),\n",
       " ('DDoS-LOIC-HTTP', 2000),\n",
       " ('Web Attack - SQL', 39)]"
      ]
     },
     "execution_count": 88,
     "metadata": {},
     "output_type": "execute_result"
    }
   ],
   "source": [
    "con.execute('SELECT Label, COUNT(*) AS count FROM sampled_flows GROUP BY Label')\n",
    "con.fetchall()"
   ]
  },
  {
   "cell_type": "code",
   "execution_count": 103,
   "metadata": {},
   "outputs": [
    {
     "data": {
      "text/plain": [
       "<duckdb.duckdb.DuckDBPyConnection at 0x7f3900e21ef0>"
      ]
     },
     "execution_count": 103,
     "metadata": {},
     "output_type": "execute_result"
    }
   ],
   "source": [
    "con.execute('CREATE OR REPLACE TABLE CSECICIDS2018 (\"Protocol\" BIGINT, \"Flow Duration\" BIGINT, \"Total Fwd Packet\" BIGINT, \"Total Bwd packets\" BIGINT, \"Total Length of Fwd Packet\" BIGINT, \"Total Length of Bwd Packet\" BIGINT, \"Fwd Packet Length Max\" BIGINT, \"Fwd Packet Length Min\" BIGINT, \"Fwd Packet Length Mean\" DOUBLE, \"Fwd Packet Length Std\" DOUBLE, \"Bwd Packet Length Max\" BIGINT, \"Bwd Packet Length Min\" BIGINT, \"Bwd Packet Length Mean\" DOUBLE, \"Bwd Packet Length Std\" DOUBLE, \"Flow Bytes/s\" DOUBLE, \"Flow Packets/s\" DOUBLE, \"Flow IAT Mean\" DOUBLE, \"Flow IAT Std\" DOUBLE, \"Flow IAT Max\" BIGINT, \"Flow IAT Min\" BIGINT, \"Fwd IAT Total\" BIGINT, \"Fwd IAT Mean\" DOUBLE, \"Fwd IAT Std\" DOUBLE, \"Fwd IAT Max\" BIGINT, \"Fwd IAT Min\" BIGINT, \"Bwd IAT Total\" BIGINT, \"Bwd IAT Mean\" DOUBLE, \"Bwd IAT Std\" DOUBLE, \"Bwd IAT Max\" BIGINT, \"Bwd IAT Min\" BIGINT, \"Fwd PSH Flags\" BIGINT, \"Bwd PSH Flags\" BIGINT, \"Fwd URG Flags\" BIGINT, \"Bwd URG Flags\" BIGINT, \"Fwd RST Flags\" BIGINT, \"Bwd RST Flags\" BIGINT, \"Fwd Header Length\" BIGINT, \"Bwd Header Length\" BIGINT, \"Fwd Packets/s\" DOUBLE, \"Bwd Packets/s\" DOUBLE, \"Packet Length Min\" BIGINT, \"Packet Length Max\" BIGINT, \"Packet Length Mean\" DOUBLE, \"Packet Length Std\" DOUBLE, \"Packet Length Variance\" DOUBLE, \"FIN Flag Count\" BIGINT, \"SYN Flag Count\" BIGINT, \"RST Flag Count\" BIGINT, \"PSH Flag Count\" BIGINT, \"ACK Flag Count\" BIGINT, \"URG Flag Count\" BIGINT, \"CWR Flag Count\" BIGINT, \"ECE Flag Count\" BIGINT, \"Down/Up Ratio\" DOUBLE, \"Average Packet Size\" DOUBLE, \"Fwd Segment Size Avg\" DOUBLE, \"Bwd Segment Size Avg\" DOUBLE, \"Fwd Bytes/Bulk Avg\" BIGINT, \"Fwd Packet/Bulk Avg\" BIGINT, \"Fwd Bulk Rate Avg\" BIGINT, \"Bwd Bytes/Bulk Avg\" BIGINT, \"Bwd Packet/Bulk Avg\" BIGINT, \"Bwd Bulk Rate Avg\" BIGINT, \"Subflow Fwd Packets\" BIGINT, \"Subflow Fwd Bytes\" BIGINT, \"Subflow Bwd Packets\" BIGINT, \"Subflow Bwd Bytes\" BIGINT, \"FWD Init Win Bytes\" BIGINT, \"Bwd Init Win Bytes\" BIGINT, \"Fwd Act Data Pkts\" BIGINT, \"Fwd Seg Size Min\" BIGINT, \"Active Mean\" DOUBLE, \"Active Std\" DOUBLE, \"Active Max\" BIGINT, \"Active Min\" BIGINT, \"Idle Mean\" DOUBLE, \"Idle Std\" DOUBLE, \"Idle Max\" BIGINT, \"Idle Min\" BIGINT, \"ICMP Code\" BIGINT, \"ICMP Type\" BIGINT, \"Total TCP Flow Time\" BIGINT, \"Label\" VARCHAR(255), \"Attempted Category\" BIGINT )')"
   ]
  },
  {
   "cell_type": "code",
   "execution_count": 91,
   "metadata": {},
   "outputs": [],
   "source": [
    "con.execute('SELECT \"Flow ID\" FROM sampled_flows') \n",
    "sampled_flows = con.fetchdf()"
   ]
  },
  {
   "cell_type": "code",
   "execution_count": 98,
   "metadata": {},
   "outputs": [
    {
     "ename": "RuntimeError",
     "evalue": "Query interrupted",
     "output_type": "error",
     "traceback": [
      "\u001b[0;31m---------------------------------------------------------------------------\u001b[0m",
      "\u001b[0;31mKeyboardInterrupt\u001b[0m                         Traceback (most recent call last)",
      "\u001b[0;31mKeyboardInterrupt\u001b[0m: ",
      "\nThe above exception was the direct cause of the following exception:\n",
      "\u001b[0;31mRuntimeError\u001b[0m                              Traceback (most recent call last)",
      "Cell \u001b[0;32mIn[98], line 2\u001b[0m\n\u001b[1;32m      1\u001b[0m \u001b[38;5;28;01mfor\u001b[39;00m flow \u001b[38;5;129;01min\u001b[39;00m sampled_flows\u001b[38;5;241m.\u001b[39mto_numpy():\n\u001b[0;32m----> 2\u001b[0m     con\u001b[38;5;241m.\u001b[39mexecute(\u001b[38;5;124m'\u001b[39m\u001b[38;5;124mINSERT INTO CSECICIDS2018 SELECT * EXCLUDE (id,\u001b[39m\u001b[38;5;124m\"\u001b[39m\u001b[38;5;124mFlow ID\u001b[39m\u001b[38;5;124m\"\u001b[39m\u001b[38;5;124m, \u001b[39m\u001b[38;5;124m\"\u001b[39m\u001b[38;5;124mSrc IP\u001b[39m\u001b[38;5;124m\"\u001b[39m\u001b[38;5;124m,\u001b[39m\u001b[38;5;124m\"\u001b[39m\u001b[38;5;124mSrc Port\u001b[39m\u001b[38;5;124m\"\u001b[39m\u001b[38;5;124m,\u001b[39m\u001b[38;5;124m\"\u001b[39m\u001b[38;5;124mDst IP\u001b[39m\u001b[38;5;124m\"\u001b[39m\u001b[38;5;124m,\u001b[39m\u001b[38;5;124m\"\u001b[39m\u001b[38;5;124mDst Port\u001b[39m\u001b[38;5;124m\"\u001b[39m\u001b[38;5;124m,Timestamp) FROM read_csv_auto(\u001b[39m\u001b[38;5;124m\"\u001b[39m\u001b[38;5;124m../datasets/CSECICIDS2018_improved/*.csv\u001b[39m\u001b[38;5;124m\"\u001b[39m\u001b[38;5;124m) WHERE \u001b[39m\u001b[38;5;124m\"\u001b[39m\u001b[38;5;124mFlow ID\u001b[39m\u001b[38;5;124m\"\u001b[39m\u001b[38;5;124m = \u001b[39m\u001b[38;5;130;01m\\'\u001b[39;00m\u001b[38;5;132;01m{}\u001b[39;00m\u001b[38;5;130;01m\\'\u001b[39;00m\u001b[38;5;124m'\u001b[39m\u001b[38;5;241m.\u001b[39mformat(flow[\u001b[38;5;241m0\u001b[39m]))\n",
      "\u001b[0;31mRuntimeError\u001b[0m: Query interrupted"
     ]
    }
   ],
   "source": [
    "for flow in sampled_flows.to_numpy():\n",
    "    con.execute('INSERT INTO CSECICIDS2018 SELECT * EXCLUDE (id,\"Flow ID\", \"Src IP\",\"Src Port\",\"Dst IP\",\"Dst Port\",Timestamp) FROM read_csv_auto(\"../datasets/CSECICIDS2018_improved/*.csv\") WHERE \"Flow ID\" = \\'{}\\''.format(flow[0]))"
   ]
  },
  {
   "cell_type": "code",
   "execution_count": 71,
   "metadata": {},
   "outputs": [
    {
     "data": {
      "text/plain": [
       "<duckdb.duckdb.DuckDBPyConnection at 0x7f3900e21ef0>"
      ]
     },
     "execution_count": 71,
     "metadata": {},
     "output_type": "execute_result"
    }
   ],
   "source": [
    "con.execute(\"UPDATE CSECICIDS2018_SAMPLED SET Label = regexp_replace(Label, '(.+) - Attempted','BENIGN')\")"
   ]
  },
  {
   "cell_type": "code",
   "execution_count": 58,
   "metadata": {},
   "outputs": [
    {
     "data": {
      "text/plain": [
       "<duckdb.duckdb.DuckDBPyConnection at 0x7f3900e21ef0>"
      ]
     },
     "execution_count": 58,
     "metadata": {},
     "output_type": "execute_result"
    }
   ],
   "source": [
    "con.execute(\"COPY (SELECT * FROM CSECICIDS2018_SAMPLED) TO '../datasets/CSECICIDS2018_improved.parquet' (FORMAT PARQUET)\")"
   ]
  }
 ],
 "metadata": {
  "kernelspec": {
   "display_name": "tesi",
   "language": "python",
   "name": "python3"
  },
  "language_info": {
   "codemirror_mode": {
    "name": "ipython",
    "version": 3
   },
   "file_extension": ".py",
   "mimetype": "text/x-python",
   "name": "python",
   "nbconvert_exporter": "python",
   "pygments_lexer": "ipython3",
   "version": "3.11.5"
  }
 },
 "nbformat": 4,
 "nbformat_minor": 2
}
