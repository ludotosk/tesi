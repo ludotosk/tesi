{
 "cells": [
  {
   "cell_type": "code",
   "execution_count": 1,
   "metadata": {},
   "outputs": [],
   "source": [
    "import duckdb\n",
    "\n",
    "%load_ext sql"
   ]
  },
  {
   "cell_type": "code",
   "execution_count": 2,
   "metadata": {},
   "outputs": [],
   "source": [
    "%config SqlMagic.autopandas = True\n",
    "%config SqlMagic.feedback = False\n",
    "%config SqlMagic.displaycon = False"
   ]
  },
  {
   "cell_type": "code",
   "execution_count": 3,
   "metadata": {},
   "outputs": [],
   "source": [
    "%sql duckdb:///cicids2017.duckdb"
   ]
  },
  {
   "cell_type": "code",
   "execution_count": 4,
   "metadata": {},
   "outputs": [
    {
     "data": {
      "text/html": [
       "<span style=\"None\">Running query in &#x27;duckdb:///cicids2017.duckdb&#x27;</span>"
      ],
      "text/plain": [
       "Running query in 'duckdb:///cicids2017.duckdb'"
      ]
     },
     "metadata": {},
     "output_type": "display_data"
    },
    {
     "data": {
      "text/html": [
       "<table>\n",
       "    <thead>\n",
       "        <tr>\n",
       "            <th>Count</th>\n",
       "        </tr>\n",
       "    </thead>\n",
       "    <tbody>\n",
       "    </tbody>\n",
       "</table>"
      ],
      "text/plain": [
       "+-------+\n",
       "| Count |\n",
       "+-------+\n",
       "+-------+"
      ]
     },
     "execution_count": 4,
     "metadata": {},
     "output_type": "execute_result"
    }
   ],
   "source": [
    "# %sql CREATE TABLE sampled AS FROM '../datasets/sampled-2017.csv';"
   ]
  },
  {
   "cell_type": "code",
   "execution_count": 4,
   "metadata": {},
   "outputs": [
    {
     "data": {
      "text/html": [
       "<div>\n",
       "<style scoped>\n",
       "    .dataframe tbody tr th:only-of-type {\n",
       "        vertical-align: middle;\n",
       "    }\n",
       "\n",
       "    .dataframe tbody tr th {\n",
       "        vertical-align: top;\n",
       "    }\n",
       "\n",
       "    .dataframe thead th {\n",
       "        text-align: right;\n",
       "    }\n",
       "</style>\n",
       "<table border=\"1\" class=\"dataframe\">\n",
       "  <thead>\n",
       "    <tr style=\"text-align: right;\">\n",
       "      <th></th>\n",
       "      <th>column0</th>\n",
       "    </tr>\n",
       "  </thead>\n",
       "  <tbody>\n",
       "    <tr>\n",
       "      <th>0</th>\n",
       "      <td>Flow ID</td>\n",
       "    </tr>\n",
       "    <tr>\n",
       "      <th>1</th>\n",
       "      <td>192.168.10.51-192.168.10.3-26677-53-17</td>\n",
       "    </tr>\n",
       "    <tr>\n",
       "      <th>2</th>\n",
       "      <td>192.168.10.16-52.203.233.2-59644-443-6</td>\n",
       "    </tr>\n",
       "    <tr>\n",
       "      <th>3</th>\n",
       "      <td>192.168.10.17-172.217.6.230-39014-443-6</td>\n",
       "    </tr>\n",
       "    <tr>\n",
       "      <th>4</th>\n",
       "      <td>192.168.10.16-192.168.10.3-41741-53-17</td>\n",
       "    </tr>\n",
       "    <tr>\n",
       "      <th>...</th>\n",
       "      <td>...</td>\n",
       "    </tr>\n",
       "    <tr>\n",
       "      <th>20638</th>\n",
       "      <td>172.16.0.1-192.168.10.50-56651-80-6</td>\n",
       "    </tr>\n",
       "    <tr>\n",
       "      <th>20639</th>\n",
       "      <td>172.16.0.1-192.168.10.50-54497-80-6</td>\n",
       "    </tr>\n",
       "    <tr>\n",
       "      <th>20640</th>\n",
       "      <td>172.16.0.1-192.168.10.50-56009-80-6</td>\n",
       "    </tr>\n",
       "    <tr>\n",
       "      <th>20641</th>\n",
       "      <td>172.16.0.1-192.168.10.50-53523-80-6</td>\n",
       "    </tr>\n",
       "    <tr>\n",
       "      <th>20642</th>\n",
       "      <td>172.16.0.1-192.168.10.50-59937-80-6</td>\n",
       "    </tr>\n",
       "  </tbody>\n",
       "</table>\n",
       "<p>20643 rows × 1 columns</p>\n",
       "</div>"
      ],
      "text/plain": [
       "                                       column0\n",
       "0                                      Flow ID\n",
       "1       192.168.10.51-192.168.10.3-26677-53-17\n",
       "2       192.168.10.16-52.203.233.2-59644-443-6\n",
       "3      192.168.10.17-172.217.6.230-39014-443-6\n",
       "4       192.168.10.16-192.168.10.3-41741-53-17\n",
       "...                                        ...\n",
       "20638      172.16.0.1-192.168.10.50-56651-80-6\n",
       "20639      172.16.0.1-192.168.10.50-54497-80-6\n",
       "20640      172.16.0.1-192.168.10.50-56009-80-6\n",
       "20641      172.16.0.1-192.168.10.50-53523-80-6\n",
       "20642      172.16.0.1-192.168.10.50-59937-80-6\n",
       "\n",
       "[20643 rows x 1 columns]"
      ]
     },
     "execution_count": 4,
     "metadata": {},
     "output_type": "execute_result"
    }
   ],
   "source": [
    "%sql SELECT * FROM sampled;"
   ]
  },
  {
   "cell_type": "code",
   "execution_count": 13,
   "metadata": {},
   "outputs": [
    {
     "data": {
      "text/html": [
       "<div>\n",
       "<style scoped>\n",
       "    .dataframe tbody tr th:only-of-type {\n",
       "        vertical-align: middle;\n",
       "    }\n",
       "\n",
       "    .dataframe tbody tr th {\n",
       "        vertical-align: top;\n",
       "    }\n",
       "\n",
       "    .dataframe thead th {\n",
       "        text-align: right;\n",
       "    }\n",
       "</style>\n",
       "<table border=\"1\" class=\"dataframe\">\n",
       "  <thead>\n",
       "    <tr style=\"text-align: right;\">\n",
       "      <th></th>\n",
       "      <th>Success</th>\n",
       "    </tr>\n",
       "  </thead>\n",
       "  <tbody>\n",
       "  </tbody>\n",
       "</table>\n",
       "</div>"
      ],
      "text/plain": [
       "Empty DataFrame\n",
       "Columns: [Success]\n",
       "Index: []"
      ]
     },
     "execution_count": 13,
     "metadata": {},
     "output_type": "execute_result"
    }
   ],
   "source": [
    "%sql COPY (SELECT * EXCLUDE (id,\"Flow ID\",\"Src IP\",\"Src Port\",\"Dst IP\",\"Dst Port\",Timestamp) FROM read_csv_auto(\"../datasets/CICIDS2017_improved/*.csv\") WHERE \"Flow ID\" IN (SELECT * FROM sampled)) TO '../datasets/CICIDS2017_improved.parquet' (FORMAT PARQUET)"
   ]
  }
 ],
 "metadata": {
  "kernelspec": {
   "display_name": "tesi",
   "language": "python",
   "name": "python3"
  },
  "language_info": {
   "codemirror_mode": {
    "name": "ipython",
    "version": 3
   },
   "file_extension": ".py",
   "mimetype": "text/x-python",
   "name": "python",
   "nbconvert_exporter": "python",
   "pygments_lexer": "ipython3",
   "version": "3.11.5"
  }
 },
 "nbformat": 4,
 "nbformat_minor": 2
}
