{
 "cells": [
  {
   "cell_type": "code",
   "execution_count": 36,
   "id": "f6fd959e-6196-4d20-bfc5-7bd9df07f75b",
   "metadata": {
    "tags": []
   },
   "outputs": [],
   "source": [
    "import pandas as pd"
   ]
  },
  {
   "cell_type": "code",
   "execution_count": 43,
   "id": "1acdf999-299f-4f81-b17f-e93c103b13d3",
   "metadata": {
    "tags": []
   },
   "outputs": [],
   "source": [
    "ds = pd.read_csv('datasets/HIKARI-2021/ALLFLOWMETER_HIKARI2022.csv').rename(columns={'attack_category':'traffic_category'})"
   ]
  },
  {
   "cell_type": "code",
   "execution_count": 41,
   "id": "d0292dd1-a64d-4d67-bef1-b4513bb7fc45",
   "metadata": {
    "tags": []
   },
   "outputs": [],
   "source": [
    "# Function to convert time duration to seconds format\n",
    "def convert_to_ms(duration_str):\n",
    "    parts = duration_str.split(':')\n",
    "    hours = int(parts[0])\n",
    "    minutes = int(parts[1])\n",
    "    seconds = float(parts[2])\n",
    "    milliseconds = (hours * 3600 + minutes * 60 + seconds)\n",
    "    return milliseconds"
   ]
  },
  {
   "cell_type": "code",
   "execution_count": 39,
   "id": "0ba9fd51-17c5-4383-b7cc-d5df505ec319",
   "metadata": {
    "tags": []
   },
   "outputs": [],
   "source": [
    "ds.flow_duration = ds.flow_duration.apply(lambda x: x.split(' ')[-1]).apply(convert_to_ms)"
   ]
  },
  {
   "cell_type": "code",
   "execution_count": 40,
   "id": "d3c9e83e-6f2f-4924-b92f-d2bc155ee21e",
   "metadata": {
    "tags": []
   },
   "outputs": [
    {
     "data": {
      "text/plain": [
       "count    228253.000000\n",
       "mean          4.582037\n",
       "std          84.953985\n",
       "min           0.000000\n",
       "25%           0.000095\n",
       "50%           0.020093\n",
       "75%           1.183425\n",
       "max       17942.909297\n",
       "Name: flow_duration, dtype: float64"
      ]
     },
     "execution_count": 40,
     "metadata": {},
     "output_type": "execute_result"
    }
   ],
   "source": [
    "ds.flow_duration.describe()"
   ]
  },
  {
   "cell_type": "code",
   "execution_count": 45,
   "id": "7af3157d-1b3a-4329-b7a6-52a88bea86a3",
   "metadata": {
    "tags": []
   },
   "outputs": [],
   "source": [
    "ds.to_csv('datasets/HIKARI-2021/ALLFLOWMETER_HIKARI2022.csv', index=False)"
   ]
  }
 ],
 "metadata": {
  "kernelspec": {
   "display_name": "Python 3 (ipykernel)",
   "language": "python",
   "name": "python3"
  },
  "language_info": {
   "codemirror_mode": {
    "name": "ipython",
    "version": 3
   },
   "file_extension": ".py",
   "mimetype": "text/x-python",
   "name": "python",
   "nbconvert_exporter": "python",
   "pygments_lexer": "ipython3",
   "version": "3.11.5"
  }
 },
 "nbformat": 4,
 "nbformat_minor": 5
}
