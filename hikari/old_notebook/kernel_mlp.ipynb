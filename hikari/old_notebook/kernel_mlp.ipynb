{
 "cells": [
  {
   "cell_type": "code",
   "execution_count": 1,
   "id": "d2b2d975-cdb5-4b8f-890c-a3f7af194d9b",
   "metadata": {
    "tags": []
   },
   "outputs": [
    {
     "name": "stderr",
     "output_type": "stream",
     "text": [
      "Intel(R) Extension for Scikit-learn* enabled (https://github.com/intel/scikit-learn-intelex)\n",
      "IProgress not found. Please update jupyter and ipywidgets. See https://ipywidgets.readthedocs.io/en/stable/user_install.html\n"
     ]
    }
   ],
   "source": [
    "import numpy as np\n",
    "import pandas as pd\n",
    "import seaborn as sns\n",
    "import matplotlib.pyplot as plt\n",
    "from sklearn.model_selection import train_test_split\n",
    "from sklearn import metrics\n",
    "from imblearn.under_sampling import RandomUnderSampler\n",
    "from shap import plots, Explanation\n",
    "from sklearn.preprocessing import StandardScaler\n",
    "import time\n",
    "import torch\n",
    "import torch.nn as nn\n",
    "import torch.optim as optim\n",
    "from torcheval.metrics.functional import binary_f1_score\n",
    "import shap\n",
    "from tqdm import tqdm\n",
    "from matplotlib import ticker\n",
    "import pickle\n",
    "\n",
    "pd.set_option('display.max_columns', None)"
   ]
  },
  {
   "cell_type": "code",
   "execution_count": 2,
   "id": "facb4760-ae80-4ad0-8156-503d91ec7d94",
   "metadata": {
    "tags": []
   },
   "outputs": [],
   "source": [
    "# Check for GPU availability and set device\n",
    "device = torch.device(\"cuda\" if torch.cuda.is_available() else \"cpu\")"
   ]
  },
  {
   "cell_type": "code",
   "execution_count": 3,
   "id": "1590feb2-d20d-405e-bbd1-e141048a0aaf",
   "metadata": {
    "tags": []
   },
   "outputs": [],
   "source": [
    "device = 'cpu'"
   ]
  },
  {
   "cell_type": "code",
   "execution_count": 4,
   "id": "ee21e0e8-7351-4ca5-839b-b4836a1fa605",
   "metadata": {
    "tags": []
   },
   "outputs": [],
   "source": [
    "x_features = [    \n",
    "    \"flow_duration\", \"fwd_pkts_tot\", \"bwd_pkts_tot\",\n",
    "    \"fwd_data_pkts_tot\", \"bwd_data_pkts_tot\", \"fwd_pkts_per_sec\", \"bwd_pkts_per_sec\", \"flow_pkts_per_sec\",\n",
    "    \"down_up_ratio\", \"fwd_header_size_tot\", \"fwd_header_size_min\", \"fwd_header_size_max\",\n",
    "    \"bwd_header_size_tot\", \"bwd_header_size_min\", \"bwd_header_size_max\", \"flow_FIN_flag_count\",\n",
    "    \"flow_SYN_flag_count\", \"flow_RST_flag_count\", \"fwd_PSH_flag_count\", \"bwd_PSH_flag_count\", \"flow_ACK_flag_count\",\n",
    "    \"fwd_URG_flag_count\", \"bwd_URG_flag_count\", \"flow_CWR_flag_count\", \"flow_ECE_flag_count\",\n",
    "    \"fwd_pkts_payload.min\", \"fwd_pkts_payload.max\", \"fwd_pkts_payload.tot\", \"fwd_pkts_payload.avg\",\n",
    "    \"fwd_pkts_payload.std\", \"bwd_pkts_payload.min\", \"bwd_pkts_payload.max\", \"bwd_pkts_payload.tot\",\n",
    "    \"bwd_pkts_payload.avg\", \"bwd_pkts_payload.std\", \"flow_pkts_payload.min\", \"flow_pkts_payload.max\",\n",
    "    \"flow_pkts_payload.tot\", \"flow_pkts_payload.avg\", \"flow_pkts_payload.std\", \"fwd_iat.min\",\n",
    "    \"fwd_iat.max\", \"fwd_iat.tot\", \"fwd_iat.avg\", \"fwd_iat.std\", \"bwd_iat.min\", \"bwd_iat.max\",\n",
    "    \"bwd_iat.tot\", \"bwd_iat.avg\", \"bwd_iat.std\", \"flow_iat.min\", \"flow_iat.max\", \"flow_iat.tot\",\n",
    "    \"flow_iat.avg\", \"flow_iat.std\", \"payload_bytes_per_second\", \"fwd_subflow_pkts\", \"bwd_subflow_pkts\",\n",
    "    \"fwd_subflow_bytes\", \"bwd_subflow_bytes\", \"fwd_bulk_bytes\", \"bwd_bulk_bytes\", \"fwd_bulk_packets\",\n",
    "    \"bwd_bulk_packets\", \"fwd_bulk_rate\", \"bwd_bulk_rate\", \"active.min\", \"active.max\", \"active.tot\",\n",
    "    \"active.avg\", \"active.std\", \"idle.min\", \"idle.max\", \"idle.tot\", \"idle.avg\", \"idle.std\",\n",
    "    \"fwd_init_window_size\", \"bwd_init_window_size\", \"fwd_last_window_size\"\n",
    "]"
   ]
  },
  {
   "cell_type": "code",
   "execution_count": 5,
   "id": "337565b9-b2db-4b66-b7da-7624c4003ded",
   "metadata": {
    "tags": []
   },
   "outputs": [],
   "source": [
    "def stratified_under_sample(group: pd.DataFrame, k: int, random_state: int):\n",
    "    global category_size\n",
    "    # shuffle data\n",
    "    group = group.sample(frac=1, random_state=random_state)\n",
    "    \n",
    "    # making a dictionary for checking if all the groups are equally insert into the array\n",
    "    unique_categories = set(group)\n",
    "    \n",
    "    # getting the size of each category per fold\n",
    "    folded_category = category_size // k\n",
    "    \n",
    "    # storing temporary data\n",
    "    test_res = []\n",
    "    train_res = []\n",
    "\n",
    "    for i in range(k):\n",
    "        test_indexes = []\n",
    "        train_indexes = []\n",
    "        \n",
    "        # for each iteration of the outer loop we need to reset dict\n",
    "        count_type = {category: 0 for category in unique_categories}\n",
    "        \n",
    "        for category in unique_categories:\n",
    "            # making a window of data to retreive\n",
    "            if (category == 'Background') | (category == 'Benign'):\n",
    "                start = (folded_category * 2) * i\n",
    "                stop = (folded_category * 2) * (i + 1)\n",
    "            else:\n",
    "                start = folded_category * i\n",
    "                stop = folded_category * (i + 1)\n",
    "            test_indexes.extend(group[group == category].iloc[start:stop].index)\n",
    "        \n",
    "        for x in group.index:\n",
    "            if x not in test_indexes:\n",
    "                train_indexes.append(x)\n",
    "                \n",
    "        # shuffling the data with the same seed in order to have the same result in both the dataset\n",
    "        np.random.shuffle(test_indexes)\n",
    "        test_res.append(test_indexes)\n",
    "        np.random.shuffle(train_indexes)\n",
    "        train_res.append(train_indexes)\n",
    "        \n",
    "    return test_res, train_res"
   ]
  },
  {
   "cell_type": "code",
   "execution_count": 6,
   "id": "a20fb18d-a247-450e-96bf-05b17edb8ca0",
   "metadata": {
    "tags": []
   },
   "outputs": [],
   "source": [
    "# how need to initialize a nn.relu each time you use it\n",
    "class MLP(nn.Module):\n",
    "    def __init__(self, n_features):\n",
    "        super(MLP, self).__init__()\n",
    "        self.fc1 = nn.Sequential(nn.Linear(n_features, 6), nn.ReLU())\n",
    "        self.fc2 = nn.Sequential(nn.Linear(6, 3), nn.ReLU())\n",
    "        self.fc3 = nn.Sequential(nn.Linear(3, 1), nn.Sigmoid())\n",
    "\n",
    "    def forward(self, x):\n",
    "        x = self.fc1(x)\n",
    "        x = self.fc2(x)\n",
    "        x = self.fc3(x)\n",
    "        return x"
   ]
  },
  {
   "cell_type": "code",
   "execution_count": 7,
   "id": "678017ed-495b-42d3-b540-6311a4334233",
   "metadata": {
    "tags": []
   },
   "outputs": [],
   "source": [
    "def mlp_train(X_train, y_train, verbose, epochs):\n",
    "    # Initialize the model\n",
    "    model = MLP(X_train.shape[1]).to(device)\n",
    "\n",
    "    # Define the loss function and optimizer\n",
    "    criterion = nn.BCELoss()\n",
    "    optimizer = optim.Adam(model.parameters(), lr=0.001)\n",
    "\n",
    "    if type(X_train) == pd.core.frame.DataFrame:\n",
    "        X_train = X_train.to_numpy()\n",
    "    \n",
    "    # Convert data to PyTorch tensors (assuming X_train and y_train are numpy arrays)\n",
    "    X_train_tensor = torch.from_numpy(X_train.astype(np.float32)).to(device)\n",
    "    y_train_tensor = torch.from_numpy(y_train.to_numpy()).to(device)\n",
    "\n",
    "    # Train the model\n",
    "    epochs = epochs\n",
    "    batch_size = 200\n",
    "    \n",
    "    start_train = time.time()\n",
    "    for epoch in range(epochs):\n",
    "        for i in range(0, len(X_train_tensor), batch_size):\n",
    "            inputs = X_train_tensor[i:i+batch_size]\n",
    "            labels = y_train_tensor[i:i+batch_size]\n",
    "\n",
    "            optimizer.zero_grad()\n",
    "\n",
    "            outputs = model(inputs)\n",
    "            loss = criterion(outputs.squeeze(), labels.float())\n",
    "            loss.backward()\n",
    "            optimizer.step()\n",
    "\n",
    "        # Optionally, print the loss at each epoch\n",
    "        if verbose:\n",
    "            print(f\"Epoch [{epoch + 1}/{epochs}], Loss: {loss.item()}\")\n",
    "\n",
    "    end_train = time.time()\n",
    "    print(\"execution time: \", end_train - start_train)\n",
    "        \n",
    "    return model"
   ]
  },
  {
   "cell_type": "code",
   "execution_count": 8,
   "id": "736098df-9c29-4395-9349-d81f4064aaac",
   "metadata": {
    "tags": []
   },
   "outputs": [],
   "source": [
    "def cross_validation(X, y, group, verbose, epochs):\n",
    "    test_kfold, train_kfold = stratified_under_sample(group, 10, 12)\n",
    "    '''\n",
    "    if type(X) == pd.core.frame.DataFrame:\n",
    "        X = X.to_numpy()\n",
    "    '''\n",
    "    cvscores = []\n",
    "\n",
    "    start_cv = time.time()\n",
    "    for test, train in zip(test_kfold, train_kfold):\n",
    "        X_train = scaler.transform(X.loc[train])\n",
    "        X_test = scaler.transform(X.loc[test])\n",
    "        \n",
    "        # rimuovere validation a ogni turno\n",
    "        model = mlp_train(X_train, y[train], False, epochs)\n",
    "        \n",
    "        with torch.no_grad():\n",
    "            model.eval()\n",
    "            X_test_tensor = torch.from_numpy(X_test.astype(np.float32)).to(device)\n",
    "            y_predicted = (model(X_test_tensor) >= 0.5).squeeze().cpu()\n",
    "            \n",
    "            cvscores.append(metrics.f1_score(y[test], y_predicted))\n",
    "    end_cv = time.time()    \n",
    "    \n",
    "    return np.mean(cvscores), np.std(cvscores), end_cv - start_cv"
   ]
  },
  {
   "cell_type": "code",
   "execution_count": 9,
   "id": "9132c465-06a9-4d86-9ee0-baafe61ed045",
   "metadata": {
    "tags": []
   },
   "outputs": [],
   "source": [
    "with open('mlp_data/ds.pickle', 'rb') as handle:\n",
    "    ds = pickle.load(handle)\n",
    "\n",
    "with open('mlp_data/model.pickle', 'rb') as handle:\n",
    "    model = pickle.load(handle)\n",
    "    \n",
    "with open('mlp_data/kernel_exp.pickle', 'rb') as handle:\n",
    "    exp = pickle.load(handle)"
   ]
  },
  {
   "cell_type": "code",
   "execution_count": 10,
   "id": "bbfa2b16-3d04-4d88-9e12-ae1b4065a8e4",
   "metadata": {
    "tags": []
   },
   "outputs": [],
   "source": [
    "category_size = 3279\n",
    "sampling_weights = {'Background': category_size * 2, 'Benign': category_size * 2, 'XMRIGCC CryptoMiner': category_size, 'Probing': category_size, 'Bruteforce': category_size, 'Bruteforce-XML': category_size}\n",
    "\n",
    "rus = RandomUnderSampler(random_state=42, sampling_strategy=sampling_weights)\n",
    "X_res, y_res = rus.fit_resample(ds[x_features], ds.traffic_category)"
   ]
  },
  {
   "cell_type": "code",
   "execution_count": 11,
   "id": "1adc129b-d647-41e4-b2d6-1eca437d5260",
   "metadata": {
    "tags": []
   },
   "outputs": [
    {
     "data": {
      "text/html": [
       "<style>#sk-container-id-1 {color: black;}#sk-container-id-1 pre{padding: 0;}#sk-container-id-1 div.sk-toggleable {background-color: white;}#sk-container-id-1 label.sk-toggleable__label {cursor: pointer;display: block;width: 100%;margin-bottom: 0;padding: 0.3em;box-sizing: border-box;text-align: center;}#sk-container-id-1 label.sk-toggleable__label-arrow:before {content: \"▸\";float: left;margin-right: 0.25em;color: #696969;}#sk-container-id-1 label.sk-toggleable__label-arrow:hover:before {color: black;}#sk-container-id-1 div.sk-estimator:hover label.sk-toggleable__label-arrow:before {color: black;}#sk-container-id-1 div.sk-toggleable__content {max-height: 0;max-width: 0;overflow: hidden;text-align: left;background-color: #f0f8ff;}#sk-container-id-1 div.sk-toggleable__content pre {margin: 0.2em;color: black;border-radius: 0.25em;background-color: #f0f8ff;}#sk-container-id-1 input.sk-toggleable__control:checked~div.sk-toggleable__content {max-height: 200px;max-width: 100%;overflow: auto;}#sk-container-id-1 input.sk-toggleable__control:checked~label.sk-toggleable__label-arrow:before {content: \"▾\";}#sk-container-id-1 div.sk-estimator input.sk-toggleable__control:checked~label.sk-toggleable__label {background-color: #d4ebff;}#sk-container-id-1 div.sk-label input.sk-toggleable__control:checked~label.sk-toggleable__label {background-color: #d4ebff;}#sk-container-id-1 input.sk-hidden--visually {border: 0;clip: rect(1px 1px 1px 1px);clip: rect(1px, 1px, 1px, 1px);height: 1px;margin: -1px;overflow: hidden;padding: 0;position: absolute;width: 1px;}#sk-container-id-1 div.sk-estimator {font-family: monospace;background-color: #f0f8ff;border: 1px dotted black;border-radius: 0.25em;box-sizing: border-box;margin-bottom: 0.5em;}#sk-container-id-1 div.sk-estimator:hover {background-color: #d4ebff;}#sk-container-id-1 div.sk-parallel-item::after {content: \"\";width: 100%;border-bottom: 1px solid gray;flex-grow: 1;}#sk-container-id-1 div.sk-label:hover label.sk-toggleable__label {background-color: #d4ebff;}#sk-container-id-1 div.sk-serial::before {content: \"\";position: absolute;border-left: 1px solid gray;box-sizing: border-box;top: 0;bottom: 0;left: 50%;z-index: 0;}#sk-container-id-1 div.sk-serial {display: flex;flex-direction: column;align-items: center;background-color: white;padding-right: 0.2em;padding-left: 0.2em;position: relative;}#sk-container-id-1 div.sk-item {position: relative;z-index: 1;}#sk-container-id-1 div.sk-parallel {display: flex;align-items: stretch;justify-content: center;background-color: white;position: relative;}#sk-container-id-1 div.sk-item::before, #sk-container-id-1 div.sk-parallel-item::before {content: \"\";position: absolute;border-left: 1px solid gray;box-sizing: border-box;top: 0;bottom: 0;left: 50%;z-index: -1;}#sk-container-id-1 div.sk-parallel-item {display: flex;flex-direction: column;z-index: 1;position: relative;background-color: white;}#sk-container-id-1 div.sk-parallel-item:first-child::after {align-self: flex-end;width: 50%;}#sk-container-id-1 div.sk-parallel-item:last-child::after {align-self: flex-start;width: 50%;}#sk-container-id-1 div.sk-parallel-item:only-child::after {width: 0;}#sk-container-id-1 div.sk-dashed-wrapped {border: 1px dashed gray;margin: 0 0.4em 0.5em 0.4em;box-sizing: border-box;padding-bottom: 0.4em;background-color: white;}#sk-container-id-1 div.sk-label label {font-family: monospace;font-weight: bold;display: inline-block;line-height: 1.2em;}#sk-container-id-1 div.sk-label-container {text-align: center;}#sk-container-id-1 div.sk-container {/* jupyter's `normalize.less` sets `[hidden] { display: none; }` but bootstrap.min.css set `[hidden] { display: none !important; }` so we also need the `!important` here to be able to override the default hidden behavior on the sphinx rendered scikit-learn.org. See: https://github.com/scikit-learn/scikit-learn/issues/21755 */display: inline-block !important;position: relative;}#sk-container-id-1 div.sk-text-repr-fallback {display: none;}</style><div id=\"sk-container-id-1\" class=\"sk-top-container\"><div class=\"sk-text-repr-fallback\"><pre>StandardScaler()</pre><b>In a Jupyter environment, please rerun this cell to show the HTML representation or trust the notebook. <br />On GitHub, the HTML representation is unable to render, please try loading this page with nbviewer.org.</b></div><div class=\"sk-container\" hidden><div class=\"sk-item\"><div class=\"sk-estimator sk-toggleable\"><input class=\"sk-toggleable__control sk-hidden--visually\" id=\"sk-estimator-id-1\" type=\"checkbox\" checked><label for=\"sk-estimator-id-1\" class=\"sk-toggleable__label sk-toggleable__label-arrow\">StandardScaler</label><div class=\"sk-toggleable__content\"><pre>StandardScaler()</pre></div></div></div></div></div>"
      ],
      "text/plain": [
       "StandardScaler()"
      ]
     },
     "execution_count": 11,
     "metadata": {},
     "output_type": "execute_result"
    }
   ],
   "source": [
    "scaler = StandardScaler()\n",
    "scaler.fit(ds[x_features])"
   ]
  },
  {
   "cell_type": "code",
   "execution_count": 12,
   "id": "e4055c0f-4d32-44e5-98fd-524d79583b6f",
   "metadata": {
    "tags": []
   },
   "outputs": [
    {
     "data": {
      "image/png": "[encoded data removed]",
      "text/plain": [
       "<Figure size 800x950 with 1 Axes>"
      ]
     },
     "metadata": {},
     "output_type": "display_data"
    }
   ],
   "source": [
    "shap.summary_plot(exp, max_display=20)"
   ]
  },
  {
   "cell_type": "code",
   "execution_count": 14,
   "id": "039a6b22-452a-4e16-bac3-0a3787f4be7c",
   "metadata": {
    "tags": []
   },
   "outputs": [
    {
     "data": {
      "text/html": [
       "<div>\n",
       "<style scoped>\n",
       "    .dataframe tbody tr th:only-of-type {\n",
       "        vertical-align: middle;\n",
       "    }\n",
       "\n",
       "    .dataframe tbody tr th {\n",
       "        vertical-align: top;\n",
       "    }\n",
       "\n",
       "    .dataframe thead th {\n",
       "        text-align: right;\n",
       "    }\n",
       "</style>\n",
       "<table border=\"1\" class=\"dataframe\">\n",
       "  <thead>\n",
       "    <tr style=\"text-align: right;\">\n",
       "      <th></th>\n",
       "      <th>importance</th>\n",
       "      <th>feature</th>\n",
       "    </tr>\n",
       "  </thead>\n",
       "  <tbody>\n",
       "    <tr>\n",
       "      <th>56</th>\n",
       "      <td>0.034727</td>\n",
       "      <td>fwd_subflow_pkts</td>\n",
       "    </tr>\n",
       "    <tr>\n",
       "      <th>28</th>\n",
       "      <td>0.034205</td>\n",
       "      <td>fwd_pkts_payload.avg</td>\n",
       "    </tr>\n",
       "    <tr>\n",
       "      <th>63</th>\n",
       "      <td>0.032280</td>\n",
       "      <td>bwd_bulk_packets</td>\n",
       "    </tr>\n",
       "    <tr>\n",
       "      <th>55</th>\n",
       "      <td>0.025664</td>\n",
       "      <td>payload_bytes_per_second</td>\n",
       "    </tr>\n",
       "    <tr>\n",
       "      <th>41</th>\n",
       "      <td>0.024461</td>\n",
       "      <td>fwd_iat.max</td>\n",
       "    </tr>\n",
       "    <tr>\n",
       "      <th>61</th>\n",
       "      <td>0.022606</td>\n",
       "      <td>bwd_bulk_bytes</td>\n",
       "    </tr>\n",
       "    <tr>\n",
       "      <th>48</th>\n",
       "      <td>0.021343</td>\n",
       "      <td>bwd_iat.avg</td>\n",
       "    </tr>\n",
       "    <tr>\n",
       "      <th>13</th>\n",
       "      <td>0.020709</td>\n",
       "      <td>bwd_header_size_min</td>\n",
       "    </tr>\n",
       "    <tr>\n",
       "      <th>52</th>\n",
       "      <td>0.019980</td>\n",
       "      <td>flow_iat.tot</td>\n",
       "    </tr>\n",
       "    <tr>\n",
       "      <th>47</th>\n",
       "      <td>0.019465</td>\n",
       "      <td>bwd_iat.tot</td>\n",
       "    </tr>\n",
       "    <tr>\n",
       "      <th>42</th>\n",
       "      <td>0.018594</td>\n",
       "      <td>fwd_iat.tot</td>\n",
       "    </tr>\n",
       "    <tr>\n",
       "      <th>26</th>\n",
       "      <td>0.017738</td>\n",
       "      <td>fwd_pkts_payload.max</td>\n",
       "    </tr>\n",
       "    <tr>\n",
       "      <th>59</th>\n",
       "      <td>0.017617</td>\n",
       "      <td>bwd_subflow_bytes</td>\n",
       "    </tr>\n",
       "    <tr>\n",
       "      <th>46</th>\n",
       "      <td>0.017441</td>\n",
       "      <td>bwd_iat.max</td>\n",
       "    </tr>\n",
       "    <tr>\n",
       "      <th>0</th>\n",
       "      <td>0.017311</td>\n",
       "      <td>flow_duration</td>\n",
       "    </tr>\n",
       "    <tr>\n",
       "      <th>9</th>\n",
       "      <td>0.017147</td>\n",
       "      <td>fwd_header_size_tot</td>\n",
       "    </tr>\n",
       "    <tr>\n",
       "      <th>19</th>\n",
       "      <td>0.017056</td>\n",
       "      <td>bwd_PSH_flag_count</td>\n",
       "    </tr>\n",
       "    <tr>\n",
       "      <th>38</th>\n",
       "      <td>0.016525</td>\n",
       "      <td>flow_pkts_payload.avg</td>\n",
       "    </tr>\n",
       "    <tr>\n",
       "      <th>66</th>\n",
       "      <td>0.016113</td>\n",
       "      <td>active.min</td>\n",
       "    </tr>\n",
       "    <tr>\n",
       "      <th>60</th>\n",
       "      <td>0.014573</td>\n",
       "      <td>fwd_bulk_bytes</td>\n",
       "    </tr>\n",
       "  </tbody>\n",
       "</table>\n",
       "</div>"
      ],
      "text/plain": [
       "    importance                   feature\n",
       "56    0.034727          fwd_subflow_pkts\n",
       "28    0.034205      fwd_pkts_payload.avg\n",
       "63    0.032280          bwd_bulk_packets\n",
       "55    0.025664  payload_bytes_per_second\n",
       "41    0.024461               fwd_iat.max\n",
       "61    0.022606            bwd_bulk_bytes\n",
       "48    0.021343               bwd_iat.avg\n",
       "13    0.020709       bwd_header_size_min\n",
       "52    0.019980              flow_iat.tot\n",
       "47    0.019465               bwd_iat.tot\n",
       "42    0.018594               fwd_iat.tot\n",
       "26    0.017738      fwd_pkts_payload.max\n",
       "59    0.017617         bwd_subflow_bytes\n",
       "46    0.017441               bwd_iat.max\n",
       "0     0.017311             flow_duration\n",
       "9     0.017147       fwd_header_size_tot\n",
       "19    0.017056        bwd_PSH_flag_count\n",
       "38    0.016525     flow_pkts_payload.avg\n",
       "66    0.016113                active.min\n",
       "60    0.014573            fwd_bulk_bytes"
      ]
     },
     "execution_count": 14,
     "metadata": {},
     "output_type": "execute_result"
    }
   ],
   "source": [
    "feature_importance = pd.DataFrame(data={'importance' : exp[0].abs.mean(0).values, 'feature': x_features})\n",
    "feature_importance.sort_values('importance',ascending=False).head(20)"
   ]
  },
  {
   "cell_type": "code",
   "execution_count": 15,
   "id": "3a712266-86f7-498d-aee7-6a3ea658cde6",
   "metadata": {
    "tags": []
   },
   "outputs": [],
   "source": [
    "feature_above_zero = feature_importance.query('importance > 0').sort_values('importance',ascending=False)['feature'].to_list()"
   ]
  },
  {
   "cell_type": "code",
   "execution_count": 27,
   "id": "24bbd39d-4062-4935-b22d-9a837379cbeb",
   "metadata": {
    "scrolled": true,
    "tags": []
   },
   "outputs": [
    {
     "name": "stdout",
     "output_type": "stream",
     "text": [
      "execution time:  14.186438798904419\n",
      "execution time:  14.518194675445557\n",
      "execution time:  14.938334941864014\n",
      "execution time:  14.84190559387207\n",
      "execution time:  14.989662408828735\n",
      "execution time:  15.209470510482788\n",
      "execution time:  17.64571762084961\n",
      "execution time:  17.376767873764038\n",
      "execution time:  15.377801656723022\n",
      "execution time:  15.997284412384033\n",
      "execution time:  15.48797059059143\n",
      "execution time:  16.379051208496094\n",
      "execution time:  18.161205053329468\n",
      "execution time:  17.994620323181152\n",
      "execution time:  17.35856032371521\n",
      "execution time:  15.540313720703125\n",
      "execution time:  15.414971828460693\n",
      "execution time:  17.05682110786438\n",
      "execution time:  17.46344256401062\n",
      "execution time:  18.753684759140015\n",
      "testing with 2 features\n",
      "execution time:  16.03272032737732\n",
      "execution time:  16.320013761520386\n",
      "execution time:  14.45509386062622\n",
      "execution time:  14.418349266052246\n",
      "execution time:  14.161381959915161\n",
      "execution time:  14.278037786483765\n",
      "execution time:  14.353712320327759\n",
      "execution time:  14.256823301315308\n",
      "execution time:  14.54840087890625\n",
      "execution time:  14.356599569320679\n",
      "testing with 2 features\n",
      "execution time:  14.302648544311523\n",
      "execution time:  14.306361436843872\n",
      "execution time:  14.291889905929565\n",
      "execution time:  14.17280387878418\n",
      "execution time:  14.663533449172974\n",
      "execution time:  14.651312828063965\n",
      "execution time:  14.430090188980103\n",
      "execution time:  14.281681776046753\n",
      "execution time:  14.264350175857544\n",
      "execution time:  14.398580312728882\n",
      "CPU times: user 41min 14s, sys: 4.55 s, total: 41min 18s\n",
      "Wall time: 10min 32s\n"
     ]
    }
   ],
   "source": [
    "%%time\n",
    "\n",
    "# since I'm using only two tree it make sense to split the job on multiple cores\n",
    "# so each forest will take two cores since it have two tree on it and then I will run along side other 6 forest in order to use all the cores\n",
    "def get_score(features):\n",
    "    X = X_res[features]\n",
    "    y = ds.loc[y_res.index].Label\n",
    "    cv_mean, cv_std, cv_time = cross_validation(X, y, y_res, 0, 131)\n",
    "    return cv_mean, cv_std, len(features), cv_time\n",
    "\n",
    "def recursive_reduction():\n",
    "    scores = []\n",
    "    score_std = []\n",
    "    n_features = []\n",
    "    cv_time = []\n",
    "\n",
    "    global scaler\n",
    "    scaler.fit(ds[['fwd_iat.tot']])\n",
    "\n",
    "    # making a warm up run otherwise the first one will be always slower than the others\n",
    "    # only one features so that it can be as fast as possibile\n",
    "    get_score(['fwd_iat.tot'])\n",
    "\n",
    "    scaler.fit(ds[feature_above_zero])\n",
    "    result = get_score(feature_above_zero)\n",
    "    scores.append(result[0])\n",
    "    score_std.append(result[1])\n",
    "    n_features.append(result[2])    \n",
    "    cv_time.append(result[3])\n",
    "    \n",
    "    for i in range(1,len(feature_above_zero)):\n",
    "        print(f\"testing with {len(feature_above_zero[:-i])} features\")\n",
    "        scaler.fit(ds[feature_above_zero[:-i]])\n",
    "        result = get_score(feature_above_zero[:-i])\n",
    "        scores.append(result[0])\n",
    "        score_std.append(result[1])\n",
    "        n_features.append(result[2])\n",
    "        cv_time.append(result[3])\n",
    "        \n",
    "    return scores, score_std, n_features, cv_time\n",
    "\n",
    "result = recursive_reduction()\n",
    "feature_reduction_scores = pd.DataFrame({'F1_score': result[0], 'score_std': result[1], 'n_features': result[2], 'cv_time': result[3]})"
   ]
  },
  {
   "cell_type": "code",
   "execution_count": 17,
   "id": "5ec4b47c-0342-4b58-a3f5-8e12fd881d9a",
   "metadata": {
    "tags": []
   },
   "outputs": [],
   "source": [
    "load = True\n",
    "\n",
    "if load:\n",
    "    with open('mlp_data/feature_reduction_scores_kernel.pickle', 'rb') as handle:\n",
    "        feature_reduction_scores = pickle.load(handle)\n",
    "else:\n",
    "    with open('mlp_data/feature_reduction_scores_kernel.pickle', 'wb') as handle:\n",
    "        pickle.dump(feature_reduction_scores, handle, protocol=pickle.HIGHEST_PROTOCOL)"
   ]
  },
  {
   "cell_type": "code",
   "execution_count": 18,
   "id": "2abe184f-7c7c-4e51-be1c-d6853896fdfa",
   "metadata": {
    "tags": []
   },
   "outputs": [
    {
     "data": {
      "text/plain": [
       "<Axes: xlabel='n_features', ylabel='cv_time'>"
      ]
     },
     "execution_count": 18,
     "metadata": {},
     "output_type": "execute_result"
    },
    {
     "data": {
      "image/png": "[encoded data removed]",
      "text/plain": [
       "<Figure size 640x480 with 1 Axes>"
      ]
     },
     "metadata": {},
     "output_type": "display_data"
    }
   ],
   "source": [
    "sns.set_theme()\n",
    "sns.lineplot(data=feature_reduction_scores, x=\"n_features\", y=\"cv_time\")\n",
    "sns.regplot(data=feature_reduction_scores, x=\"n_features\", y=\"cv_time\", ci=None)  # ci=None removes confidence intervals"
   ]
  },
  {
   "cell_type": "code",
   "execution_count": 19,
   "id": "e438223f-356f-4147-9f04-e845b1d6decf",
   "metadata": {
    "tags": []
   },
   "outputs": [
    {
     "data": {
      "text/plain": [
       "<Axes: xlabel='n_features', ylabel='F1_score'>"
      ]
     },
     "execution_count": 19,
     "metadata": {},
     "output_type": "execute_result"
    },
    {
     "data": {
      "image/png": "[encoded data removed]",
      "text/plain": [
       "<Figure size 640x480 with 1 Axes>"
      ]
     },
     "metadata": {},
     "output_type": "display_data"
    }
   ],
   "source": [
    "sns.set_theme()\n",
    "sns.lineplot(data=feature_reduction_scores, x=\"n_features\", y=\"F1_score\")"
   ]
  },
  {
   "cell_type": "code",
   "execution_count": 20,
   "id": "1fea4a2c-abbf-4c26-a3da-44e862615e5b",
   "metadata": {
    "tags": []
   },
   "outputs": [
    {
     "data": {
      "text/plain": [
       "<Axes: xlabel='n_features', ylabel='score_std'>"
      ]
     },
     "execution_count": 20,
     "metadata": {},
     "output_type": "execute_result"
    },
    {
     "data": {
      "image/png": "[encoded data removed]",
      "text/plain": [
       "<Figure size 640x480 with 1 Axes>"
      ]
     },
     "metadata": {},
     "output_type": "display_data"
    }
   ],
   "source": [
    "sns.set_theme()\n",
    "sns.lineplot(data=feature_reduction_scores, x=\"n_features\", y=\"score_std\")"
   ]
  },
  {
   "cell_type": "code",
   "execution_count": 21,
   "id": "9ab6ac6f-f004-4bd1-8ac3-f2203f8030e4",
   "metadata": {
    "tags": []
   },
   "outputs": [
    {
     "data": {
      "text/html": [
       "<div>\n",
       "<style scoped>\n",
       "    .dataframe tbody tr th:only-of-type {\n",
       "        vertical-align: middle;\n",
       "    }\n",
       "\n",
       "    .dataframe tbody tr th {\n",
       "        vertical-align: top;\n",
       "    }\n",
       "\n",
       "    .dataframe thead th {\n",
       "        text-align: right;\n",
       "    }\n",
       "</style>\n",
       "<table border=\"1\" class=\"dataframe\">\n",
       "  <thead>\n",
       "    <tr style=\"text-align: right;\">\n",
       "      <th></th>\n",
       "      <th>F1_score</th>\n",
       "      <th>score_std</th>\n",
       "      <th>n_features</th>\n",
       "      <th>cv_time</th>\n",
       "    </tr>\n",
       "  </thead>\n",
       "  <tbody>\n",
       "    <tr>\n",
       "      <th>30</th>\n",
       "      <td>0.940220</td>\n",
       "      <td>0.003627</td>\n",
       "      <td>49</td>\n",
       "      <td>176.463298</td>\n",
       "    </tr>\n",
       "    <tr>\n",
       "      <th>27</th>\n",
       "      <td>0.940048</td>\n",
       "      <td>0.003414</td>\n",
       "      <td>52</td>\n",
       "      <td>194.485320</td>\n",
       "    </tr>\n",
       "    <tr>\n",
       "      <th>3</th>\n",
       "      <td>0.939771</td>\n",
       "      <td>0.003815</td>\n",
       "      <td>76</td>\n",
       "      <td>232.294896</td>\n",
       "    </tr>\n",
       "    <tr>\n",
       "      <th>0</th>\n",
       "      <td>0.939728</td>\n",
       "      <td>0.004467</td>\n",
       "      <td>79</td>\n",
       "      <td>190.907334</td>\n",
       "    </tr>\n",
       "    <tr>\n",
       "      <th>9</th>\n",
       "      <td>0.939476</td>\n",
       "      <td>0.004542</td>\n",
       "      <td>70</td>\n",
       "      <td>104.375099</td>\n",
       "    </tr>\n",
       "    <tr>\n",
       "      <th>...</th>\n",
       "      <td>...</td>\n",
       "      <td>...</td>\n",
       "      <td>...</td>\n",
       "      <td>...</td>\n",
       "    </tr>\n",
       "    <tr>\n",
       "      <th>75</th>\n",
       "      <td>0.877686</td>\n",
       "      <td>0.007598</td>\n",
       "      <td>4</td>\n",
       "      <td>186.967900</td>\n",
       "    </tr>\n",
       "    <tr>\n",
       "      <th>76</th>\n",
       "      <td>0.867344</td>\n",
       "      <td>0.017132</td>\n",
       "      <td>3</td>\n",
       "      <td>185.881265</td>\n",
       "    </tr>\n",
       "    <tr>\n",
       "      <th>68</th>\n",
       "      <td>0.864035</td>\n",
       "      <td>0.150539</td>\n",
       "      <td>11</td>\n",
       "      <td>182.035389</td>\n",
       "    </tr>\n",
       "    <tr>\n",
       "      <th>78</th>\n",
       "      <td>0.838227</td>\n",
       "      <td>0.068636</td>\n",
       "      <td>1</td>\n",
       "      <td>183.933044</td>\n",
       "    </tr>\n",
       "    <tr>\n",
       "      <th>77</th>\n",
       "      <td>0.781977</td>\n",
       "      <td>0.255277</td>\n",
       "      <td>2</td>\n",
       "      <td>185.014979</td>\n",
       "    </tr>\n",
       "  </tbody>\n",
       "</table>\n",
       "<p>79 rows × 4 columns</p>\n",
       "</div>"
      ],
      "text/plain": [
       "    F1_score  score_std  n_features     cv_time\n",
       "30  0.940220   0.003627          49  176.463298\n",
       "27  0.940048   0.003414          52  194.485320\n",
       "3   0.939771   0.003815          76  232.294896\n",
       "0   0.939728   0.004467          79  190.907334\n",
       "9   0.939476   0.004542          70  104.375099\n",
       "..       ...        ...         ...         ...\n",
       "75  0.877686   0.007598           4  186.967900\n",
       "76  0.867344   0.017132           3  185.881265\n",
       "68  0.864035   0.150539          11  182.035389\n",
       "78  0.838227   0.068636           1  183.933044\n",
       "77  0.781977   0.255277           2  185.014979\n",
       "\n",
       "[79 rows x 4 columns]"
      ]
     },
     "execution_count": 21,
     "metadata": {},
     "output_type": "execute_result"
    }
   ],
   "source": [
    "feature_reduction_scores.sort_values('F1_score', ascending=False)"
   ]
  },
  {
   "cell_type": "code",
   "execution_count": 22,
   "id": "11e39608-5851-469e-853e-5b4e4669fa71",
   "metadata": {
    "scrolled": true,
    "tags": []
   },
   "outputs": [
    {
     "name": "stdout",
     "output_type": "stream",
     "text": [
      "traing for  XMRIGCC CryptoMiner\n",
      "training with 79 features\n",
      "execution time:  5.674453496932983\n",
      "execution time:  14.175336122512817\n",
      "execution time:  14.681508779525757\n",
      "execution time:  14.58438229560852\n",
      "execution time:  8.13614559173584\n",
      "execution time:  7.986181735992432\n",
      "execution time:  8.069938659667969\n",
      "execution time:  8.289740324020386\n",
      "execution time:  9.137169599533081\n",
      "execution time:  8.605452060699463\n",
      "execution time:  9.255136966705322\n",
      "execution time:  8.943970203399658\n",
      "training with 78 features\n",
      "execution time:  7.6902101039886475\n",
      "execution time:  8.087034225463867\n",
      "execution time:  7.865734577178955\n",
      "execution time:  10.52326250076294\n",
      "execution time:  8.027709722518921\n",
      "execution time:  8.261245012283325\n",
      "execution time:  7.994387149810791\n",
      "execution time:  8.528512001037598\n",
      "execution time:  8.562087535858154\n",
      "execution time:  8.751326084136963\n",
      "execution time:  9.214056968688965\n",
      "training with 77 features\n",
      "execution time:  7.8670995235443115\n",
      "execution time:  8.11824655532837\n",
      "execution time:  8.04944396018982\n",
      "execution time:  8.691745519638062\n",
      "execution time:  10.934907913208008\n",
      "execution time:  9.016627788543701\n",
      "execution time:  10.385088682174683\n",
      "execution time:  8.925278663635254\n",
      "execution time:  9.389668226242065\n",
      "execution time:  11.060424089431763\n",
      "execution time:  14.004002094268799\n"
     ]
    },
    {
     "name": "stderr",
     "output_type": "stream",
     "text": [
      "Precision is ill-defined and being set to 0.0 due to no predicted samples. Use `zero_division` parameter to control this behavior.\n"
     ]
    },
    {
     "name": "stdout",
     "output_type": "stream",
     "text": [
      "training with 76 features\n",
      "execution time:  8.427656650543213\n",
      "execution time:  8.325188875198364\n",
      "execution time:  8.10513949394226\n",
      "execution time:  12.515936613082886\n",
      "execution time:  11.676308870315552\n",
      "execution time:  10.593810081481934\n",
      "execution time:  8.216581583023071\n",
      "execution time:  8.41988492012024\n",
      "execution time:  8.867332458496094\n",
      "execution time:  8.777086734771729\n",
      "execution time:  9.441608667373657\n"
     ]
    },
    {
     "name": "stderr",
     "output_type": "stream",
     "text": [
      "Precision is ill-defined and being set to 0.0 due to no predicted samples. Use `zero_division` parameter to control this behavior.\n"
     ]
    },
    {
     "name": "stdout",
     "output_type": "stream",
     "text": [
      "training with 75 features\n",
      "execution time:  8.553956031799316\n",
      "execution time:  8.825546741485596\n",
      "execution time:  8.898615598678589\n",
      "execution time:  8.919610500335693\n",
      "execution time:  9.29435658454895\n",
      "execution time:  9.055564641952515\n",
      "execution time:  11.593392848968506\n",
      "execution time:  15.535780191421509\n",
      "execution time:  16.223652601242065\n",
      "execution time:  15.59782338142395\n",
      "execution time:  9.20420527458191\n"
     ]
    },
    {
     "name": "stderr",
     "output_type": "stream",
     "text": [
      "Precision is ill-defined and being set to 0.0 due to no predicted samples. Use `zero_division` parameter to control this behavior.\n"
     ]
    },
    {
     "name": "stdout",
     "output_type": "stream",
     "text": [
      "training with 74 features\n",
      "execution time:  9.39564561843872\n",
      "execution time:  8.189977169036865\n",
      "execution time:  8.212539434432983\n",
      "execution time:  8.036948204040527\n",
      "execution time:  8.231058597564697\n",
      "execution time:  8.699131488800049\n",
      "execution time:  8.709535121917725\n",
      "execution time:  8.482892513275146\n",
      "execution time:  8.54203724861145\n",
      "execution time:  9.14614486694336\n",
      "execution time:  12.221627950668335\n"
     ]
    },
    {
     "name": "stderr",
     "output_type": "stream",
     "text": [
      "Precision is ill-defined and being set to 0.0 due to no predicted samples. Use `zero_division` parameter to control this behavior.\n"
     ]
    },
    {
     "name": "stdout",
     "output_type": "stream",
     "text": [
      "training with 73 features\n",
      "execution time:  8.7078115940094\n",
      "execution time:  8.19860553741455\n",
      "execution time:  8.064560413360596\n",
      "execution time:  8.986738681793213\n",
      "execution time:  13.993149757385254\n",
      "execution time:  14.69198989868164\n",
      "execution time:  14.690376281738281\n",
      "execution time:  15.298221826553345\n",
      "execution time:  15.41226077079773\n",
      "execution time:  14.656867027282715\n",
      "execution time:  9.575906038284302\n",
      "training with 72 features\n",
      "execution time:  8.023455619812012\n",
      "execution time:  8.202487230300903\n",
      "execution time:  10.436800956726074\n",
      "execution time:  8.125796556472778\n",
      "execution time:  8.040509700775146\n",
      "execution time:  11.119558811187744\n",
      "execution time:  9.866648197174072\n",
      "execution time:  14.787280082702637\n",
      "execution time:  14.911287069320679\n",
      "execution time:  15.611061334609985\n",
      "execution time:  12.072529792785645\n",
      "training with 71 features\n",
      "execution time:  6.336186647415161\n",
      "execution time:  5.990308046340942\n",
      "execution time:  5.547909736633301\n",
      "execution time:  5.619999170303345\n",
      "execution time:  5.534913778305054\n",
      "execution time:  5.511810302734375\n",
      "execution time:  5.65664005279541\n",
      "execution time:  5.916578769683838\n",
      "execution time:  6.1552088260650635\n",
      "execution time:  6.212385177612305\n",
      "execution time:  6.5155839920043945\n"
     ]
    },
    {
     "name": "stderr",
     "output_type": "stream",
     "text": [
      "Precision is ill-defined and being set to 0.0 due to no predicted samples. Use `zero_division` parameter to control this behavior.\n"
     ]
    },
    {
     "name": "stdout",
     "output_type": "stream",
     "text": [
      "training with 70 features\n",
      "execution time:  4.651165962219238\n",
      "execution time:  4.775414228439331\n",
      "execution time:  4.8061957359313965\n",
      "execution time:  5.096112012863159\n",
      "execution time:  4.791080951690674\n",
      "execution time:  4.787735939025879\n",
      "execution time:  4.907614469528198\n",
      "execution time:  4.996220111846924\n",
      "execution time:  5.342490196228027\n",
      "execution time:  5.269593715667725\n",
      "execution time:  5.556561708450317\n",
      "training with 69 features\n",
      "execution time:  4.804433822631836\n",
      "execution time:  4.810222387313843\n",
      "execution time:  4.861630916595459\n",
      "execution time:  4.795283555984497\n",
      "execution time:  4.989820718765259\n",
      "execution time:  4.799759387969971\n",
      "execution time:  4.798058986663818\n",
      "execution time:  5.198735475540161\n",
      "execution time:  5.0869317054748535\n",
      "execution time:  5.139837980270386\n",
      "execution time:  5.559988498687744\n",
      "training with 68 features\n",
      "execution time:  4.729649066925049\n",
      "execution time:  4.953830003738403\n",
      "execution time:  4.843451499938965\n",
      "execution time:  4.768853664398193\n",
      "execution time:  4.850480556488037\n",
      "execution time:  4.968325138092041\n",
      "execution time:  4.782982587814331\n",
      "execution time:  4.941932201385498\n",
      "execution time:  5.279405832290649\n",
      "execution time:  5.138282060623169\n",
      "execution time:  5.509016752243042\n"
     ]
    },
    {
     "name": "stderr",
     "output_type": "stream",
     "text": [
      "Precision is ill-defined and being set to 0.0 due to no predicted samples. Use `zero_division` parameter to control this behavior.\n"
     ]
    },
    {
     "name": "stdout",
     "output_type": "stream",
     "text": [
      "training with 67 features\n",
      "execution time:  10.256916522979736\n",
      "execution time:  10.54298996925354\n",
      "execution time:  10.52162480354309\n",
      "execution time:  10.387571811676025\n",
      "execution time:  10.639986753463745\n",
      "execution time:  4.882819175720215\n",
      "execution time:  4.952058792114258\n",
      "execution time:  5.068024396896362\n",
      "execution time:  5.2118847370147705\n",
      "execution time:  5.2006940841674805\n",
      "execution time:  5.46256160736084\n",
      "training with 66 features\n",
      "execution time:  4.74975848197937\n",
      "execution time:  4.8473851680755615\n",
      "execution time:  4.8713319301605225\n",
      "execution time:  4.962932586669922\n",
      "execution time:  5.31015682220459\n",
      "execution time:  4.791398048400879\n",
      "execution time:  4.846064567565918\n",
      "execution time:  5.160694360733032\n",
      "execution time:  5.165280818939209\n",
      "execution time:  5.2363121509552\n",
      "execution time:  5.615652799606323\n",
      "training with 65 features\n",
      "execution time:  4.698767185211182\n",
      "execution time:  4.821608781814575\n",
      "execution time:  4.810467958450317\n",
      "execution time:  4.817467212677002\n",
      "execution time:  4.924264907836914\n",
      "execution time:  4.757311582565308\n",
      "execution time:  4.831415891647339\n",
      "execution time:  4.897276401519775\n",
      "execution time:  5.258479356765747\n",
      "execution time:  5.13162088394165\n",
      "execution time:  5.410887718200684\n",
      "training with 64 features\n",
      "execution time:  4.54254674911499\n",
      "execution time:  4.7574522495269775\n",
      "execution time:  4.849562644958496\n",
      "execution time:  4.720936059951782\n",
      "execution time:  4.779839754104614\n",
      "execution time:  4.768927097320557\n",
      "execution time:  4.945172071456909\n",
      "execution time:  4.950471878051758\n",
      "execution time:  5.258572578430176\n",
      "execution time:  6.636289596557617\n",
      "execution time:  7.03408670425415\n"
     ]
    },
    {
     "name": "stderr",
     "output_type": "stream",
     "text": [
      "Precision is ill-defined and being set to 0.0 due to no predicted samples. Use `zero_division` parameter to control this behavior.\n"
     ]
    },
    {
     "name": "stdout",
     "output_type": "stream",
     "text": [
      "training with 63 features\n",
      "execution time:  5.6946117877960205\n",
      "execution time:  5.851851463317871\n",
      "execution time:  6.07480525970459\n",
      "execution time:  6.204371690750122\n",
      "execution time:  6.0389487743377686\n",
      "execution time:  5.903381109237671\n",
      "execution time:  5.746129274368286\n",
      "execution time:  6.248311758041382\n",
      "execution time:  6.246656656265259\n",
      "execution time:  6.14141058921814\n",
      "execution time:  6.576265335083008\n",
      "training with 62 features\n",
      "execution time:  5.620864391326904\n",
      "execution time:  5.88234543800354\n",
      "execution time:  5.761647701263428\n",
      "execution time:  5.724403142929077\n",
      "execution time:  5.792135000228882\n",
      "execution time:  5.71438193321228\n",
      "execution time:  5.802748441696167\n",
      "execution time:  6.087016582489014\n",
      "execution time:  6.17539119720459\n",
      "execution time:  6.240415573120117\n",
      "execution time:  6.507426977157593\n"
     ]
    },
    {
     "name": "stderr",
     "output_type": "stream",
     "text": [
      "Precision is ill-defined and being set to 0.0 due to no predicted samples. Use `zero_division` parameter to control this behavior.\n"
     ]
    },
    {
     "name": "stdout",
     "output_type": "stream",
     "text": [
      "training with 61 features\n",
      "execution time:  5.713197946548462\n",
      "execution time:  5.710729598999023\n",
      "execution time:  5.707789421081543\n",
      "execution time:  5.792033672332764\n",
      "execution time:  5.671901226043701\n",
      "execution time:  5.73199725151062\n",
      "execution time:  5.747864484786987\n",
      "execution time:  5.942859888076782\n",
      "execution time:  6.249942064285278\n",
      "execution time:  6.115339756011963\n",
      "execution time:  6.475187540054321\n"
     ]
    },
    {
     "name": "stderr",
     "output_type": "stream",
     "text": [
      "Precision is ill-defined and being set to 0.0 due to no predicted samples. Use `zero_division` parameter to control this behavior.\n"
     ]
    },
    {
     "name": "stdout",
     "output_type": "stream",
     "text": [
      "training with 60 features\n",
      "execution time:  5.603760242462158\n",
      "execution time:  5.688545227050781\n",
      "execution time:  5.841637849807739\n",
      "execution time:  5.673385858535767\n",
      "execution time:  5.768338918685913\n",
      "execution time:  5.756108283996582\n",
      "execution time:  5.724963426589966\n",
      "execution time:  6.031843185424805\n",
      "execution time:  6.141191005706787\n",
      "execution time:  6.140912055969238\n",
      "execution time:  6.275388479232788\n"
     ]
    },
    {
     "name": "stderr",
     "output_type": "stream",
     "text": [
      "Precision is ill-defined and being set to 0.0 due to no predicted samples. Use `zero_division` parameter to control this behavior.\n"
     ]
    },
    {
     "name": "stdout",
     "output_type": "stream",
     "text": [
      "training with 59 features\n",
      "execution time:  4.594501495361328\n",
      "execution time:  5.014620780944824\n",
      "execution time:  4.758110761642456\n",
      "execution time:  4.796964406967163\n",
      "execution time:  4.832036972045898\n",
      "execution time:  4.759378671646118\n",
      "execution time:  4.970402479171753\n",
      "execution time:  5.052656173706055\n",
      "execution time:  5.255510091781616\n",
      "execution time:  5.156425714492798\n",
      "execution time:  5.463034391403198\n"
     ]
    },
    {
     "name": "stderr",
     "output_type": "stream",
     "text": [
      "Precision is ill-defined and being set to 0.0 due to no predicted samples. Use `zero_division` parameter to control this behavior.\n"
     ]
    },
    {
     "name": "stdout",
     "output_type": "stream",
     "text": [
      "training with 58 features\n",
      "execution time:  4.650334596633911\n",
      "execution time:  4.753396511077881\n",
      "execution time:  4.875884771347046\n",
      "execution time:  4.778623342514038\n",
      "execution time:  4.754794120788574\n",
      "execution time:  4.784959316253662\n",
      "execution time:  4.863780736923218\n",
      "execution time:  10.680196285247803\n",
      "execution time:  5.355215549468994\n",
      "execution time:  5.123811960220337\n",
      "execution time:  5.56698751449585\n",
      "training with 57 features\n",
      "execution time:  4.606051445007324\n",
      "execution time:  4.807848215103149\n",
      "execution time:  4.891863822937012\n",
      "execution time:  4.940842628479004\n",
      "execution time:  4.758988857269287\n",
      "execution time:  4.929622173309326\n",
      "execution time:  4.819610595703125\n",
      "execution time:  4.962425470352173\n",
      "execution time:  5.221136569976807\n",
      "execution time:  5.146141052246094\n",
      "execution time:  5.49478554725647\n",
      "training with 56 features\n",
      "execution time:  4.757733106613159\n",
      "execution time:  4.7888617515563965\n",
      "execution time:  4.781134843826294\n",
      "execution time:  4.909867763519287\n",
      "execution time:  4.766378164291382\n",
      "execution time:  4.773355484008789\n",
      "execution time:  4.898594617843628\n",
      "execution time:  4.936838626861572\n",
      "execution time:  5.177754640579224\n",
      "execution time:  5.281632661819458\n",
      "execution time:  5.468292951583862\n"
     ]
    },
    {
     "name": "stderr",
     "output_type": "stream",
     "text": [
      "Precision is ill-defined and being set to 0.0 due to no predicted samples. Use `zero_division` parameter to control this behavior.\n"
     ]
    },
    {
     "name": "stdout",
     "output_type": "stream",
     "text": [
      "training with 55 features\n",
      "execution time:  4.585967540740967\n",
      "execution time:  4.92702054977417\n",
      "execution time:  7.183809518814087\n",
      "execution time:  10.344683647155762\n",
      "execution time:  10.249357461929321\n",
      "execution time:  10.369176864624023\n",
      "execution time:  10.489465475082397\n",
      "execution time:  10.672559261322021\n",
      "execution time:  11.720256567001343\n",
      "execution time:  11.227232456207275\n",
      "execution time:  12.079349756240845\n"
     ]
    },
    {
     "name": "stderr",
     "output_type": "stream",
     "text": [
      "Precision is ill-defined and being set to 0.0 due to no predicted samples. Use `zero_division` parameter to control this behavior.\n"
     ]
    },
    {
     "name": "stdout",
     "output_type": "stream",
     "text": [
      "training with 54 features\n",
      "execution time:  10.82949423789978\n",
      "execution time:  10.799582958221436\n",
      "execution time:  10.836556196212769\n",
      "execution time:  10.884073734283447\n",
      "execution time:  10.77972412109375\n",
      "execution time:  10.94684100151062\n",
      "execution time:  10.952453374862671\n",
      "execution time:  11.264870166778564\n",
      "execution time:  11.37952208518982\n",
      "execution time:  11.769515991210938\n",
      "execution time:  12.661745071411133\n",
      "training with 53 features\n",
      "execution time:  10.841968774795532\n",
      "execution time:  10.866629123687744\n",
      "execution time:  10.915936946868896\n",
      "execution time:  10.926053524017334\n",
      "execution time:  10.772853374481201\n",
      "execution time:  10.902380466461182\n",
      "execution time:  11.010268926620483\n",
      "execution time:  11.33307695388794\n",
      "execution time:  11.616069793701172\n",
      "execution time:  11.777116060256958\n",
      "execution time:  13.297327756881714\n"
     ]
    },
    {
     "name": "stderr",
     "output_type": "stream",
     "text": [
      "Precision is ill-defined and being set to 0.0 due to no predicted samples. Use `zero_division` parameter to control this behavior.\n"
     ]
    },
    {
     "name": "stdout",
     "output_type": "stream",
     "text": [
      "training with 52 features\n",
      "execution time:  10.83055067062378\n",
      "execution time:  10.929133892059326\n",
      "execution time:  10.757893323898315\n",
      "execution time:  10.91288161277771\n",
      "execution time:  10.895075559616089\n",
      "execution time:  7.162452936172485\n",
      "execution time:  5.6793532371521\n",
      "execution time:  6.029419660568237\n",
      "execution time:  6.078577280044556\n",
      "execution time:  6.168936491012573\n",
      "execution time:  6.472794532775879\n"
     ]
    },
    {
     "name": "stderr",
     "output_type": "stream",
     "text": [
      "Precision is ill-defined and being set to 0.0 due to no predicted samples. Use `zero_division` parameter to control this behavior.\n"
     ]
    },
    {
     "name": "stdout",
     "output_type": "stream",
     "text": [
      "training with 51 features\n",
      "execution time:  5.6591408252716064\n",
      "execution time:  5.66643500328064\n",
      "execution time:  5.6915059089660645\n",
      "execution time:  5.734299182891846\n",
      "execution time:  5.650543689727783\n",
      "execution time:  5.666759490966797\n",
      "execution time:  5.763378620147705\n",
      "execution time:  5.890141248703003\n",
      "execution time:  5.771546363830566\n",
      "execution time:  5.865562677383423\n",
      "execution time:  6.125688791275024\n"
     ]
    },
    {
     "name": "stderr",
     "output_type": "stream",
     "text": [
      "Precision is ill-defined and being set to 0.0 due to no predicted samples. Use `zero_division` parameter to control this behavior.\n"
     ]
    },
    {
     "name": "stdout",
     "output_type": "stream",
     "text": [
      "training with 50 features\n",
      "execution time:  4.678767204284668\n",
      "execution time:  4.71630334854126\n",
      "execution time:  4.716787576675415\n",
      "execution time:  4.836182355880737\n",
      "execution time:  4.840603828430176\n",
      "execution time:  4.9749791622161865\n",
      "execution time:  4.91436767578125\n",
      "execution time:  4.983394622802734\n",
      "execution time:  5.064603328704834\n",
      "execution time:  5.128169059753418\n",
      "execution time:  5.53277850151062\n"
     ]
    },
    {
     "name": "stderr",
     "output_type": "stream",
     "text": [
      "Precision is ill-defined and being set to 0.0 due to no predicted samples. Use `zero_division` parameter to control this behavior.\n"
     ]
    },
    {
     "name": "stdout",
     "output_type": "stream",
     "text": [
      "training with 49 features\n",
      "execution time:  4.647789478302002\n",
      "execution time:  4.8819639682769775\n",
      "execution time:  4.727755308151245\n",
      "execution time:  4.714326858520508\n",
      "execution time:  4.858210563659668\n",
      "execution time:  4.756381273269653\n",
      "execution time:  4.750966787338257\n",
      "execution time:  5.1730406284332275\n",
      "execution time:  5.436895847320557\n",
      "execution time:  5.16911768913269\n",
      "execution time:  5.6508402824401855\n"
     ]
    },
    {
     "name": "stderr",
     "output_type": "stream",
     "text": [
      "Precision is ill-defined and being set to 0.0 due to no predicted samples. Use `zero_division` parameter to control this behavior.\n"
     ]
    },
    {
     "name": "stdout",
     "output_type": "stream",
     "text": [
      "training with 48 features\n",
      "execution time:  4.595350742340088\n",
      "execution time:  4.746871709823608\n",
      "execution time:  4.927394390106201\n",
      "execution time:  4.744572639465332\n",
      "execution time:  4.746886491775513\n",
      "execution time:  4.9045469760894775\n",
      "execution time:  4.751905918121338\n",
      "execution time:  4.930843114852905\n",
      "execution time:  5.266418218612671\n",
      "execution time:  5.127376317977905\n",
      "execution time:  5.406256675720215\n",
      "training with 47 features\n",
      "execution time:  4.780274152755737\n",
      "execution time:  10.324721336364746\n",
      "execution time:  10.3873291015625\n",
      "execution time:  10.412410974502563\n",
      "execution time:  10.297740936279297\n",
      "execution time:  10.455461263656616\n",
      "execution time:  10.381890535354614\n",
      "execution time:  10.652050256729126\n",
      "execution time:  11.167393207550049\n",
      "execution time:  11.17984414100647\n",
      "execution time:  12.589934587478638\n"
     ]
    },
    {
     "name": "stderr",
     "output_type": "stream",
     "text": [
      "Precision is ill-defined and being set to 0.0 due to no predicted samples. Use `zero_division` parameter to control this behavior.\n"
     ]
    },
    {
     "name": "stdout",
     "output_type": "stream",
     "text": [
      "training with 46 features\n",
      "execution time:  10.15763783454895\n",
      "execution time:  10.768150806427002\n",
      "execution time:  10.884588479995728\n",
      "execution time:  10.824162483215332\n",
      "execution time:  10.732377529144287\n",
      "execution time:  10.902285814285278\n",
      "execution time:  10.87557601928711\n",
      "execution time:  11.183454990386963\n",
      "execution time:  11.693906307220459\n",
      "execution time:  11.671051740646362\n",
      "execution time:  12.652676105499268\n"
     ]
    },
    {
     "name": "stderr",
     "output_type": "stream",
     "text": [
      "Precision is ill-defined and being set to 0.0 due to no predicted samples. Use `zero_division` parameter to control this behavior.\n"
     ]
    },
    {
     "name": "stdout",
     "output_type": "stream",
     "text": [
      "training with 45 features\n",
      "execution time:  10.751614093780518\n",
      "execution time:  10.75820803642273\n",
      "execution time:  10.901865720748901\n",
      "execution time:  10.907480001449585\n",
      "execution time:  10.95932149887085\n",
      "execution time:  10.992209672927856\n",
      "execution time:  10.854139566421509\n",
      "execution time:  11.325619220733643\n",
      "execution time:  11.700411558151245\n",
      "execution time:  11.771197319030762\n",
      "execution time:  12.7159743309021\n"
     ]
    },
    {
     "name": "stderr",
     "output_type": "stream",
     "text": [
      "Precision is ill-defined and being set to 0.0 due to no predicted samples. Use `zero_division` parameter to control this behavior.\n"
     ]
    },
    {
     "name": "stdout",
     "output_type": "stream",
     "text": [
      "training with 44 features\n",
      "execution time:  10.481852293014526\n",
      "execution time:  10.603522539138794\n",
      "execution time:  10.8311607837677\n",
      "execution time:  10.857978343963623\n",
      "execution time:  10.750795602798462\n",
      "execution time:  10.900656700134277\n",
      "execution time:  10.873686075210571\n",
      "execution time:  11.249302625656128\n",
      "execution time:  11.724760055541992\n",
      "execution time:  11.795218229293823\n",
      "execution time:  12.70376181602478\n"
     ]
    },
    {
     "name": "stderr",
     "output_type": "stream",
     "text": [
      "Precision is ill-defined and being set to 0.0 due to no predicted samples. Use `zero_division` parameter to control this behavior.\n"
     ]
    },
    {
     "name": "stdout",
     "output_type": "stream",
     "text": [
      "training with 43 features\n",
      "execution time:  10.696890354156494\n",
      "execution time:  10.711895227432251\n",
      "execution time:  10.7184739112854\n",
      "execution time:  10.876687049865723\n",
      "execution time:  10.719409227371216\n",
      "execution time:  10.424177408218384\n",
      "execution time:  10.350250482559204\n",
      "execution time:  10.642091512680054\n",
      "execution time:  11.106935024261475\n",
      "execution time:  11.156113624572754\n",
      "execution time:  11.92634105682373\n",
      "training with 42 features\n",
      "execution time:  10.248124361038208\n",
      "execution time:  10.361531019210815\n",
      "execution time:  10.377685308456421\n",
      "execution time:  10.244333744049072\n",
      "execution time:  10.499427556991577\n",
      "execution time:  10.378100633621216\n",
      "execution time:  10.245901107788086\n",
      "execution time:  10.746838808059692\n",
      "execution time:  11.121022701263428\n",
      "execution time:  10.977134227752686\n",
      "execution time:  12.062601566314697\n",
      "training with 41 features\n",
      "execution time:  10.211065292358398\n",
      "execution time:  10.359153509140015\n",
      "execution time:  10.203580141067505\n",
      "execution time:  10.339853525161743\n",
      "execution time:  10.312937498092651\n",
      "execution time:  10.293763875961304\n",
      "execution time:  10.361592054367065\n",
      "execution time:  10.750097513198853\n",
      "execution time:  10.969293355941772\n",
      "execution time:  11.135611534118652\n",
      "execution time:  12.11029863357544\n"
     ]
    },
    {
     "name": "stderr",
     "output_type": "stream",
     "text": [
      "Precision is ill-defined and being set to 0.0 due to no predicted samples. Use `zero_division` parameter to control this behavior.\n"
     ]
    },
    {
     "name": "stdout",
     "output_type": "stream",
     "text": [
      "training with 40 features\n",
      "execution time:  10.144829750061035\n",
      "execution time:  10.145326137542725\n",
      "execution time:  6.137628555297852\n",
      "execution time:  4.690108299255371\n",
      "execution time:  4.741656541824341\n",
      "execution time:  4.839753150939941\n",
      "execution time:  4.732872724533081\n",
      "execution time:  4.876130819320679\n",
      "execution time:  5.209731340408325\n",
      "execution time:  5.177087306976318\n",
      "execution time:  5.418440580368042\n",
      "training with 39 features\n",
      "execution time:  4.582414388656616\n",
      "execution time:  4.858200550079346\n",
      "execution time:  6.839195013046265\n",
      "execution time:  10.064911365509033\n",
      "execution time:  10.192359447479248\n",
      "execution time:  10.247089624404907\n",
      "execution time:  10.176328897476196\n",
      "execution time:  10.630982875823975\n",
      "execution time:  10.826161861419678\n",
      "execution time:  10.971030473709106\n",
      "execution time:  11.795414447784424\n",
      "training with 38 features\n",
      "execution time:  10.038870573043823\n",
      "execution time:  10.03334641456604\n",
      "execution time:  10.195871114730835\n",
      "execution time:  10.174848556518555\n",
      "execution time:  10.257920026779175\n",
      "execution time:  10.218705892562866\n",
      "execution time:  10.110018014907837\n",
      "execution time:  5.565295934677124\n",
      "execution time:  5.772796392440796\n",
      "execution time:  5.866126537322998\n",
      "execution time:  5.970977544784546\n",
      "training with 37 features\n",
      "execution time:  5.271998405456543\n",
      "execution time:  5.647423982620239\n",
      "execution time:  5.585832834243774\n",
      "execution time:  5.691831350326538\n",
      "execution time:  5.61072301864624\n",
      "execution time:  5.5759687423706055\n",
      "execution time:  5.69249415397644\n",
      "execution time:  5.8190529346466064\n",
      "execution time:  6.111374139785767\n",
      "execution time:  6.099567890167236\n",
      "execution time:  6.366964340209961\n",
      "training with 36 features\n",
      "execution time:  5.495586395263672\n",
      "execution time:  5.60971474647522\n",
      "execution time:  5.694223165512085\n",
      "execution time:  5.569498062133789\n",
      "execution time:  5.794326305389404\n",
      "execution time:  5.712814092636108\n",
      "execution time:  5.592405080795288\n",
      "execution time:  5.814894437789917\n",
      "execution time:  6.137561798095703\n",
      "execution time:  6.036389112472534\n",
      "execution time:  6.502039909362793\n",
      "training with 35 features\n"
     ]
    },
    {
     "name": "stderr",
     "output_type": "stream",
     "text": [
      "Precision is ill-defined and being set to 0.0 due to no predicted samples. Use `zero_division` parameter to control this behavior.\n"
     ]
    },
    {
     "name": "stdout",
     "output_type": "stream",
     "text": [
      "execution time:  4.643904209136963\n",
      "execution time:  4.757775068283081\n",
      "execution time:  4.885254144668579\n",
      "execution time:  4.662519931793213\n",
      "execution time:  4.697866201400757\n",
      "execution time:  4.891347885131836\n",
      "execution time:  4.723519563674927\n",
      "execution time:  4.873915910720825\n",
      "execution time:  5.2048563957214355\n",
      "execution time:  5.123019456863403\n",
      "execution time:  5.399238348007202\n",
      "training with 34 features\n",
      "execution time:  5.644991636276245\n",
      "execution time:  5.65444540977478\n",
      "execution time:  5.752539157867432\n",
      "execution time:  5.6313395500183105\n",
      "execution time:  4.69585108757019\n",
      "execution time:  4.706628084182739\n",
      "execution time:  4.788322687149048\n",
      "execution time:  4.8804402351379395\n",
      "execution time:  5.061082601547241\n",
      "execution time:  5.251051187515259\n",
      "execution time:  5.422593355178833\n",
      "training with 33 features\n"
     ]
    },
    {
     "name": "stderr",
     "output_type": "stream",
     "text": [
      "Precision is ill-defined and being set to 0.0 due to no predicted samples. Use `zero_division` parameter to control this behavior.\n"
     ]
    },
    {
     "name": "stdout",
     "output_type": "stream",
     "text": [
      "execution time:  4.748637676239014\n",
      "execution time:  4.715259790420532\n",
      "execution time:  4.63406777381897\n",
      "execution time:  4.655322551727295\n",
      "execution time:  4.72341775894165\n",
      "execution time:  4.629189729690552\n",
      "execution time:  4.623076677322388\n",
      "execution time:  5.17881178855896\n",
      "execution time:  5.015799283981323\n",
      "execution time:  4.937628507614136\n",
      "execution time:  5.359280347824097\n",
      "training with 32 features\n"
     ]
    },
    {
     "name": "stderr",
     "output_type": "stream",
     "text": [
      "Precision is ill-defined and being set to 0.0 due to no predicted samples. Use `zero_division` parameter to control this behavior.\n"
     ]
    },
    {
     "name": "stdout",
     "output_type": "stream",
     "text": [
      "execution time:  4.594369411468506\n",
      "execution time:  4.803269624710083\n",
      "execution time:  4.678245782852173\n",
      "execution time:  4.594027280807495\n",
      "execution time:  4.596114158630371\n",
      "execution time:  4.765920162200928\n",
      "execution time:  4.613327980041504\n",
      "execution time:  4.77870512008667\n",
      "execution time:  5.0483245849609375\n",
      "execution time:  5.015652656555176\n",
      "execution time:  5.227385997772217\n",
      "training with 31 features\n"
     ]
    },
    {
     "name": "stderr",
     "output_type": "stream",
     "text": [
      "Precision is ill-defined and being set to 0.0 due to no predicted samples. Use `zero_division` parameter to control this behavior.\n"
     ]
    },
    {
     "name": "stdout",
     "output_type": "stream",
     "text": [
      "execution time:  4.766336679458618\n",
      "execution time:  4.690906524658203\n",
      "execution time:  4.595022678375244\n",
      "execution time:  4.711640119552612\n",
      "execution time:  5.5599365234375\n",
      "execution time:  5.750547647476196\n",
      "execution time:  5.72421669960022\n",
      "execution time:  5.821328401565552\n",
      "execution time:  6.011456489562988\n",
      "execution time:  6.114262819290161\n",
      "execution time:  6.319551706314087\n",
      "training with 30 features\n"
     ]
    },
    {
     "name": "stderr",
     "output_type": "stream",
     "text": [
      "Precision is ill-defined and being set to 0.0 due to no predicted samples. Use `zero_division` parameter to control this behavior.\n"
     ]
    },
    {
     "name": "stdout",
     "output_type": "stream",
     "text": [
      "execution time:  4.710812330245972\n",
      "execution time:  4.764659643173218\n",
      "execution time:  4.6189281940460205\n",
      "execution time:  4.723036766052246\n",
      "execution time:  4.600187063217163\n",
      "execution time:  4.583466529846191\n",
      "execution time:  4.662356376647949\n",
      "execution time:  4.743973731994629\n",
      "execution time:  4.9011430740356445\n",
      "execution time:  4.9017863273620605\n",
      "execution time:  5.37043571472168\n",
      "training with 29 features\n"
     ]
    },
    {
     "name": "stderr",
     "output_type": "stream",
     "text": [
      "Precision is ill-defined and being set to 0.0 due to no predicted samples. Use `zero_division` parameter to control this behavior.\n"
     ]
    },
    {
     "name": "stdout",
     "output_type": "stream",
     "text": [
      "execution time:  4.518362522125244\n",
      "execution time:  4.727621555328369\n",
      "execution time:  4.610750675201416\n",
      "execution time:  4.617865800857544\n",
      "execution time:  4.526962518692017\n",
      "execution time:  4.607617616653442\n",
      "execution time:  4.720030069351196\n",
      "execution time:  4.7796525955200195\n",
      "execution time:  4.987084150314331\n",
      "execution time:  4.946872711181641\n",
      "execution time:  5.174771785736084\n",
      "training with 28 features\n",
      "execution time:  5.498915433883667\n",
      "execution time:  5.524345874786377\n",
      "execution time:  5.645673513412476\n",
      "execution time:  5.566384792327881\n",
      "execution time:  5.558594703674316\n",
      "execution time:  5.635708570480347\n",
      "execution time:  5.523741245269775\n",
      "execution time:  5.749905824661255\n",
      "execution time:  6.0367865562438965\n",
      "execution time:  5.937427759170532\n",
      "execution time:  6.3254663944244385\n",
      "training with 27 features\n",
      "execution time:  5.466763019561768\n",
      "execution time:  5.536726713180542\n",
      "execution time:  5.6369640827178955\n",
      "execution time:  5.569365739822388\n",
      "execution time:  5.542197942733765\n",
      "execution time:  5.63473105430603\n",
      "execution time:  5.5414135456085205\n",
      "execution time:  5.839614629745483\n",
      "execution time:  5.9456398487091064\n",
      "execution time:  5.9307334423065186\n",
      "execution time:  6.397443771362305\n",
      "training with 26 features\n"
     ]
    },
    {
     "name": "stderr",
     "output_type": "stream",
     "text": [
      "Precision is ill-defined and being set to 0.0 due to no predicted samples. Use `zero_division` parameter to control this behavior.\n"
     ]
    },
    {
     "name": "stdout",
     "output_type": "stream",
     "text": [
      "execution time:  5.488464593887329\n",
      "execution time:  5.670903205871582\n",
      "execution time:  5.573228597640991\n",
      "execution time:  6.040470838546753\n",
      "execution time:  5.6529412269592285\n",
      "execution time:  5.504683256149292\n",
      "execution time:  5.5227673053741455\n",
      "execution time:  5.826808929443359\n",
      "execution time:  5.922082424163818\n",
      "execution time:  5.965276002883911\n",
      "execution time:  6.337262153625488\n",
      "training with 25 features\n"
     ]
    },
    {
     "name": "stderr",
     "output_type": "stream",
     "text": [
      "Precision is ill-defined and being set to 0.0 due to no predicted samples. Use `zero_division` parameter to control this behavior.\n"
     ]
    },
    {
     "name": "stdout",
     "output_type": "stream",
     "text": [
      "execution time:  5.476961851119995\n",
      "execution time:  5.6314404010772705\n",
      "execution time:  5.604061126708984\n",
      "execution time:  5.626950740814209\n",
      "execution time:  5.538650989532471\n",
      "execution time:  5.536933183670044\n",
      "execution time:  5.622832536697388\n",
      "execution time:  5.7668609619140625\n",
      "execution time:  5.96935248374939\n",
      "execution time:  6.093017578125\n",
      "execution time:  6.300329923629761\n",
      "training with 24 features\n",
      "execution time:  5.577652931213379\n",
      "execution time:  5.585713148117065\n",
      "execution time:  5.5471203327178955\n",
      "execution time:  5.628452301025391\n",
      "execution time:  5.5284364223480225\n",
      "execution time:  5.554490089416504\n",
      "execution time:  5.634003639221191\n",
      "execution time:  5.749897480010986\n",
      "execution time:  6.007791042327881\n",
      "execution time:  5.956672430038452\n",
      "execution time:  6.2700629234313965\n",
      "training with 23 features\n"
     ]
    },
    {
     "name": "stderr",
     "output_type": "stream",
     "text": [
      "Precision is ill-defined and being set to 0.0 due to no predicted samples. Use `zero_division` parameter to control this behavior.\n"
     ]
    },
    {
     "name": "stdout",
     "output_type": "stream",
     "text": [
      "execution time:  5.538229465484619\n",
      "execution time:  5.578057765960693\n",
      "execution time:  5.603309392929077\n",
      "execution time:  5.5059661865234375\n",
      "execution time:  5.494577407836914\n",
      "execution time:  5.611985445022583\n",
      "execution time:  5.507946014404297\n",
      "execution time:  5.7191290855407715\n",
      "execution time:  5.986830949783325\n",
      "execution time:  5.899665117263794\n",
      "execution time:  6.238845348358154\n",
      "training with 22 features\n",
      "execution time:  5.484017372131348\n",
      "execution time:  5.528191566467285\n",
      "execution time:  5.604813814163208\n",
      "execution time:  5.479691028594971\n",
      "execution time:  5.48005747795105\n",
      "execution time:  5.580381870269775\n",
      "execution time:  5.491626024246216\n",
      "execution time:  5.702591180801392\n",
      "execution time:  5.983702898025513\n",
      "execution time:  5.9276041984558105\n",
      "execution time:  6.363970041275024\n",
      "training with 21 features\n"
     ]
    },
    {
     "name": "stderr",
     "output_type": "stream",
     "text": [
      "Precision is ill-defined and being set to 0.0 due to no predicted samples. Use `zero_division` parameter to control this behavior.\n"
     ]
    },
    {
     "name": "stdout",
     "output_type": "stream",
     "text": [
      "execution time:  5.454485893249512\n",
      "execution time:  5.582932949066162\n",
      "execution time:  5.483974456787109\n",
      "execution time:  5.499370336532593\n",
      "execution time:  5.589032411575317\n",
      "execution time:  5.484740972518921\n",
      "execution time:  5.497087478637695\n",
      "execution time:  5.804952144622803\n",
      "execution time:  5.916647434234619\n",
      "execution time:  5.903178691864014\n",
      "execution time:  6.35129976272583\n",
      "training with 20 features\n",
      "execution time:  5.464849233627319\n",
      "execution time:  5.6152894496917725\n",
      "execution time:  5.5154712200164795\n",
      "execution time:  5.493560791015625\n",
      "execution time:  5.599462270736694\n",
      "execution time:  5.509526968002319\n",
      "execution time:  5.500963926315308\n",
      "execution time:  5.8350207805633545\n",
      "execution time:  5.918107986450195\n",
      "execution time:  5.998477935791016\n",
      "execution time:  6.223430633544922\n",
      "training with 19 features\n"
     ]
    },
    {
     "name": "stderr",
     "output_type": "stream",
     "text": [
      "Precision is ill-defined and being set to 0.0 due to no predicted samples. Use `zero_division` parameter to control this behavior.\n"
     ]
    },
    {
     "name": "stdout",
     "output_type": "stream",
     "text": [
      "execution time:  5.579086065292358\n",
      "execution time:  5.526564836502075\n",
      "execution time:  5.493992805480957\n",
      "execution time:  5.600078821182251\n",
      "execution time:  5.4938600063323975\n",
      "execution time:  5.479469060897827\n",
      "execution time:  5.741095066070557\n",
      "execution time:  5.8026018142700195\n",
      "execution time:  5.900930643081665\n",
      "execution time:  6.008200645446777\n",
      "execution time:  6.255680084228516\n",
      "training with 18 features\n",
      "execution time:  5.542217493057251\n",
      "execution time:  5.531677961349487\n",
      "execution time:  5.499763011932373\n",
      "execution time:  5.598038196563721\n",
      "execution time:  5.476129531860352\n",
      "execution time:  5.5336384773254395\n",
      "execution time:  5.585986375808716\n",
      "execution time:  5.715747833251953\n",
      "execution time:  6.007734298706055\n",
      "execution time:  5.925711154937744\n",
      "execution time:  6.277065753936768\n",
      "training with 17 features\n"
     ]
    },
    {
     "name": "stderr",
     "output_type": "stream",
     "text": [
      "Precision is ill-defined and being set to 0.0 due to no predicted samples. Use `zero_division` parameter to control this behavior.\n"
     ]
    },
    {
     "name": "stdout",
     "output_type": "stream",
     "text": [
      "execution time:  5.45764684677124\n",
      "execution time:  5.50119686126709\n",
      "execution time:  5.5985426902771\n",
      "execution time:  5.503884792327881\n",
      "execution time:  5.509795427322388\n",
      "execution time:  5.589909791946411\n",
      "execution time:  5.50042724609375\n",
      "execution time:  5.744047403335571\n",
      "execution time:  6.01846981048584\n",
      "execution time:  6.010445833206177\n",
      "execution time:  6.252153635025024\n",
      "training with 16 features\n"
     ]
    },
    {
     "name": "stderr",
     "output_type": "stream",
     "text": [
      "Precision is ill-defined and being set to 0.0 due to no predicted samples. Use `zero_division` parameter to control this behavior.\n"
     ]
    },
    {
     "name": "stdout",
     "output_type": "stream",
     "text": [
      "execution time:  10.260061502456665\n",
      "execution time:  10.491078853607178\n",
      "execution time:  10.483402729034424\n",
      "execution time:  10.415725469589233\n",
      "execution time:  10.582216501235962\n",
      "execution time:  10.577175617218018\n",
      "execution time:  10.34904146194458\n",
      "execution time:  10.962522506713867\n",
      "execution time:  11.775974035263062\n",
      "execution time:  11.213951587677002\n",
      "execution time:  12.056870222091675\n",
      "training with 15 features\n"
     ]
    },
    {
     "name": "stderr",
     "output_type": "stream",
     "text": [
      "Precision is ill-defined and being set to 0.0 due to no predicted samples. Use `zero_division` parameter to control this behavior.\n"
     ]
    },
    {
     "name": "stdout",
     "output_type": "stream",
     "text": [
      "execution time:  10.294509887695312\n",
      "execution time:  10.85372018814087\n",
      "execution time:  11.186609983444214\n",
      "execution time:  11.253152847290039\n",
      "execution time:  10.712433576583862\n",
      "execution time:  10.66073226928711\n",
      "execution time:  10.51322317123413\n",
      "execution time:  11.060850143432617\n",
      "execution time:  11.430944681167603\n",
      "execution time:  11.30267596244812\n",
      "execution time:  12.40280294418335\n",
      "training with 14 features\n"
     ]
    },
    {
     "name": "stderr",
     "output_type": "stream",
     "text": [
      "Precision is ill-defined and being set to 0.0 due to no predicted samples. Use `zero_division` parameter to control this behavior.\n"
     ]
    },
    {
     "name": "stdout",
     "output_type": "stream",
     "text": [
      "execution time:  10.419638633728027\n",
      "execution time:  10.62086296081543\n",
      "execution time:  10.431152582168579\n",
      "execution time:  10.601935386657715\n",
      "execution time:  10.958925724029541\n",
      "execution time:  10.687066316604614\n",
      "execution time:  10.551007986068726\n",
      "execution time:  11.085320234298706\n",
      "execution time:  11.404696464538574\n",
      "execution time:  11.348562002182007\n",
      "execution time:  12.1738862991333\n",
      "training with 13 features\n",
      "execution time:  10.448180437088013\n",
      "execution time:  10.576491117477417\n",
      "execution time:  10.43395447731018\n",
      "execution time:  10.557820320129395\n",
      "execution time:  10.785922288894653\n",
      "execution time:  10.540485382080078\n",
      "execution time:  11.129594564437866\n",
      "execution time:  10.631993532180786\n",
      "execution time:  11.637578248977661\n",
      "execution time:  11.418688297271729\n",
      "execution time:  12.541648387908936\n",
      "training with 12 features\n"
     ]
    },
    {
     "name": "stderr",
     "output_type": "stream",
     "text": [
      "Precision is ill-defined and being set to 0.0 due to no predicted samples. Use `zero_division` parameter to control this behavior.\n"
     ]
    },
    {
     "name": "stdout",
     "output_type": "stream",
     "text": [
      "execution time:  10.443255186080933\n",
      "execution time:  10.577752113342285\n",
      "execution time:  10.483272552490234\n",
      "execution time:  10.57810926437378\n",
      "execution time:  10.56773066520691\n",
      "execution time:  5.620750665664673\n",
      "execution time:  5.563520669937134\n",
      "execution time:  5.8938889503479\n",
      "execution time:  5.963597297668457\n",
      "execution time:  5.948017835617065\n",
      "execution time:  6.386609792709351\n",
      "training with 11 features\n"
     ]
    },
    {
     "name": "stderr",
     "output_type": "stream",
     "text": [
      "Precision is ill-defined and being set to 0.0 due to no predicted samples. Use `zero_division` parameter to control this behavior.\n"
     ]
    },
    {
     "name": "stdout",
     "output_type": "stream",
     "text": [
      "execution time:  5.428530931472778\n",
      "execution time:  5.692968368530273\n",
      "execution time:  5.51301908493042\n",
      "execution time:  5.479442596435547\n",
      "execution time:  5.609776973724365\n",
      "execution time:  5.5055224895477295\n",
      "execution time:  5.515967130661011\n",
      "execution time:  5.851536989212036\n",
      "execution time:  5.912615060806274\n",
      "execution time:  5.976195812225342\n",
      "execution time:  6.2802722454071045\n",
      "training with 10 features\n",
      "execution time:  5.418904542922974\n",
      "execution time:  5.58345890045166\n",
      "execution time:  5.506740570068359\n",
      "execution time:  5.863039493560791\n",
      "execution time:  5.545466423034668\n",
      "execution time:  5.521808624267578\n",
      "execution time:  5.626970529556274\n",
      "execution time:  5.7385008335113525\n",
      "execution time:  5.9381208419799805\n",
      "execution time:  6.0235981941223145\n",
      "execution time:  6.235006809234619\n",
      "training with 9 features\n"
     ]
    },
    {
     "name": "stderr",
     "output_type": "stream",
     "text": [
      "Precision is ill-defined and being set to 0.0 due to no predicted samples. Use `zero_division` parameter to control this behavior.\n"
     ]
    },
    {
     "name": "stdout",
     "output_type": "stream",
     "text": [
      "execution time:  5.5136048793792725\n",
      "execution time:  5.5546417236328125\n",
      "execution time:  5.562660217285156\n",
      "execution time:  5.911880016326904\n",
      "execution time:  5.545769453048706\n",
      "execution time:  5.52003026008606\n",
      "execution time:  5.636592149734497\n",
      "execution time:  5.742244482040405\n",
      "execution time:  5.969476222991943\n",
      "execution time:  6.089306354522705\n",
      "execution time:  6.235273599624634\n",
      "training with 8 features\n"
     ]
    },
    {
     "name": "stderr",
     "output_type": "stream",
     "text": [
      "Precision is ill-defined and being set to 0.0 due to no predicted samples. Use `zero_division` parameter to control this behavior.\n"
     ]
    },
    {
     "name": "stdout",
     "output_type": "stream",
     "text": [
      "execution time:  4.496490240097046\n",
      "execution time:  4.624628067016602\n",
      "execution time:  5.44909143447876\n",
      "execution time:  4.840131998062134\n",
      "execution time:  4.652234077453613\n",
      "execution time:  4.695429086685181\n",
      "execution time:  4.7791454792022705\n",
      "execution time:  4.811351299285889\n",
      "execution time:  5.04576849937439\n",
      "execution time:  5.043950796127319\n",
      "execution time:  5.41386079788208\n",
      "training with 7 features\n",
      "execution time:  4.46022629737854\n",
      "execution time:  4.868202209472656\n",
      "execution time:  4.660705089569092\n",
      "execution time:  4.646199703216553\n",
      "execution time:  4.877228260040283\n",
      "execution time:  4.759491682052612\n",
      "execution time:  4.755124568939209\n",
      "execution time:  5.09393048286438\n",
      "execution time:  5.0272908210754395\n",
      "execution time:  4.948190689086914\n",
      "execution time:  5.294240951538086\n",
      "training with 6 features\n"
     ]
    },
    {
     "name": "stderr",
     "output_type": "stream",
     "text": [
      "Precision is ill-defined and being set to 0.0 due to no predicted samples. Use `zero_division` parameter to control this behavior.\n"
     ]
    },
    {
     "name": "stdout",
     "output_type": "stream",
     "text": [
      "execution time:  4.437632322311401\n",
      "execution time:  4.714263439178467\n",
      "execution time:  4.795348167419434\n",
      "execution time:  4.657115697860718\n",
      "execution time:  4.605366230010986\n",
      "execution time:  4.611690521240234\n",
      "execution time:  4.814143180847168\n",
      "execution time:  4.848785400390625\n",
      "execution time:  5.1938111782073975\n",
      "execution time:  5.299151420593262\n",
      "execution time:  5.234392404556274\n",
      "training with 5 features\n"
     ]
    },
    {
     "name": "stderr",
     "output_type": "stream",
     "text": [
      "Precision is ill-defined and being set to 0.0 due to no predicted samples. Use `zero_division` parameter to control this behavior.\n"
     ]
    },
    {
     "name": "stdout",
     "output_type": "stream",
     "text": [
      "execution time:  4.574405193328857\n",
      "execution time:  4.6581130027771\n",
      "execution time:  4.651503801345825\n",
      "execution time:  4.6173436641693115\n",
      "execution time:  4.743578195571899\n",
      "execution time:  4.618711471557617\n",
      "execution time:  4.740991592407227\n",
      "execution time:  5.164157152175903\n",
      "execution time:  5.417098760604858\n",
      "execution time:  5.084559917449951\n",
      "execution time:  5.456584692001343\n",
      "training with 4 features\n"
     ]
    },
    {
     "name": "stderr",
     "output_type": "stream",
     "text": [
      "Precision is ill-defined and being set to 0.0 due to no predicted samples. Use `zero_division` parameter to control this behavior.\n"
     ]
    },
    {
     "name": "stdout",
     "output_type": "stream",
     "text": [
      "execution time:  4.451588869094849\n",
      "execution time:  4.690126895904541\n",
      "execution time:  4.749915599822998\n",
      "execution time:  4.637311697006226\n",
      "execution time:  4.6163411140441895\n",
      "execution time:  4.747657060623169\n",
      "execution time:  4.600283622741699\n",
      "execution time:  4.776289463043213\n",
      "execution time:  5.0313029289245605\n",
      "execution time:  5.066507339477539\n",
      "execution time:  5.2792439460754395\n",
      "training with 3 features\n"
     ]
    },
    {
     "name": "stderr",
     "output_type": "stream",
     "text": [
      "Precision is ill-defined and being set to 0.0 due to no predicted samples. Use `zero_division` parameter to control this behavior.\n"
     ]
    },
    {
     "name": "stdout",
     "output_type": "stream",
     "text": [
      "execution time:  4.753666877746582\n",
      "execution time:  4.628488302230835\n",
      "execution time:  4.642141580581665\n",
      "execution time:  4.872161865234375\n",
      "execution time:  4.618368864059448\n",
      "execution time:  4.662768602371216\n",
      "execution time:  4.592097520828247\n",
      "execution time:  4.912675142288208\n",
      "execution time:  4.958443641662598\n",
      "execution time:  4.976328372955322\n",
      "execution time:  5.292838096618652\n",
      "training with 2 features\n",
      "execution time:  4.4441187381744385\n",
      "execution time:  4.759878873825073\n",
      "execution time:  4.680633306503296\n",
      "execution time:  4.689148664474487\n",
      "execution time:  9.8567214012146\n",
      "execution time:  9.914152383804321\n",
      "execution time:  10.213079452514648\n",
      "execution time:  10.44749665260315\n",
      "execution time:  10.704439640045166\n",
      "execution time:  11.104034185409546\n",
      "execution time:  11.535309791564941\n",
      "training with 1 features\n",
      "execution time:  9.823934316635132\n",
      "execution time:  9.845442771911621\n",
      "execution time:  9.97003173828125\n",
      "execution time:  9.952265739440918\n",
      "execution time:  10.181260347366333\n",
      "execution time:  10.050965547561646\n",
      "execution time:  9.810317754745483\n",
      "execution time:  10.378832340240479\n",
      "execution time:  10.712788105010986\n",
      "execution time:  10.711235284805298\n",
      "execution time:  11.388673305511475\n",
      "CPU times: user 11h 10min 19s, sys: 3min 10s, total: 11h 13min 30s\n",
      "Wall time: 1h 48min 53s\n",
      "traing for  Probing\n",
      "training with 79 features\n",
      "execution time:  8.94043231010437\n",
      "execution time:  11.227940559387207\n",
      "execution time:  11.524418592453003\n",
      "execution time:  15.152456760406494\n",
      "execution time:  15.060925960540771\n",
      "execution time:  9.511209487915039\n",
      "execution time:  10.458811521530151\n",
      "execution time:  8.345732927322388\n",
      "execution time:  10.951687097549438\n",
      "execution time:  15.807245969772339\n",
      "execution time:  16.867980480194092\n",
      "training with 78 features\n",
      "execution time:  14.34250283241272\n",
      "execution time:  8.339375257492065\n",
      "execution time:  13.890349864959717\n",
      "execution time:  8.086787462234497\n",
      "execution time:  8.179333448410034\n",
      "execution time:  7.960245132446289\n",
      "execution time:  8.11653995513916\n",
      "execution time:  8.26979660987854\n",
      "execution time:  10.196674108505249\n",
      "execution time:  15.718018293380737\n",
      "execution time:  9.09571385383606\n",
      "training with 77 features\n",
      "execution time:  8.913756370544434\n",
      "execution time:  9.446491956710815\n",
      "execution time:  9.451059103012085\n",
      "execution time:  9.132805109024048\n",
      "execution time:  8.852859735488892\n",
      "execution time:  12.335375308990479\n",
      "execution time:  14.942227125167847\n",
      "execution time:  9.441584348678589\n",
      "execution time:  8.816735029220581\n",
      "execution time:  11.07773232460022\n",
      "execution time:  10.217738151550293\n"
     ]
    },
    {
     "name": "stderr",
     "output_type": "stream",
     "text": [
      "Precision is ill-defined and being set to 0.0 due to no predicted samples. Use `zero_division` parameter to control this behavior.\n"
     ]
    },
    {
     "name": "stdout",
     "output_type": "stream",
     "text": [
      "training with 76 features\n",
      "execution time:  8.768691778182983\n",
      "execution time:  9.620071649551392\n",
      "execution time:  8.693837881088257\n",
      "execution time:  12.885568857192993\n",
      "execution time:  8.979714632034302\n",
      "execution time:  9.106013059616089\n",
      "execution time:  9.15278697013855\n",
      "execution time:  10.339990615844727\n",
      "execution time:  8.694863080978394\n",
      "execution time:  13.820018768310547\n",
      "execution time:  16.369009733200073\n",
      "training with 75 features\n",
      "execution time:  14.032621145248413\n",
      "execution time:  14.517711400985718\n",
      "execution time:  14.464052200317383\n",
      "execution time:  14.179376602172852\n",
      "execution time:  14.214863300323486\n",
      "execution time:  14.169468879699707\n",
      "execution time:  14.18867826461792\n",
      "execution time:  14.753931283950806\n",
      "execution time:  15.357818126678467\n",
      "execution time:  15.223846912384033\n",
      "execution time:  16.817216157913208\n"
     ]
    },
    {
     "name": "stderr",
     "output_type": "stream",
     "text": [
      "Precision is ill-defined and being set to 0.0 due to no predicted samples. Use `zero_division` parameter to control this behavior.\n"
     ]
    },
    {
     "name": "stdout",
     "output_type": "stream",
     "text": [
      "training with 74 features\n",
      "execution time:  13.815934181213379\n",
      "execution time:  14.241915464401245\n",
      "execution time:  14.324256658554077\n",
      "execution time:  14.250357627868652\n",
      "execution time:  13.938881874084473\n",
      "execution time:  14.167220115661621\n",
      "execution time:  14.216457605361938\n",
      "execution time:  14.727322816848755\n",
      "execution time:  15.247071027755737\n",
      "execution time:  15.499123096466064\n",
      "execution time:  16.619624137878418\n",
      "training with 73 features\n",
      "execution time:  13.903467178344727\n",
      "execution time:  14.212610960006714\n",
      "execution time:  14.510972499847412\n",
      "execution time:  14.569109439849854\n",
      "execution time:  14.371710300445557\n",
      "execution time:  14.450023174285889\n",
      "execution time:  14.17280387878418\n",
      "execution time:  14.843701601028442\n",
      "execution time:  15.255337953567505\n",
      "execution time:  15.417067289352417\n",
      "execution time:  16.62015128135681\n",
      "training with 72 features\n",
      "execution time:  14.022844314575195\n",
      "execution time:  14.252434253692627\n",
      "execution time:  13.321903467178345\n",
      "execution time:  8.695666790008545\n",
      "execution time:  8.832025527954102\n",
      "execution time:  8.396552085876465\n",
      "execution time:  8.496789455413818\n",
      "execution time:  15.053635120391846\n",
      "execution time:  15.278728485107422\n",
      "execution time:  15.322604417800903\n",
      "execution time:  16.560335397720337\n"
     ]
    },
    {
     "name": "stderr",
     "output_type": "stream",
     "text": [
      "Precision is ill-defined and being set to 0.0 due to no predicted samples. Use `zero_division` parameter to control this behavior.\n"
     ]
    },
    {
     "name": "stdout",
     "output_type": "stream",
     "text": [
      "training with 71 features\n",
      "execution time:  10.854893445968628\n",
      "execution time:  10.84628415107727\n",
      "execution time:  10.98166561126709\n",
      "execution time:  11.730929613113403\n",
      "execution time:  10.894511938095093\n",
      "execution time:  11.071854829788208\n",
      "execution time:  10.63366174697876\n",
      "execution time:  11.061157941818237\n",
      "execution time:  11.297230005264282\n",
      "execution time:  11.385392904281616\n",
      "execution time:  12.353835582733154\n"
     ]
    },
    {
     "name": "stderr",
     "output_type": "stream",
     "text": [
      "Precision is ill-defined and being set to 0.0 due to no predicted samples. Use `zero_division` parameter to control this behavior.\n"
     ]
    },
    {
     "name": "stdout",
     "output_type": "stream",
     "text": [
      "training with 70 features\n",
      "execution time:  10.485780477523804\n",
      "execution time:  10.418370962142944\n",
      "execution time:  10.646647453308105\n",
      "execution time:  10.52421259880066\n",
      "execution time:  10.395483255386353\n",
      "execution time:  10.594890356063843\n",
      "execution time:  10.500586032867432\n",
      "execution time:  11.32629108428955\n",
      "execution time:  11.853228092193604\n",
      "execution time:  11.767756700515747\n",
      "execution time:  12.932597398757935\n"
     ]
    },
    {
     "name": "stderr",
     "output_type": "stream",
     "text": [
      "Precision is ill-defined and being set to 0.0 due to no predicted samples. Use `zero_division` parameter to control this behavior.\n"
     ]
    },
    {
     "name": "stdout",
     "output_type": "stream",
     "text": [
      "training with 69 features\n",
      "execution time:  10.78369402885437\n",
      "execution time:  10.852337837219238\n",
      "execution time:  11.036028385162354\n",
      "execution time:  10.946690559387207\n",
      "execution time:  12.011624574661255\n",
      "execution time:  10.889825344085693\n",
      "execution time:  10.946896076202393\n",
      "execution time:  11.444144010543823\n",
      "execution time:  11.621159791946411\n",
      "execution time:  11.832022666931152\n",
      "execution time:  12.95112419128418\n",
      "training with 68 features\n",
      "execution time:  10.807957172393799\n",
      "execution time:  10.982569694519043\n",
      "execution time:  10.80202341079712\n",
      "execution time:  10.948732852935791\n",
      "execution time:  10.968537330627441\n",
      "execution time:  10.892007827758789\n",
      "execution time:  11.000254392623901\n",
      "execution time:  11.481805324554443\n",
      "execution time:  11.8474760055542\n",
      "execution time:  11.983533143997192\n",
      "execution time:  12.937913656234741\n"
     ]
    },
    {
     "name": "stderr",
     "output_type": "stream",
     "text": [
      "Precision is ill-defined and being set to 0.0 due to no predicted samples. Use `zero_division` parameter to control this behavior.\n"
     ]
    },
    {
     "name": "stdout",
     "output_type": "stream",
     "text": [
      "training with 67 features\n",
      "execution time:  10.853368282318115\n",
      "execution time:  10.95254135131836\n",
      "execution time:  10.874126195907593\n",
      "execution time:  10.938723802566528\n",
      "execution time:  10.971153020858765\n",
      "execution time:  11.018247842788696\n",
      "execution time:  10.827619791030884\n",
      "execution time:  11.45709490776062\n",
      "execution time:  11.81748104095459\n",
      "execution time:  11.66707181930542\n",
      "execution time:  12.985171794891357\n",
      "training with 66 features\n",
      "execution time:  10.69604754447937\n",
      "execution time:  10.947827339172363\n",
      "execution time:  10.887166023254395\n",
      "execution time:  10.780935525894165\n",
      "execution time:  10.96462893486023\n",
      "execution time:  10.96542477607727\n",
      "execution time:  10.893996953964233\n",
      "execution time:  11.407752752304077\n",
      "execution time:  11.73129916191101\n",
      "execution time:  11.695023775100708\n",
      "execution time:  12.806139469146729\n",
      "training with 65 features\n",
      "execution time:  10.667188167572021\n",
      "execution time:  11.076843738555908\n",
      "execution time:  10.904600620269775\n",
      "execution time:  10.77096152305603\n",
      "execution time:  11.036638259887695\n",
      "execution time:  10.93036699295044\n",
      "execution time:  10.787328958511353\n",
      "execution time:  11.369341611862183\n",
      "execution time:  11.719236135482788\n",
      "execution time:  11.72439956665039\n",
      "execution time:  12.63450574874878\n"
     ]
    },
    {
     "name": "stderr",
     "output_type": "stream",
     "text": [
      "Precision is ill-defined and being set to 0.0 due to no predicted samples. Use `zero_division` parameter to control this behavior.\n"
     ]
    },
    {
     "name": "stdout",
     "output_type": "stream",
     "text": [
      "training with 64 features\n",
      "execution time:  10.548219680786133\n",
      "execution time:  10.862310409545898\n",
      "execution time:  10.867246627807617\n",
      "execution time:  10.712934255599976\n",
      "execution time:  10.813663244247437\n",
      "execution time:  10.832226753234863\n",
      "execution time:  10.94804072380066\n",
      "execution time:  11.217762470245361\n",
      "execution time:  11.63590669631958\n",
      "execution time:  11.668721675872803\n",
      "execution time:  12.989722728729248\n",
      "training with 63 features\n",
      "execution time:  10.706140995025635\n",
      "execution time:  10.842138767242432\n",
      "execution time:  10.882512092590332\n",
      "execution time:  10.88795256614685\n",
      "execution time:  10.785114049911499\n",
      "execution time:  10.851259469985962\n",
      "execution time:  10.841296672821045\n",
      "execution time:  11.237472295761108\n",
      "execution time:  11.757130146026611\n",
      "execution time:  11.737401723861694\n",
      "execution time:  12.854743957519531\n",
      "training with 62 features\n",
      "execution time:  10.742979288101196\n",
      "execution time:  10.802515268325806\n",
      "execution time:  10.840510606765747\n",
      "execution time:  11.03670048713684\n",
      "execution time:  10.79895281791687\n",
      "execution time:  10.901275157928467\n",
      "execution time:  10.85978651046753\n",
      "execution time:  11.222257852554321\n",
      "execution time:  11.733104944229126\n",
      "execution time:  11.757383584976196\n",
      "execution time:  12.817563533782959\n"
     ]
    },
    {
     "name": "stderr",
     "output_type": "stream",
     "text": [
      "Precision is ill-defined and being set to 0.0 due to no predicted samples. Use `zero_division` parameter to control this behavior.\n"
     ]
    },
    {
     "name": "stdout",
     "output_type": "stream",
     "text": [
      "training with 61 features\n",
      "execution time:  10.789644002914429\n",
      "execution time:  10.771129608154297\n",
      "execution time:  10.958431959152222\n",
      "execution time:  11.92372727394104\n",
      "execution time:  10.851713418960571\n",
      "execution time:  10.980735540390015\n",
      "execution time:  11.181097030639648\n",
      "execution time:  11.410733461380005\n",
      "execution time:  11.628451585769653\n",
      "execution time:  11.771714687347412\n",
      "execution time:  12.780519723892212\n"
     ]
    },
    {
     "name": "stderr",
     "output_type": "stream",
     "text": [
      "Precision is ill-defined and being set to 0.0 due to no predicted samples. Use `zero_division` parameter to control this behavior.\n"
     ]
    },
    {
     "name": "stdout",
     "output_type": "stream",
     "text": [
      "training with 60 features\n",
      "execution time:  10.951592683792114\n",
      "execution time:  11.105482816696167\n",
      "execution time:  10.84304666519165\n",
      "execution time:  11.026986122131348\n",
      "execution time:  11.426480531692505\n",
      "execution time:  10.817551374435425\n",
      "execution time:  10.9074547290802\n",
      "execution time:  11.563605070114136\n",
      "execution time:  11.777652025222778\n",
      "execution time:  11.774598598480225\n",
      "execution time:  12.87811803817749\n"
     ]
    },
    {
     "name": "stderr",
     "output_type": "stream",
     "text": [
      "Precision is ill-defined and being set to 0.0 due to no predicted samples. Use `zero_division` parameter to control this behavior.\n"
     ]
    },
    {
     "name": "stdout",
     "output_type": "stream",
     "text": [
      "training with 59 features\n",
      "execution time:  11.145915746688843\n",
      "execution time:  11.051331043243408\n",
      "execution time:  10.864184379577637\n",
      "execution time:  11.019275188446045\n",
      "execution time:  11.04106330871582\n",
      "execution time:  10.936511516571045\n",
      "execution time:  10.865666627883911\n",
      "execution time:  11.42328429222107\n",
      "execution time:  11.821830749511719\n",
      "execution time:  11.68783950805664\n",
      "execution time:  12.781723499298096\n"
     ]
    },
    {
     "name": "stderr",
     "output_type": "stream",
     "text": [
      "Precision is ill-defined and being set to 0.0 due to no predicted samples. Use `zero_division` parameter to control this behavior.\n"
     ]
    },
    {
     "name": "stdout",
     "output_type": "stream",
     "text": [
      "training with 58 features\n",
      "execution time:  10.791752576828003\n",
      "execution time:  10.890470266342163\n",
      "execution time:  11.389233112335205\n",
      "execution time:  10.812283039093018\n",
      "execution time:  11.089439868927002\n",
      "execution time:  10.978603601455688\n",
      "execution time:  11.202083110809326\n",
      "execution time:  11.668861627578735\n",
      "execution time:  11.688711404800415\n",
      "execution time:  11.861322164535522\n",
      "execution time:  12.666794061660767\n"
     ]
    },
    {
     "name": "stderr",
     "output_type": "stream",
     "text": [
      "Precision is ill-defined and being set to 0.0 due to no predicted samples. Use `zero_division` parameter to control this behavior.\n"
     ]
    },
    {
     "name": "stdout",
     "output_type": "stream",
     "text": [
      "training with 57 features\n",
      "execution time:  10.699542999267578\n",
      "execution time:  10.949213743209839\n",
      "execution time:  10.922826528549194\n",
      "execution time:  10.867115497589111\n",
      "execution time:  10.899724960327148\n",
      "execution time:  10.876495838165283\n",
      "execution time:  10.943324327468872\n",
      "execution time:  11.268428087234497\n",
      "execution time:  11.764448165893555\n",
      "execution time:  11.808637857437134\n",
      "execution time:  12.741278171539307\n",
      "training with 56 features\n",
      "execution time:  10.726647138595581\n",
      "execution time:  10.725437879562378\n",
      "execution time:  10.83289647102356\n",
      "execution time:  10.855395555496216\n",
      "execution time:  10.669610500335693\n",
      "execution time:  10.87798023223877\n",
      "execution time:  10.865345239639282\n",
      "execution time:  12.144373416900635\n",
      "execution time:  12.282055854797363\n",
      "execution time:  11.78200650215149\n",
      "execution time:  12.999577283859253\n"
     ]
    },
    {
     "name": "stderr",
     "output_type": "stream",
     "text": [
      "Precision is ill-defined and being set to 0.0 due to no predicted samples. Use `zero_division` parameter to control this behavior.\n"
     ]
    },
    {
     "name": "stdout",
     "output_type": "stream",
     "text": [
      "training with 55 features\n",
      "execution time:  10.760185956954956\n",
      "execution time:  10.949804782867432\n",
      "execution time:  11.232043027877808\n",
      "execution time:  11.047014713287354\n",
      "execution time:  10.760222434997559\n",
      "execution time:  10.955060482025146\n",
      "execution time:  10.917455673217773\n",
      "execution time:  11.42952299118042\n",
      "execution time:  11.618192195892334\n",
      "execution time:  11.829065799713135\n",
      "execution time:  12.507681369781494\n",
      "training with 54 features\n",
      "execution time:  10.757538318634033\n",
      "execution time:  10.81209683418274\n",
      "execution time:  10.776132822036743\n",
      "execution time:  10.98188328742981\n",
      "execution time:  10.873326063156128\n",
      "execution time:  11.259406089782715\n",
      "execution time:  11.227747678756714\n",
      "execution time:  11.31529188156128\n",
      "execution time:  11.598191976547241\n",
      "execution time:  12.079321146011353\n",
      "execution time:  12.678411483764648\n",
      "training with 53 features\n",
      "execution time:  10.714565515518188\n",
      "execution time:  10.93082857131958\n",
      "execution time:  10.748613357543945\n",
      "execution time:  11.751258611679077\n",
      "execution time:  11.472604274749756\n",
      "execution time:  10.71630072593689\n",
      "execution time:  10.884568214416504\n",
      "execution time:  11.795609712600708\n",
      "execution time:  12.213171243667603\n",
      "execution time:  10.624883651733398\n",
      "execution time:  6.825465440750122\n",
      "training with 52 features\n",
      "execution time:  5.61016321182251\n",
      "execution time:  5.776221036911011\n",
      "execution time:  5.695802927017212\n",
      "execution time:  5.6600260734558105\n",
      "execution time:  5.771361827850342\n",
      "execution time:  5.669607639312744\n",
      "execution time:  5.777665853500366\n",
      "execution time:  5.95520281791687\n",
      "execution time:  6.065029859542847\n",
      "execution time:  6.18489408493042\n",
      "execution time:  6.479238033294678\n"
     ]
    },
    {
     "name": "stderr",
     "output_type": "stream",
     "text": [
      "Precision is ill-defined and being set to 0.0 due to no predicted samples. Use `zero_division` parameter to control this behavior.\n"
     ]
    },
    {
     "name": "stdout",
     "output_type": "stream",
     "text": [
      "training with 51 features\n",
      "execution time:  5.659502744674683\n",
      "execution time:  5.644757986068726\n",
      "execution time:  5.657554626464844\n",
      "execution time:  5.748867750167847\n",
      "execution time:  5.653961181640625\n",
      "execution time:  5.677613258361816\n",
      "execution time:  5.766876220703125\n",
      "execution time:  5.866960048675537\n",
      "execution time:  6.174737215042114\n",
      "execution time:  6.051595211029053\n",
      "execution time:  6.428508758544922\n"
     ]
    },
    {
     "name": "stderr",
     "output_type": "stream",
     "text": [
      "Precision is ill-defined and being set to 0.0 due to no predicted samples. Use `zero_division` parameter to control this behavior.\n"
     ]
    },
    {
     "name": "stdout",
     "output_type": "stream",
     "text": [
      "training with 50 features\n",
      "execution time:  5.565261602401733\n",
      "execution time:  5.646932601928711\n",
      "execution time:  5.755689382553101\n",
      "execution time:  5.637521505355835\n",
      "execution time:  5.63299298286438\n",
      "execution time:  5.819651365280151\n",
      "execution time:  10.611195802688599\n",
      "execution time:  11.415043115615845\n",
      "execution time:  11.75739049911499\n",
      "execution time:  11.766604900360107\n",
      "execution time:  12.611170053482056\n"
     ]
    },
    {
     "name": "stderr",
     "output_type": "stream",
     "text": [
      "Precision is ill-defined and being set to 0.0 due to no predicted samples. Use `zero_division` parameter to control this behavior.\n"
     ]
    },
    {
     "name": "stdout",
     "output_type": "stream",
     "text": [
      "training with 49 features\n",
      "execution time:  10.57327938079834\n",
      "execution time:  10.894446849822998\n",
      "execution time:  10.876675128936768\n",
      "execution time:  10.743573188781738\n",
      "execution time:  11.43098759651184\n",
      "execution time:  10.908447027206421\n",
      "execution time:  10.847687005996704\n",
      "execution time:  11.204229831695557\n",
      "execution time:  11.618478059768677\n",
      "execution time:  11.707186937332153\n",
      "execution time:  12.483936786651611\n",
      "training with 48 features\n",
      "execution time:  10.548584222793579\n",
      "execution time:  10.792079210281372\n",
      "execution time:  10.882291316986084\n",
      "execution time:  10.949290990829468\n",
      "execution time:  10.660828590393066\n",
      "execution time:  10.939268350601196\n",
      "execution time:  11.035167932510376\n",
      "execution time:  11.15085244178772\n",
      "execution time:  11.799888610839844\n",
      "execution time:  11.735038757324219\n",
      "execution time:  12.59000039100647\n"
     ]
    },
    {
     "name": "stderr",
     "output_type": "stream",
     "text": [
      "Precision is ill-defined and being set to 0.0 due to no predicted samples. Use `zero_division` parameter to control this behavior.\n"
     ]
    },
    {
     "name": "stdout",
     "output_type": "stream",
     "text": [
      "training with 47 features\n",
      "execution time:  10.768485069274902\n",
      "execution time:  10.7074556350708\n",
      "execution time:  10.994259357452393\n",
      "execution time:  10.866344928741455\n",
      "execution time:  10.726623773574829\n",
      "execution time:  10.9483802318573\n",
      "execution time:  10.86600112915039\n",
      "execution time:  5.94103741645813\n",
      "execution time:  6.0945725440979\n",
      "execution time:  6.188570022583008\n",
      "execution time:  6.471114158630371\n",
      "training with 46 features\n",
      "execution time:  5.629556655883789\n",
      "execution time:  5.652551889419556\n",
      "execution time:  5.729196548461914\n",
      "execution time:  5.7301506996154785\n",
      "execution time:  5.696242570877075\n",
      "execution time:  5.745527029037476\n",
      "execution time:  5.643753528594971\n",
      "execution time:  5.84595251083374\n",
      "execution time:  6.136366844177246\n",
      "execution time:  6.041882276535034\n",
      "execution time:  6.417308568954468\n",
      "training with 45 features\n",
      "execution time:  5.650943279266357\n",
      "execution time:  5.658586502075195\n",
      "execution time:  5.779761552810669\n",
      "execution time:  5.68349814414978\n",
      "execution time:  5.71340274810791\n",
      "execution time:  5.69918966293335\n",
      "execution time:  5.6695661544799805\n",
      "execution time:  5.996642112731934\n",
      "execution time:  6.099853038787842\n",
      "execution time:  6.0705952644348145\n",
      "execution time:  6.547870874404907\n",
      "training with 44 features\n",
      "execution time:  5.542008399963379\n",
      "execution time:  5.80787992477417\n",
      "execution time:  5.689749717712402\n",
      "execution time:  5.663386106491089\n",
      "execution time:  5.932254076004028\n",
      "execution time:  5.634690761566162\n",
      "execution time:  5.744076490402222\n",
      "execution time:  5.8847503662109375\n",
      "execution time:  6.074197053909302\n",
      "execution time:  6.147620916366577\n",
      "execution time:  6.402469635009766\n",
      "training with 43 features\n",
      "execution time:  5.653822422027588\n",
      "execution time:  5.660287857055664\n",
      "execution time:  5.818007707595825\n",
      "execution time:  5.770359992980957\n",
      "execution time:  5.634335994720459\n",
      "execution time:  5.625979661941528\n",
      "execution time:  5.690171718597412\n",
      "execution time:  5.868128776550293\n",
      "execution time:  6.1453070640563965\n",
      "execution time:  6.051968574523926\n",
      "execution time:  6.374591827392578\n"
     ]
    },
    {
     "name": "stderr",
     "output_type": "stream",
     "text": [
      "Precision is ill-defined and being set to 0.0 due to no predicted samples. Use `zero_division` parameter to control this behavior.\n"
     ]
    },
    {
     "name": "stdout",
     "output_type": "stream",
     "text": [
      "training with 42 features\n",
      "execution time:  5.572160243988037\n",
      "execution time:  5.6589086055755615\n",
      "execution time:  5.752198934555054\n",
      "execution time:  5.629612922668457\n",
      "execution time:  5.6563801765441895\n",
      "execution time:  5.706485271453857\n",
      "execution time:  5.629996061325073\n",
      "execution time:  4.961403846740723\n",
      "execution time:  5.221633672714233\n",
      "execution time:  5.044285297393799\n",
      "execution time:  5.392731666564941\n",
      "training with 41 features\n",
      "execution time:  4.6162943840026855\n",
      "execution time:  4.720417022705078\n",
      "execution time:  4.868213891983032\n",
      "execution time:  4.7267632484436035\n",
      "execution time:  4.717524766921997\n",
      "execution time:  4.683996915817261\n",
      "execution time:  4.88287353515625\n",
      "execution time:  4.980107307434082\n",
      "execution time:  5.06052303314209\n",
      "execution time:  5.2086944580078125\n",
      "execution time:  5.388635873794556\n",
      "training with 40 features\n",
      "execution time:  4.699453353881836\n",
      "execution time:  4.793550491333008\n",
      "execution time:  4.7471888065338135\n",
      "execution time:  4.734500169754028\n",
      "execution time:  4.977462291717529\n",
      "execution time:  4.7414374351501465\n",
      "execution time:  4.70577335357666\n",
      "execution time:  5.038741111755371\n",
      "execution time:  5.0701868534088135\n",
      "execution time:  5.080058813095093\n",
      "execution time:  5.524235010147095\n",
      "training with 39 features\n",
      "execution time:  4.555924892425537\n",
      "execution time:  4.918957471847534\n",
      "execution time:  4.7940168380737305\n",
      "execution time:  4.825871229171753\n",
      "execution time:  4.6992480754852295\n",
      "execution time:  4.891712427139282\n",
      "execution time:  4.706441879272461\n",
      "execution time:  4.929454565048218\n",
      "execution time:  5.176921844482422\n",
      "execution time:  5.060180187225342\n",
      "execution time:  5.483782052993774\n"
     ]
    },
    {
     "name": "stderr",
     "output_type": "stream",
     "text": [
      "Precision is ill-defined and being set to 0.0 due to no predicted samples. Use `zero_division` parameter to control this behavior.\n"
     ]
    },
    {
     "name": "stdout",
     "output_type": "stream",
     "text": [
      "training with 38 features\n",
      "execution time:  4.523102521896362\n",
      "execution time:  4.728466033935547\n",
      "execution time:  4.857890605926514\n",
      "execution time:  4.8578314781188965\n",
      "execution time:  4.7693493366241455\n",
      "execution time:  4.897444248199463\n",
      "execution time:  4.902729749679565\n",
      "execution time:  4.904536724090576\n",
      "execution time:  5.055697441101074\n",
      "execution time:  5.177443027496338\n",
      "execution time:  5.3313093185424805\n",
      "training with 37 features\n"
     ]
    },
    {
     "name": "stderr",
     "output_type": "stream",
     "text": [
      "Precision is ill-defined and being set to 0.0 due to no predicted samples. Use `zero_division` parameter to control this behavior.\n"
     ]
    },
    {
     "name": "stdout",
     "output_type": "stream",
     "text": [
      "execution time:  4.684375047683716\n",
      "execution time:  4.776906490325928\n",
      "execution time:  4.706879615783691\n",
      "execution time:  4.7005836963653564\n",
      "execution time:  4.9960691928863525\n",
      "execution time:  4.710226774215698\n",
      "execution time:  4.72981333732605\n",
      "execution time:  5.05846381187439\n",
      "execution time:  5.0680992603302\n",
      "execution time:  5.010966539382935\n",
      "execution time:  5.462815523147583\n",
      "training with 36 features\n"
     ]
    },
    {
     "name": "stderr",
     "output_type": "stream",
     "text": [
      "Precision is ill-defined and being set to 0.0 due to no predicted samples. Use `zero_division` parameter to control this behavior.\n"
     ]
    },
    {
     "name": "stdout",
     "output_type": "stream",
     "text": [
      "execution time:  4.601961851119995\n",
      "execution time:  4.777623653411865\n",
      "execution time:  4.854245901107788\n",
      "execution time:  4.694600820541382\n",
      "execution time:  4.826070547103882\n",
      "execution time:  4.831359148025513\n",
      "execution time:  4.7711803913116455\n",
      "execution time:  4.989928960800171\n",
      "execution time:  5.194930076599121\n",
      "execution time:  5.0669190883636475\n",
      "execution time:  5.387192249298096\n",
      "training with 35 features\n"
     ]
    },
    {
     "name": "stderr",
     "output_type": "stream",
     "text": [
      "Precision is ill-defined and being set to 0.0 due to no predicted samples. Use `zero_division` parameter to control this behavior.\n"
     ]
    },
    {
     "name": "stdout",
     "output_type": "stream",
     "text": [
      "execution time:  5.645626068115234\n",
      "execution time:  5.637607097625732\n",
      "execution time:  5.725365400314331\n",
      "execution time:  5.631012439727783\n",
      "execution time:  5.636696100234985\n",
      "execution time:  5.811100006103516\n",
      "execution time:  5.786635637283325\n",
      "execution time:  4.850672721862793\n",
      "execution time:  4.872481346130371\n",
      "execution time:  4.812702178955078\n",
      "execution time:  5.075809478759766\n",
      "training with 34 features\n",
      "execution time:  4.5522074699401855\n",
      "execution time:  4.616743803024292\n",
      "execution time:  4.637920379638672\n",
      "execution time:  7.3478779792785645\n",
      "execution time:  10.561061382293701\n",
      "execution time:  10.782796382904053\n",
      "execution time:  10.727195262908936\n",
      "execution time:  11.069359302520752\n",
      "execution time:  11.462819576263428\n",
      "execution time:  11.538048505783081\n",
      "execution time:  12.425883531570435\n",
      "training with 33 features\n",
      "execution time:  10.598878383636475\n",
      "execution time:  10.58770227432251\n",
      "execution time:  10.779180526733398\n",
      "execution time:  11.485619306564331\n",
      "execution time:  10.76939582824707\n",
      "execution time:  10.893966436386108\n",
      "execution time:  10.823392629623413\n",
      "execution time:  11.211540699005127\n",
      "execution time:  11.553876161575317\n",
      "execution time:  11.618179321289062\n",
      "execution time:  12.442982196807861\n"
     ]
    },
    {
     "name": "stderr",
     "output_type": "stream",
     "text": [
      "Precision is ill-defined and being set to 0.0 due to no predicted samples. Use `zero_division` parameter to control this behavior.\n"
     ]
    },
    {
     "name": "stdout",
     "output_type": "stream",
     "text": [
      "training with 32 features\n",
      "execution time:  10.621724128723145\n",
      "execution time:  10.567709922790527\n",
      "execution time:  10.715786695480347\n",
      "execution time:  10.692774295806885\n",
      "execution time:  10.529346227645874\n",
      "execution time:  10.802054166793823\n",
      "execution time:  10.756369352340698\n",
      "execution time:  11.033326625823975\n",
      "execution time:  11.601398706436157\n",
      "execution time:  11.639812469482422\n",
      "execution time:  12.360081434249878\n"
     ]
    },
    {
     "name": "stderr",
     "output_type": "stream",
     "text": [
      "Precision is ill-defined and being set to 0.0 due to no predicted samples. Use `zero_division` parameter to control this behavior.\n"
     ]
    },
    {
     "name": "stdout",
     "output_type": "stream",
     "text": [
      "training with 31 features\n",
      "execution time:  10.647004842758179\n",
      "execution time:  10.62092638015747\n",
      "execution time:  10.708814144134521\n",
      "execution time:  10.755967855453491\n",
      "execution time:  10.54272723197937\n",
      "execution time:  10.84013843536377\n",
      "execution time:  10.809866666793823\n",
      "execution time:  10.869719505310059\n",
      "execution time:  11.358776569366455\n",
      "execution time:  11.26215410232544\n",
      "execution time:  12.14513373374939\n",
      "training with 30 features\n",
      "execution time:  10.439735174179077\n",
      "execution time:  10.673305988311768\n",
      "execution time:  10.791209936141968\n",
      "execution time:  10.75215458869934\n",
      "execution time:  5.697659730911255\n",
      "execution time:  5.630863428115845\n",
      "execution time:  5.73514461517334\n",
      "execution time:  5.919353485107422\n",
      "execution time:  6.074708938598633\n",
      "execution time:  6.166801929473877\n",
      "execution time:  6.362664222717285\n",
      "training with 29 features\n",
      "execution time:  5.4090025424957275\n",
      "execution time:  5.425768852233887\n",
      "execution time:  5.421980142593384\n",
      "execution time:  5.52783727645874\n",
      "execution time:  5.440343379974365\n",
      "execution time:  5.406876802444458\n",
      "execution time:  5.499887943267822\n",
      "execution time:  5.806353807449341\n",
      "execution time:  5.971261262893677\n",
      "execution time:  5.888485431671143\n",
      "execution time:  6.141943454742432\n",
      "training with 28 features\n",
      "execution time:  5.323038578033447\n",
      "execution time:  5.405221700668335\n",
      "execution time:  5.475901126861572\n",
      "execution time:  5.421926736831665\n",
      "execution time:  5.385923385620117\n",
      "execution time:  5.526719093322754\n",
      "execution time:  5.368107080459595\n",
      "execution time:  5.640900611877441\n",
      "execution time:  5.886651039123535\n",
      "execution time:  5.762035131454468\n",
      "execution time:  6.112894535064697\n",
      "training with 27 features\n",
      "execution time:  5.286668300628662\n",
      "execution time:  5.552582740783691\n",
      "execution time:  5.491068601608276\n",
      "execution time:  5.354773998260498\n",
      "execution time:  5.407094478607178\n",
      "execution time:  5.4977335929870605\n",
      "execution time:  5.421328544616699\n",
      "execution time:  5.78777003288269\n",
      "execution time:  5.9402916431427\n",
      "execution time:  5.77908730506897\n",
      "execution time:  6.127521753311157\n",
      "training with 26 features\n",
      "execution time:  5.434877395629883\n",
      "execution time:  5.332853555679321\n",
      "execution time:  5.472010135650635\n",
      "execution time:  5.326469659805298\n",
      "execution time:  5.448033809661865\n",
      "execution time:  5.441177606582642\n",
      "execution time:  5.4242844581604\n",
      "execution time:  5.6093480587005615\n",
      "execution time:  5.885777473449707\n",
      "execution time:  5.686676740646362\n",
      "execution time:  6.139221906661987\n",
      "training with 25 features\n"
     ]
    },
    {
     "name": "stderr",
     "output_type": "stream",
     "text": [
      "Precision is ill-defined and being set to 0.0 due to no predicted samples. Use `zero_division` parameter to control this behavior.\n"
     ]
    },
    {
     "name": "stdout",
     "output_type": "stream",
     "text": [
      "execution time:  5.493741273880005\n",
      "execution time:  5.3621509075164795\n",
      "execution time:  5.49306321144104\n",
      "execution time:  5.390545845031738\n",
      "execution time:  5.420875072479248\n",
      "execution time:  5.455112457275391\n",
      "execution time:  5.416947603225708\n",
      "execution time:  5.7214531898498535\n",
      "execution time:  5.956890106201172\n",
      "execution time:  5.794532060623169\n",
      "execution time:  6.237851142883301\n",
      "training with 24 features\n"
     ]
    },
    {
     "name": "stderr",
     "output_type": "stream",
     "text": [
      "Precision is ill-defined and being set to 0.0 due to no predicted samples. Use `zero_division` parameter to control this behavior.\n"
     ]
    },
    {
     "name": "stdout",
     "output_type": "stream",
     "text": [
      "execution time:  5.258193492889404\n",
      "execution time:  5.508893966674805\n",
      "execution time:  5.381821393966675\n",
      "execution time:  5.36936616897583\n",
      "execution time:  5.46461820602417\n",
      "execution time:  5.406185626983643\n",
      "execution time:  5.427379369735718\n",
      "execution time:  5.709163427352905\n",
      "execution time:  5.7794177532196045\n",
      "execution time:  5.777600526809692\n",
      "execution time:  6.188903331756592\n",
      "training with 23 features\n"
     ]
    },
    {
     "name": "stderr",
     "output_type": "stream",
     "text": [
      "Precision is ill-defined and being set to 0.0 due to no predicted samples. Use `zero_division` parameter to control this behavior.\n"
     ]
    },
    {
     "name": "stdout",
     "output_type": "stream",
     "text": [
      "execution time:  5.327215194702148\n",
      "execution time:  5.4959447383880615\n",
      "execution time:  5.377052307128906\n",
      "execution time:  5.515113592147827\n",
      "execution time:  5.512155294418335\n",
      "execution time:  5.4080729484558105\n",
      "execution time:  5.430505990982056\n",
      "execution time:  5.700389385223389\n",
      "execution time:  5.765271425247192\n",
      "execution time:  5.805969476699829\n",
      "execution time:  6.227457284927368\n",
      "training with 22 features\n",
      "execution time:  5.264714241027832\n",
      "execution time:  5.46627402305603\n",
      "execution time:  5.361909866333008\n",
      "execution time:  5.357105493545532\n",
      "execution time:  5.463371992111206\n",
      "execution time:  5.369135141372681\n",
      "execution time:  5.394169330596924\n",
      "execution time:  5.6825103759765625\n",
      "execution time:  5.800670623779297\n",
      "execution time:  6.060051202774048\n",
      "execution time:  6.33146333694458\n",
      "training with 21 features\n",
      "execution time:  5.491055488586426\n",
      "execution time:  5.584726572036743\n",
      "execution time:  5.559369325637817\n",
      "execution time:  5.6709771156311035\n",
      "execution time:  5.548296689987183\n",
      "execution time:  5.596014976501465\n",
      "execution time:  5.76568341255188\n",
      "execution time:  5.834475755691528\n",
      "execution time:  6.014026880264282\n",
      "execution time:  6.079996585845947\n",
      "execution time:  6.316966533660889\n",
      "training with 20 features\n",
      "execution time:  5.555944442749023\n",
      "execution time:  5.576553106307983\n",
      "execution time:  5.556516885757446\n",
      "execution time:  5.670086145401001\n",
      "execution time:  5.755106210708618\n",
      "execution time:  5.684267044067383\n",
      "execution time:  5.614145755767822\n",
      "execution time:  5.8201375007629395\n",
      "execution time:  6.0872814655303955\n",
      "execution time:  6.000727891921997\n",
      "execution time:  6.462793588638306\n",
      "training with 19 features\n"
     ]
    },
    {
     "name": "stderr",
     "output_type": "stream",
     "text": [
      "Precision is ill-defined and being set to 0.0 due to no predicted samples. Use `zero_division` parameter to control this behavior.\n"
     ]
    },
    {
     "name": "stdout",
     "output_type": "stream",
     "text": [
      "execution time:  5.6662304401397705\n",
      "execution time:  5.619639873504639\n",
      "execution time:  5.674906253814697\n",
      "execution time:  5.576574802398682\n",
      "execution time:  5.627066612243652\n",
      "execution time:  5.679330110549927\n",
      "execution time:  5.581274747848511\n",
      "execution time:  5.830511808395386\n",
      "execution time:  6.084003210067749\n",
      "execution time:  6.011013984680176\n",
      "execution time:  6.401087522506714\n",
      "training with 18 features\n",
      "execution time:  5.479183673858643\n",
      "execution time:  5.7206385135650635\n",
      "execution time:  5.60136342048645\n",
      "execution time:  5.627270221710205\n",
      "execution time:  5.7235612869262695\n",
      "execution time:  5.615856647491455\n",
      "execution time:  5.6071555614471436\n",
      "execution time:  5.9390246868133545\n",
      "execution time:  6.022147178649902\n",
      "execution time:  6.027157545089722\n",
      "execution time:  6.426771402359009\n",
      "training with 17 features\n",
      "execution time:  5.484483480453491\n",
      "execution time:  5.7248570919036865\n",
      "execution time:  5.802562952041626\n",
      "execution time:  5.665430784225464\n",
      "execution time:  5.567360877990723\n",
      "execution time:  5.573219537734985\n",
      "execution time:  5.6563849449157715\n",
      "execution time:  6.023460626602173\n",
      "execution time:  6.025120258331299\n",
      "execution time:  6.078708171844482\n",
      "execution time:  6.31782865524292\n",
      "training with 16 features\n",
      "execution time:  5.60084867477417\n",
      "execution time:  5.586003303527832\n",
      "execution time:  5.617002010345459\n",
      "execution time:  5.696268320083618\n",
      "execution time:  5.565109491348267\n",
      "execution time:  5.560105800628662\n",
      "execution time:  5.6385931968688965\n",
      "execution time:  5.785691738128662\n",
      "execution time:  6.060323238372803\n",
      "execution time:  5.97480583190918\n",
      "execution time:  6.292025089263916\n",
      "training with 15 features\n"
     ]
    },
    {
     "name": "stderr",
     "output_type": "stream",
     "text": [
      "Precision is ill-defined and being set to 0.0 due to no predicted samples. Use `zero_division` parameter to control this behavior.\n"
     ]
    },
    {
     "name": "stdout",
     "output_type": "stream",
     "text": [
      "execution time:  5.47707986831665\n",
      "execution time:  5.605137348175049\n",
      "execution time:  5.6970014572143555\n",
      "execution time:  5.548585414886475\n",
      "execution time:  5.527966260910034\n",
      "execution time:  5.6436927318573\n",
      "execution time:  5.567299842834473\n",
      "execution time:  5.762702941894531\n",
      "execution time:  6.080765247344971\n",
      "execution time:  6.009332895278931\n",
      "execution time:  6.378605127334595\n",
      "training with 14 features\n",
      "execution time:  5.434458255767822\n",
      "execution time:  5.618123769760132\n",
      "execution time:  5.646108627319336\n",
      "execution time:  5.539720296859741\n",
      "execution time:  5.583119630813599\n",
      "execution time:  5.577199459075928\n",
      "execution time:  5.720949649810791\n",
      "execution time:  6.054078102111816\n",
      "execution time:  6.026280879974365\n",
      "execution time:  6.009342908859253\n",
      "execution time:  6.4199042320251465\n",
      "training with 13 features\n",
      "execution time:  5.477947473526001\n",
      "execution time:  5.701467514038086\n",
      "execution time:  5.559001684188843\n",
      "execution time:  5.469313621520996\n",
      "execution time:  5.474745512008667\n",
      "execution time:  5.379775285720825\n",
      "execution time:  5.373545169830322\n",
      "execution time:  5.712099552154541\n",
      "execution time:  5.968058109283447\n",
      "execution time:  6.011184215545654\n",
      "execution time:  6.319104194641113\n",
      "training with 12 features\n",
      "execution time:  5.508452892303467\n",
      "execution time:  5.649474143981934\n",
      "execution time:  5.566152334213257\n",
      "execution time:  5.645211935043335\n",
      "execution time:  5.579493761062622\n",
      "execution time:  5.577387809753418\n",
      "execution time:  5.667219877243042\n",
      "execution time:  5.814583778381348\n",
      "execution time:  6.017498254776001\n",
      "execution time:  6.130921125411987\n",
      "execution time:  6.316158294677734\n",
      "training with 11 features\n",
      "execution time:  5.557544708251953\n",
      "execution time:  5.574405670166016\n",
      "execution time:  5.587012529373169\n",
      "execution time:  5.700644016265869\n",
      "execution time:  5.600980520248413\n",
      "execution time:  5.576842546463013\n",
      "execution time:  5.679211854934692\n",
      "execution time:  5.799315929412842\n",
      "execution time:  6.134758710861206\n",
      "execution time:  5.976335763931274\n",
      "execution time:  6.307116270065308\n",
      "training with 10 features\n"
     ]
    },
    {
     "name": "stderr",
     "output_type": "stream",
     "text": [
      "Precision is ill-defined and being set to 0.0 due to no predicted samples. Use `zero_division` parameter to control this behavior.\n"
     ]
    },
    {
     "name": "stdout",
     "output_type": "stream",
     "text": [
      "execution time:  5.454967737197876\n",
      "execution time:  5.6016929149627686\n",
      "execution time:  5.67751407623291\n",
      "execution time:  5.5762481689453125\n",
      "execution time:  5.577922105789185\n",
      "execution time:  5.653826951980591\n",
      "execution time:  5.546441555023193\n",
      "execution time:  6.002443552017212\n",
      "execution time:  6.1054205894470215\n",
      "execution time:  5.982502698898315\n",
      "execution time:  6.446648120880127\n",
      "training with 9 features\n"
     ]
    },
    {
     "name": "stderr",
     "output_type": "stream",
     "text": [
      "Precision is ill-defined and being set to 0.0 due to no predicted samples. Use `zero_division` parameter to control this behavior.\n"
     ]
    },
    {
     "name": "stdout",
     "output_type": "stream",
     "text": [
      "execution time:  5.444202423095703\n",
      "execution time:  5.5715718269348145\n",
      "execution time:  5.676537275314331\n",
      "execution time:  5.535107374191284\n",
      "execution time:  5.795283317565918\n",
      "execution time:  5.567447185516357\n",
      "execution time:  5.542708396911621\n",
      "execution time:  5.887831449508667\n",
      "execution time:  5.985158205032349\n",
      "execution time:  6.009251356124878\n",
      "execution time:  6.41111946105957\n",
      "training with 8 features\n",
      "execution time:  5.451553106307983\n",
      "execution time:  5.7099692821502686\n",
      "execution time:  5.567364454269409\n",
      "execution time:  5.536614656448364\n",
      "execution time:  5.657668113708496\n",
      "execution time:  5.523643732070923\n",
      "execution time:  5.513308048248291\n",
      "execution time:  5.849412441253662\n",
      "execution time:  6.168654441833496\n",
      "execution time:  6.108602523803711\n",
      "execution time:  6.261821746826172\n",
      "training with 7 features\n"
     ]
    },
    {
     "name": "stderr",
     "output_type": "stream",
     "text": [
      "Precision is ill-defined and being set to 0.0 due to no predicted samples. Use `zero_division` parameter to control this behavior.\n"
     ]
    },
    {
     "name": "stdout",
     "output_type": "stream",
     "text": [
      "execution time:  5.5248589515686035\n",
      "execution time:  5.548930644989014\n",
      "execution time:  5.629090785980225\n",
      "execution time:  5.6394944190979\n",
      "execution time:  5.537253141403198\n",
      "execution time:  5.54245924949646\n",
      "execution time:  5.630919933319092\n",
      "execution time:  5.778476238250732\n",
      "execution time:  5.983754396438599\n",
      "execution time:  6.063087224960327\n",
      "execution time:  6.258498430252075\n",
      "training with 6 features\n",
      "execution time:  5.524120569229126\n",
      "execution time:  5.54618239402771\n",
      "execution time:  5.547212839126587\n",
      "execution time:  5.623657941818237\n",
      "execution time:  5.54578709602356\n",
      "execution time:  5.591280698776245\n",
      "execution time:  5.648359298706055\n",
      "execution time:  5.753789663314819\n",
      "execution time:  6.082935333251953\n",
      "execution time:  5.9735496044158936\n",
      "execution time:  6.280912637710571\n",
      "training with 5 features\n"
     ]
    },
    {
     "name": "stderr",
     "output_type": "stream",
     "text": [
      "Precision is ill-defined and being set to 0.0 due to no predicted samples. Use `zero_division` parameter to control this behavior.\n"
     ]
    },
    {
     "name": "stdout",
     "output_type": "stream",
     "text": [
      "execution time:  5.425098896026611\n",
      "execution time:  5.546549320220947\n",
      "execution time:  5.645641565322876\n",
      "execution time:  5.5123515129089355\n",
      "execution time:  5.514750003814697\n",
      "execution time:  5.627108335494995\n",
      "execution time:  5.521353244781494\n",
      "execution time:  5.809811592102051\n",
      "execution time:  6.08902907371521\n",
      "execution time:  5.965898036956787\n",
      "execution time:  6.332729339599609\n",
      "training with 4 features\n"
     ]
    },
    {
     "name": "stderr",
     "output_type": "stream",
     "text": [
      "Precision is ill-defined and being set to 0.0 due to no predicted samples. Use `zero_division` parameter to control this behavior.\n"
     ]
    },
    {
     "name": "stdout",
     "output_type": "stream",
     "text": [
      "execution time:  5.423749923706055\n",
      "execution time:  5.713943958282471\n",
      "execution time:  5.639425039291382\n",
      "execution time:  5.527392625808716\n",
      "execution time:  5.571843147277832\n",
      "execution time:  5.542134523391724\n",
      "execution time:  5.525544166564941\n",
      "execution time:  5.910245180130005\n",
      "execution time:  5.9525299072265625\n",
      "execution time:  6.110914707183838\n",
      "execution time:  6.348978757858276\n",
      "training with 3 features\n",
      "execution time:  5.431726932525635\n",
      "execution time:  5.632324457168579\n",
      "execution time:  5.513665437698364\n",
      "execution time:  5.517324686050415\n",
      "execution time:  5.618056297302246\n",
      "execution time:  5.496333837509155\n",
      "execution time:  5.547218322753906\n",
      "execution time:  5.85933518409729\n",
      "execution time:  5.926903009414673\n",
      "execution time:  5.989955902099609\n",
      "execution time:  6.30323052406311\n",
      "training with 2 features\n",
      "execution time:  5.429012298583984\n",
      "execution time:  5.626009225845337\n",
      "execution time:  5.5327184200286865\n",
      "execution time:  5.588150262832642\n",
      "execution time:  5.543054819107056\n",
      "execution time:  5.4982218742370605\n",
      "execution time:  5.63775634765625\n",
      "execution time:  5.732461929321289\n",
      "execution time:  5.931144714355469\n",
      "execution time:  6.022973537445068\n",
      "execution time:  6.264507055282593\n",
      "training with 1 features\n",
      "execution time:  5.470101833343506\n",
      "execution time:  5.48222279548645\n",
      "execution time:  5.501259803771973\n",
      "execution time:  5.589686870574951\n",
      "execution time:  5.563164472579956\n",
      "execution time:  5.467743396759033\n",
      "execution time:  5.648958683013916\n",
      "execution time:  5.70563817024231\n",
      "execution time:  5.899855852127075\n",
      "execution time:  5.995721817016602\n",
      "execution time:  6.223825693130493\n",
      "CPU times: user 12h 53min 52s, sys: 3min 12s, total: 12h 57min 5s\n",
      "Wall time: 2h 4min 33s\n",
      "traing for  Bruteforce\n",
      "training with 79 features\n",
      "execution time:  7.933337211608887\n",
      "execution time:  13.126702785491943\n",
      "execution time:  13.042152166366577\n",
      "execution time:  8.100335597991943\n",
      "execution time:  8.17264437675476\n",
      "execution time:  7.9877214431762695\n",
      "execution time:  8.135125637054443\n",
      "execution time:  8.470242977142334\n",
      "execution time:  10.664184808731079\n",
      "execution time:  9.044271469116211\n",
      "execution time:  17.21010398864746\n"
     ]
    },
    {
     "name": "stderr",
     "output_type": "stream",
     "text": [
      "Precision is ill-defined and being set to 0.0 due to no predicted samples. Use `zero_division` parameter to control this behavior.\n"
     ]
    },
    {
     "name": "stdout",
     "output_type": "stream",
     "text": [
      "training with 78 features\n",
      "execution time:  10.046622037887573\n",
      "execution time:  9.253703117370605\n",
      "execution time:  13.580962419509888\n",
      "execution time:  8.949541807174683\n",
      "execution time:  8.692715406417847\n",
      "execution time:  8.817453384399414\n",
      "execution time:  11.913841009140015\n",
      "execution time:  13.617814540863037\n",
      "execution time:  10.69291639328003\n",
      "execution time:  15.864763259887695\n",
      "execution time:  17.68847107887268\n",
      "training with 77 features\n",
      "execution time:  14.104673147201538\n",
      "execution time:  14.608823537826538\n",
      "execution time:  14.53354263305664\n",
      "execution time:  14.32434630393982\n",
      "execution time:  14.68662428855896\n",
      "execution time:  8.503076314926147\n",
      "execution time:  9.423052072525024\n",
      "execution time:  10.459138870239258\n",
      "execution time:  15.316562414169312\n",
      "execution time:  11.038983583450317\n",
      "execution time:  10.013318061828613\n",
      "training with 76 features\n",
      "execution time:  8.951074123382568\n",
      "execution time:  9.10351300239563\n",
      "execution time:  12.000579118728638\n",
      "execution time:  14.975748538970947\n",
      "execution time:  12.919215202331543\n",
      "execution time:  14.793015718460083\n",
      "execution time:  12.145593881607056\n",
      "execution time:  9.24645185470581\n",
      "execution time:  9.57712721824646\n",
      "execution time:  15.054150104522705\n",
      "execution time:  15.085883140563965\n",
      "training with 75 features\n",
      "execution time:  7.888219833374023\n",
      "execution time:  9.589335441589355\n",
      "execution time:  8.803311109542847\n",
      "execution time:  8.176281213760376\n",
      "execution time:  8.105011940002441\n",
      "execution time:  10.996062517166138\n",
      "execution time:  9.752930879592896\n",
      "execution time:  8.292655944824219\n",
      "execution time:  8.92321515083313\n",
      "execution time:  8.692487716674805\n",
      "execution time:  12.708728313446045\n"
     ]
    },
    {
     "name": "stderr",
     "output_type": "stream",
     "text": [
      "Precision is ill-defined and being set to 0.0 due to no predicted samples. Use `zero_division` parameter to control this behavior.\n"
     ]
    },
    {
     "name": "stdout",
     "output_type": "stream",
     "text": [
      "training with 74 features\n",
      "execution time:  8.368116617202759\n",
      "execution time:  14.650429248809814\n",
      "execution time:  11.083902359008789\n",
      "execution time:  10.033546209335327\n",
      "execution time:  9.820135116577148\n",
      "execution time:  8.007664442062378\n",
      "execution time:  8.42751932144165\n",
      "execution time:  10.099276542663574\n",
      "execution time:  9.545145273208618\n",
      "execution time:  8.98552393913269\n",
      "execution time:  9.236711502075195\n"
     ]
    },
    {
     "name": "stderr",
     "output_type": "stream",
     "text": [
      "Precision is ill-defined and being set to 0.0 due to no predicted samples. Use `zero_division` parameter to control this behavior.\n"
     ]
    },
    {
     "name": "stdout",
     "output_type": "stream",
     "text": [
      "training with 73 features\n",
      "execution time:  7.861106634140015\n",
      "execution time:  8.359378337860107\n",
      "execution time:  8.081964254379272\n",
      "execution time:  9.83193588256836\n",
      "execution time:  8.258407354354858\n",
      "execution time:  8.29271411895752\n",
      "execution time:  8.168149709701538\n",
      "execution time:  8.644549369812012\n",
      "execution time:  8.710007190704346\n",
      "execution time:  9.643333673477173\n",
      "execution time:  9.691572427749634\n",
      "training with 72 features\n",
      "execution time:  11.20662546157837\n",
      "execution time:  14.58762526512146\n",
      "execution time:  8.334156513214111\n",
      "execution time:  8.110544681549072\n",
      "execution time:  8.366572380065918\n",
      "execution time:  8.639370918273926\n",
      "execution time:  12.214843034744263\n",
      "execution time:  9.192107200622559\n",
      "execution time:  9.102955102920532\n",
      "execution time:  8.962430715560913\n",
      "execution time:  9.565438985824585\n"
     ]
    },
    {
     "name": "stderr",
     "output_type": "stream",
     "text": [
      "Precision is ill-defined and being set to 0.0 due to no predicted samples. Use `zero_division` parameter to control this behavior.\n"
     ]
    },
    {
     "name": "stdout",
     "output_type": "stream",
     "text": [
      "training with 71 features\n",
      "execution time:  5.594944953918457\n",
      "execution time:  5.837835311889648\n",
      "execution time:  5.708901643753052\n",
      "execution time:  5.758286714553833\n",
      "execution time:  5.814492702484131\n",
      "execution time:  5.751230001449585\n",
      "execution time:  5.7284255027771\n",
      "execution time:  6.044813632965088\n",
      "execution time:  6.128152847290039\n",
      "execution time:  6.196037292480469\n",
      "execution time:  6.51349401473999\n"
     ]
    },
    {
     "name": "stderr",
     "output_type": "stream",
     "text": [
      "Precision is ill-defined and being set to 0.0 due to no predicted samples. Use `zero_division` parameter to control this behavior.\n"
     ]
    },
    {
     "name": "stdout",
     "output_type": "stream",
     "text": [
      "training with 70 features\n",
      "execution time:  5.777727842330933\n",
      "execution time:  5.746479034423828\n",
      "execution time:  5.7345969676971436\n",
      "execution time:  5.880435466766357\n",
      "execution time:  5.78809666633606\n",
      "execution time:  5.542128324508667\n",
      "execution time:  5.621592283248901\n",
      "execution time:  5.741753101348877\n",
      "execution time:  5.970923662185669\n",
      "execution time:  6.134595155715942\n",
      "execution time:  6.377574682235718\n",
      "training with 69 features\n",
      "execution time:  5.416974782943726\n",
      "execution time:  5.502899169921875\n",
      "execution time:  5.680867910385132\n",
      "execution time:  5.5267369747161865\n",
      "execution time:  5.515020132064819\n",
      "execution time:  5.59756326675415\n",
      "execution time:  5.461704969406128\n",
      "execution time:  5.700313568115234\n",
      "execution time:  5.998677730560303\n",
      "execution time:  5.915854215621948\n",
      "execution time:  6.284984111785889\n",
      "training with 68 features\n",
      "execution time:  5.369973421096802\n",
      "execution time:  5.525231122970581\n",
      "execution time:  5.594045162200928\n",
      "execution time:  5.506372928619385\n",
      "execution time:  5.464743375778198\n",
      "execution time:  5.562889337539673\n",
      "execution time:  5.488111734390259\n",
      "execution time:  5.77702522277832\n",
      "execution time:  5.934071063995361\n",
      "execution time:  5.886881351470947\n",
      "execution time:  6.568268537521362\n"
     ]
    },
    {
     "name": "stderr",
     "output_type": "stream",
     "text": [
      "Precision is ill-defined and being set to 0.0 due to no predicted samples. Use `zero_division` parameter to control this behavior.\n"
     ]
    },
    {
     "name": "stdout",
     "output_type": "stream",
     "text": [
      "training with 67 features\n",
      "execution time:  5.60118293762207\n",
      "execution time:  5.881161212921143\n",
      "execution time:  5.8184754848480225\n",
      "execution time:  5.667996406555176\n",
      "execution time:  5.774359226226807\n",
      "execution time:  5.6742634773254395\n",
      "execution time:  5.70637583732605\n",
      "execution time:  5.98969292640686\n",
      "execution time:  6.10488748550415\n",
      "execution time:  6.168670415878296\n",
      "execution time:  6.455257892608643\n",
      "training with 66 features\n",
      "execution time:  5.69536828994751\n",
      "execution time:  5.71651816368103\n",
      "execution time:  5.689557313919067\n",
      "execution time:  5.785905122756958\n",
      "execution time:  5.688692808151245\n",
      "execution time:  5.697592496871948\n",
      "execution time:  5.787853479385376\n",
      "execution time:  5.916988372802734\n",
      "execution time:  6.194588661193848\n",
      "execution time:  6.132355690002441\n",
      "execution time:  6.546569585800171\n",
      "training with 65 features\n",
      "execution time:  5.614464044570923\n",
      "execution time:  5.712863922119141\n",
      "execution time:  5.856351137161255\n",
      "execution time:  5.985435485839844\n",
      "execution time:  5.782478332519531\n",
      "execution time:  5.804908514022827\n",
      "execution time:  5.711904525756836\n",
      "execution time:  5.971027374267578\n",
      "execution time:  6.172573804855347\n",
      "execution time:  6.123910903930664\n",
      "execution time:  6.613474607467651\n",
      "training with 64 features\n",
      "execution time:  5.592886924743652\n",
      "execution time:  5.808998107910156\n",
      "execution time:  5.670247316360474\n",
      "execution time:  5.641628265380859\n",
      "execution time:  5.747264623641968\n",
      "execution time:  5.646775484085083\n",
      "execution time:  5.692627191543579\n",
      "execution time:  6.021923780441284\n",
      "execution time:  6.110840797424316\n",
      "execution time:  6.257559537887573\n",
      "execution time:  6.518807649612427\n"
     ]
    },
    {
     "name": "stderr",
     "output_type": "stream",
     "text": [
      "Precision is ill-defined and being set to 0.0 due to no predicted samples. Use `zero_division` parameter to control this behavior.\n"
     ]
    },
    {
     "name": "stdout",
     "output_type": "stream",
     "text": [
      "training with 63 features\n",
      "execution time:  5.693883657455444\n",
      "execution time:  5.655745267868042\n",
      "execution time:  5.67493748664856\n",
      "execution time:  5.757964611053467\n",
      "execution time:  5.674100399017334\n",
      "execution time:  5.70009708404541\n",
      "execution time:  5.839375019073486\n",
      "execution time:  5.951509237289429\n",
      "execution time:  6.277806520462036\n",
      "execution time:  6.177928447723389\n",
      "execution time:  6.567168474197388\n"
     ]
    },
    {
     "name": "stderr",
     "output_type": "stream",
     "text": [
      "Precision is ill-defined and being set to 0.0 due to no predicted samples. Use `zero_division` parameter to control this behavior.\n"
     ]
    },
    {
     "name": "stdout",
     "output_type": "stream",
     "text": [
      "training with 62 features\n",
      "execution time:  4.604250192642212\n",
      "execution time:  4.866814374923706\n",
      "execution time:  4.997795104980469\n",
      "execution time:  5.023155927658081\n",
      "execution time:  5.056925058364868\n",
      "execution time:  4.838900566101074\n",
      "execution time:  4.910044193267822\n",
      "execution time:  5.058087110519409\n",
      "execution time:  5.2373316287994385\n",
      "execution time:  5.616901636123657\n",
      "execution time:  5.602732181549072\n"
     ]
    },
    {
     "name": "stderr",
     "output_type": "stream",
     "text": [
      "Precision is ill-defined and being set to 0.0 due to no predicted samples. Use `zero_division` parameter to control this behavior.\n"
     ]
    },
    {
     "name": "stdout",
     "output_type": "stream",
     "text": [
      "training with 61 features\n",
      "execution time:  4.76677680015564\n",
      "execution time:  5.002544403076172\n",
      "execution time:  4.773744583129883\n",
      "execution time:  4.993741750717163\n",
      "execution time:  4.740419387817383\n",
      "execution time:  4.770533561706543\n",
      "execution time:  4.837023973464966\n",
      "execution time:  5.102607727050781\n",
      "execution time:  5.09377121925354\n",
      "execution time:  5.1875081062316895\n",
      "execution time:  5.641171455383301\n"
     ]
    },
    {
     "name": "stderr",
     "output_type": "stream",
     "text": [
      "Precision is ill-defined and being set to 0.0 due to no predicted samples. Use `zero_division` parameter to control this behavior.\n"
     ]
    },
    {
     "name": "stdout",
     "output_type": "stream",
     "text": [
      "training with 60 features\n",
      "execution time:  4.683086395263672\n",
      "execution time:  4.924339294433594\n",
      "execution time:  4.824628829956055\n",
      "execution time:  4.804685115814209\n",
      "execution time:  4.922638654708862\n",
      "execution time:  4.758542776107788\n",
      "execution time:  4.841888427734375\n",
      "execution time:  5.032782316207886\n",
      "execution time:  5.1297667026519775\n",
      "execution time:  5.161149263381958\n",
      "execution time:  5.6100945472717285\n",
      "training with 59 features\n",
      "execution time:  4.651446342468262\n",
      "execution time:  4.805683374404907\n",
      "execution time:  4.907679557800293\n",
      "execution time:  4.809828996658325\n",
      "execution time:  4.801597356796265\n",
      "execution time:  10.36059832572937\n",
      "execution time:  10.485677480697632\n",
      "execution time:  10.730136156082153\n",
      "execution time:  11.302972793579102\n",
      "execution time:  11.678392887115479\n",
      "execution time:  12.220916509628296\n"
     ]
    },
    {
     "name": "stderr",
     "output_type": "stream",
     "text": [
      "Precision is ill-defined and being set to 0.0 due to no predicted samples. Use `zero_division` parameter to control this behavior.\n"
     ]
    },
    {
     "name": "stdout",
     "output_type": "stream",
     "text": [
      "training with 58 features\n",
      "execution time:  10.799694061279297\n",
      "execution time:  10.984987258911133\n",
      "execution time:  11.049124240875244\n",
      "execution time:  11.357593536376953\n",
      "execution time:  11.269676923751831\n",
      "execution time:  11.025279760360718\n",
      "execution time:  10.909991979598999\n",
      "execution time:  11.250516176223755\n",
      "execution time:  11.736335754394531\n",
      "execution time:  11.718671321868896\n",
      "execution time:  12.933043718338013\n",
      "training with 57 features\n",
      "execution time:  10.828038215637207\n",
      "execution time:  10.80695629119873\n",
      "execution time:  11.295649528503418\n",
      "execution time:  11.976142644882202\n",
      "execution time:  11.352238416671753\n",
      "execution time:  10.970014095306396\n",
      "execution time:  11.105839252471924\n",
      "execution time:  11.56803822517395\n",
      "execution time:  11.73074984550476\n",
      "execution time:  11.902514219284058\n",
      "execution time:  13.082333326339722\n"
     ]
    },
    {
     "name": "stderr",
     "output_type": "stream",
     "text": [
      "Precision is ill-defined and being set to 0.0 due to no predicted samples. Use `zero_division` parameter to control this behavior.\n"
     ]
    },
    {
     "name": "stdout",
     "output_type": "stream",
     "text": [
      "training with 56 features\n",
      "execution time:  10.83403468132019\n",
      "execution time:  11.016295194625854\n",
      "execution time:  10.890894174575806\n",
      "execution time:  11.050776243209839\n",
      "execution time:  10.981329441070557\n",
      "execution time:  10.820773839950562\n",
      "execution time:  10.958056449890137\n",
      "execution time:  11.6777503490448\n",
      "execution time:  11.93477487564087\n",
      "execution time:  11.734961986541748\n",
      "execution time:  13.014108419418335\n",
      "training with 55 features\n",
      "execution time:  11.303884029388428\n",
      "execution time:  11.025932788848877\n",
      "execution time:  11.358024597167969\n",
      "execution time:  10.86525273323059\n",
      "execution time:  10.97622036933899\n",
      "execution time:  11.252816438674927\n",
      "execution time:  10.972906351089478\n",
      "execution time:  11.579390287399292\n",
      "execution time:  11.986286878585815\n",
      "execution time:  11.868966341018677\n",
      "execution time:  12.618443250656128\n",
      "training with 54 features\n",
      "execution time:  10.691179990768433\n",
      "execution time:  11.008249759674072\n",
      "execution time:  11.10946536064148\n",
      "execution time:  10.79686713218689\n",
      "execution time:  11.261545181274414\n",
      "execution time:  11.043448686599731\n",
      "execution time:  11.012663125991821\n",
      "execution time:  11.465482473373413\n",
      "execution time:  11.944807052612305\n",
      "execution time:  12.244306564331055\n",
      "execution time:  12.956435203552246\n",
      "training with 53 features\n",
      "execution time:  11.186331748962402\n",
      "execution time:  10.93169379234314\n",
      "execution time:  11.217223167419434\n",
      "execution time:  11.079896450042725\n",
      "execution time:  10.934759616851807\n",
      "execution time:  11.076268911361694\n",
      "execution time:  11.13647174835205\n",
      "execution time:  11.559845209121704\n",
      "execution time:  11.760093212127686\n",
      "execution time:  11.850792407989502\n",
      "execution time:  13.006454229354858\n"
     ]
    },
    {
     "name": "stderr",
     "output_type": "stream",
     "text": [
      "Precision is ill-defined and being set to 0.0 due to no predicted samples. Use `zero_division` parameter to control this behavior.\n"
     ]
    },
    {
     "name": "stdout",
     "output_type": "stream",
     "text": [
      "training with 52 features\n",
      "execution time:  10.901544570922852\n",
      "execution time:  10.987904071807861\n",
      "execution time:  10.970181703567505\n",
      "execution time:  11.159011363983154\n",
      "execution time:  10.961387157440186\n",
      "execution time:  10.896812438964844\n",
      "execution time:  11.104792594909668\n",
      "execution time:  11.643763065338135\n",
      "execution time:  11.904292345046997\n",
      "execution time:  11.873115539550781\n",
      "execution time:  12.606242656707764\n"
     ]
    },
    {
     "name": "stderr",
     "output_type": "stream",
     "text": [
      "Precision is ill-defined and being set to 0.0 due to no predicted samples. Use `zero_division` parameter to control this behavior.\n"
     ]
    },
    {
     "name": "stdout",
     "output_type": "stream",
     "text": [
      "training with 51 features\n",
      "execution time:  11.079380989074707\n",
      "execution time:  11.076026439666748\n",
      "execution time:  10.873933792114258\n",
      "execution time:  10.980478048324585\n",
      "execution time:  10.98636794090271\n",
      "execution time:  10.915568113327026\n",
      "execution time:  10.968549013137817\n",
      "execution time:  11.574050426483154\n",
      "execution time:  12.267436742782593\n",
      "execution time:  11.757161617279053\n",
      "execution time:  12.821117401123047\n"
     ]
    },
    {
     "name": "stderr",
     "output_type": "stream",
     "text": [
      "Precision is ill-defined and being set to 0.0 due to no predicted samples. Use `zero_division` parameter to control this behavior.\n"
     ]
    },
    {
     "name": "stdout",
     "output_type": "stream",
     "text": [
      "training with 50 features\n",
      "execution time:  10.666877508163452\n",
      "execution time:  11.094712734222412\n",
      "execution time:  5.719751596450806\n",
      "execution time:  5.772078275680542\n",
      "execution time:  5.603868007659912\n",
      "execution time:  6.015508651733398\n",
      "execution time:  5.744800090789795\n",
      "execution time:  5.868842124938965\n",
      "execution time:  6.034146070480347\n",
      "execution time:  6.15162992477417\n",
      "execution time:  6.432558298110962\n",
      "training with 49 features\n",
      "execution time:  5.563164710998535\n",
      "execution time:  5.628153085708618\n",
      "execution time:  5.7277820110321045\n",
      "execution time:  5.609846830368042\n",
      "execution time:  5.611956834793091\n",
      "execution time:  5.704999685287476\n",
      "execution time:  5.617729902267456\n",
      "execution time:  5.822422742843628\n",
      "execution time:  6.172161102294922\n",
      "execution time:  6.014475345611572\n",
      "execution time:  6.489765167236328\n"
     ]
    },
    {
     "name": "stderr",
     "output_type": "stream",
     "text": [
      "Precision is ill-defined and being set to 0.0 due to no predicted samples. Use `zero_division` parameter to control this behavior.\n"
     ]
    },
    {
     "name": "stdout",
     "output_type": "stream",
     "text": [
      "training with 48 features\n",
      "execution time:  5.493376731872559\n",
      "execution time:  5.631550312042236\n",
      "execution time:  5.739710807800293\n",
      "execution time:  5.625246286392212\n",
      "execution time:  5.667405366897583\n",
      "execution time:  5.5959765911102295\n",
      "execution time:  5.5527613162994385\n",
      "execution time:  5.973232269287109\n",
      "execution time:  5.964690923690796\n",
      "execution time:  6.018665313720703\n",
      "execution time:  6.472075700759888\n"
     ]
    },
    {
     "name": "stderr",
     "output_type": "stream",
     "text": [
      "Precision is ill-defined and being set to 0.0 due to no predicted samples. Use `zero_division` parameter to control this behavior.\n"
     ]
    },
    {
     "name": "stdout",
     "output_type": "stream",
     "text": [
      "training with 47 features\n",
      "execution time:  5.513416290283203\n",
      "execution time:  5.717745542526245\n",
      "execution time:  5.642141342163086\n",
      "execution time:  5.5954437255859375\n",
      "execution time:  5.70697546005249\n",
      "execution time:  5.6302995681762695\n",
      "execution time:  5.662416458129883\n",
      "execution time:  5.860673904418945\n",
      "execution time:  6.039179563522339\n",
      "execution time:  6.202028274536133\n",
      "execution time:  6.427309513092041\n"
     ]
    },
    {
     "name": "stderr",
     "output_type": "stream",
     "text": [
      "Precision is ill-defined and being set to 0.0 due to no predicted samples. Use `zero_division` parameter to control this behavior.\n"
     ]
    },
    {
     "name": "stdout",
     "output_type": "stream",
     "text": [
      "training with 46 features\n",
      "execution time:  5.644041061401367\n",
      "execution time:  5.630587100982666\n",
      "execution time:  5.638099193572998\n",
      "execution time:  5.689896821975708\n",
      "execution time:  5.586734056472778\n",
      "execution time:  5.608598709106445\n",
      "execution time:  5.769755840301514\n",
      "execution time:  5.795537233352661\n",
      "execution time:  6.099354267120361\n",
      "execution time:  6.086849212646484\n",
      "execution time:  6.461549520492554\n"
     ]
    },
    {
     "name": "stderr",
     "output_type": "stream",
     "text": [
      "Precision is ill-defined and being set to 0.0 due to no predicted samples. Use `zero_division` parameter to control this behavior.\n"
     ]
    },
    {
     "name": "stdout",
     "output_type": "stream",
     "text": [
      "training with 45 features\n",
      "execution time:  5.487903118133545\n",
      "execution time:  5.627218723297119\n",
      "execution time:  5.718644380569458\n",
      "execution time:  5.60327410697937\n",
      "execution time:  5.62091851234436\n",
      "execution time:  5.728374481201172\n",
      "execution time:  5.621166229248047\n",
      "execution time:  5.877371549606323\n",
      "execution time:  6.144526243209839\n",
      "execution time:  6.015661001205444\n",
      "execution time:  6.504879474639893\n"
     ]
    },
    {
     "name": "stderr",
     "output_type": "stream",
     "text": [
      "Precision is ill-defined and being set to 0.0 due to no predicted samples. Use `zero_division` parameter to control this behavior.\n"
     ]
    },
    {
     "name": "stdout",
     "output_type": "stream",
     "text": [
      "training with 44 features\n",
      "execution time:  5.536667346954346\n",
      "execution time:  5.72360372543335\n",
      "execution time:  5.621816396713257\n",
      "execution time:  5.612844228744507\n",
      "execution time:  5.723581314086914\n",
      "execution time:  5.610140800476074\n",
      "execution time:  5.615896701812744\n",
      "execution time:  5.981196165084839\n",
      "execution time:  6.041193246841431\n",
      "execution time:  6.01639723777771\n",
      "execution time:  6.524654388427734\n",
      "training with 43 features\n",
      "execution time:  5.520967245101929\n",
      "execution time:  5.713604927062988\n",
      "execution time:  5.585933446884155\n",
      "execution time:  5.640610456466675\n",
      "execution time:  5.625225305557251\n",
      "execution time:  5.574565172195435\n",
      "execution time:  5.721324682235718\n",
      "execution time:  5.840801477432251\n",
      "execution time:  6.012726306915283\n",
      "execution time:  6.107822418212891\n",
      "execution time:  6.326441526412964\n"
     ]
    },
    {
     "name": "stderr",
     "output_type": "stream",
     "text": [
      "Precision is ill-defined and being set to 0.0 due to no predicted samples. Use `zero_division` parameter to control this behavior.\n"
     ]
    },
    {
     "name": "stdout",
     "output_type": "stream",
     "text": [
      "training with 42 features\n",
      "execution time:  5.576427698135376\n",
      "execution time:  5.602944850921631\n",
      "execution time:  5.5899999141693115\n",
      "execution time:  5.705846071243286\n",
      "execution time:  5.583653926849365\n",
      "execution time:  5.621124744415283\n",
      "execution time:  5.713613510131836\n",
      "execution time:  5.806361198425293\n",
      "execution time:  6.078591346740723\n",
      "execution time:  5.979410171508789\n",
      "execution time:  6.3217103481292725\n",
      "training with 41 features\n",
      "execution time:  5.485562086105347\n",
      "execution time:  5.6427223682403564\n",
      "execution time:  5.675515413284302\n",
      "execution time:  5.605331897735596\n",
      "execution time:  5.0000691413879395\n",
      "execution time:  4.893378257751465\n",
      "execution time:  4.74092435836792\n",
      "execution time:  4.82545804977417\n",
      "execution time:  5.1456358432769775\n",
      "execution time:  5.034193992614746\n",
      "execution time:  5.416970729827881\n"
     ]
    },
    {
     "name": "stderr",
     "output_type": "stream",
     "text": [
      "Precision is ill-defined and being set to 0.0 due to no predicted samples. Use `zero_division` parameter to control this behavior.\n"
     ]
    },
    {
     "name": "stdout",
     "output_type": "stream",
     "text": [
      "training with 40 features\n",
      "execution time:  4.697575330734253\n",
      "execution time:  4.714758634567261\n",
      "execution time:  4.732733249664307\n",
      "execution time:  4.788158655166626\n",
      "execution time:  4.718621253967285\n",
      "execution time:  4.676232814788818\n",
      "execution time:  4.850433826446533\n",
      "execution time:  4.992245197296143\n",
      "execution time:  5.101261615753174\n",
      "execution time:  5.112603187561035\n",
      "execution time:  5.52202582359314\n"
     ]
    },
    {
     "name": "stderr",
     "output_type": "stream",
     "text": [
      "Precision is ill-defined and being set to 0.0 due to no predicted samples. Use `zero_division` parameter to control this behavior.\n"
     ]
    },
    {
     "name": "stdout",
     "output_type": "stream",
     "text": [
      "training with 39 features\n",
      "execution time:  4.505894422531128\n",
      "execution time:  4.856611967086792\n",
      "execution time:  4.6535325050354\n",
      "execution time:  4.614819526672363\n",
      "execution time:  4.852722406387329\n",
      "execution time:  4.70947265625\n",
      "execution time:  4.642693758010864\n",
      "execution time:  4.8217175006866455\n",
      "execution time:  5.172719717025757\n",
      "execution time:  5.009423494338989\n",
      "execution time:  5.350820064544678\n"
     ]
    },
    {
     "name": "stderr",
     "output_type": "stream",
     "text": [
      "Precision is ill-defined and being set to 0.0 due to no predicted samples. Use `zero_division` parameter to control this behavior.\n"
     ]
    },
    {
     "name": "stdout",
     "output_type": "stream",
     "text": [
      "training with 38 features\n",
      "execution time:  4.517697811126709\n",
      "execution time:  4.730456352233887\n",
      "execution time:  4.7954254150390625\n",
      "execution time:  4.682631254196167\n",
      "execution time:  4.7085418701171875\n",
      "execution time:  4.6592183113098145\n",
      "execution time:  4.802498817443848\n",
      "execution time:  4.823270082473755\n",
      "execution time:  4.954077482223511\n",
      "execution time:  5.180826425552368\n",
      "execution time:  5.348992586135864\n",
      "training with 37 features\n",
      "execution time:  4.580749034881592\n",
      "execution time:  4.657526016235352\n",
      "execution time:  4.729052543640137\n",
      "execution time:  4.742565870285034\n",
      "execution time:  4.932640552520752\n",
      "execution time:  4.7861433029174805\n",
      "execution time:  4.767593145370483\n",
      "execution time:  5.079838752746582\n",
      "execution time:  5.070707559585571\n",
      "execution time:  5.08466100692749\n",
      "execution time:  5.643367528915405\n",
      "training with 36 features\n"
     ]
    },
    {
     "name": "stderr",
     "output_type": "stream",
     "text": [
      "Precision is ill-defined and being set to 0.0 due to no predicted samples. Use `zero_division` parameter to control this behavior.\n"
     ]
    },
    {
     "name": "stdout",
     "output_type": "stream",
     "text": [
      "execution time:  4.556821584701538\n",
      "execution time:  4.8008646965026855\n",
      "execution time:  4.815432071685791\n",
      "execution time:  4.8272385597229\n",
      "execution time:  4.765185594558716\n",
      "execution time:  4.972173452377319\n",
      "execution time:  4.864941835403442\n",
      "execution time:  5.097668647766113\n",
      "execution time:  5.2127134799957275\n",
      "execution time:  5.134654760360718\n",
      "execution time:  5.450632572174072\n",
      "training with 35 features\n"
     ]
    },
    {
     "name": "stderr",
     "output_type": "stream",
     "text": [
      "Precision is ill-defined and being set to 0.0 due to no predicted samples. Use `zero_division` parameter to control this behavior.\n"
     ]
    },
    {
     "name": "stdout",
     "output_type": "stream",
     "text": [
      "execution time:  4.597580671310425\n",
      "execution time:  4.81696343421936\n",
      "execution time:  4.832987546920776\n",
      "execution time:  4.838335752487183\n",
      "execution time:  4.71820068359375\n",
      "execution time:  4.6927855014801025\n",
      "execution time:  5.002004146575928\n",
      "execution time:  4.930396556854248\n",
      "execution time:  5.125386476516724\n",
      "execution time:  5.17927885055542\n",
      "execution time:  5.420004844665527\n",
      "training with 34 features\n"
     ]
    },
    {
     "name": "stderr",
     "output_type": "stream",
     "text": [
      "Precision is ill-defined and being set to 0.0 due to no predicted samples. Use `zero_division` parameter to control this behavior.\n"
     ]
    },
    {
     "name": "stdout",
     "output_type": "stream",
     "text": [
      "execution time:  4.647111892700195\n",
      "execution time:  4.816363096237183\n",
      "execution time:  4.78635573387146\n",
      "execution time:  4.780433177947998\n",
      "execution time:  4.8070456981658936\n",
      "execution time:  4.720242023468018\n",
      "execution time:  4.6992127895355225\n",
      "execution time:  5.113067626953125\n",
      "execution time:  5.103801488876343\n",
      "execution time:  5.065047979354858\n",
      "execution time:  5.481732606887817\n",
      "training with 33 features\n"
     ]
    },
    {
     "name": "stderr",
     "output_type": "stream",
     "text": [
      "Precision is ill-defined and being set to 0.0 due to no predicted samples. Use `zero_division` parameter to control this behavior.\n"
     ]
    },
    {
     "name": "stdout",
     "output_type": "stream",
     "text": [
      "execution time:  4.51500940322876\n",
      "execution time:  4.7286717891693115\n",
      "execution time:  4.974384307861328\n",
      "execution time:  4.727323293685913\n",
      "execution time:  4.76100492477417\n",
      "execution time:  4.847176551818848\n",
      "execution time:  4.737551212310791\n",
      "execution time:  4.901428937911987\n",
      "execution time:  5.136123418807983\n",
      "execution time:  5.049974679946899\n",
      "execution time:  5.354766130447388\n",
      "training with 32 features\n",
      "execution time:  4.604122161865234\n",
      "execution time:  4.746315002441406\n",
      "execution time:  4.729990482330322\n",
      "execution time:  4.907424688339233\n",
      "execution time:  4.714144706726074\n",
      "execution time:  4.687164306640625\n",
      "execution time:  4.795356512069702\n",
      "execution time:  10.684458494186401\n",
      "execution time:  11.040027856826782\n",
      "execution time:  11.06589674949646\n",
      "execution time:  12.029279947280884\n",
      "training with 31 features\n",
      "execution time:  10.007440328598022\n",
      "execution time:  10.647615432739258\n",
      "execution time:  10.372892618179321\n",
      "execution time:  10.24568772315979\n",
      "execution time:  10.523628234863281\n",
      "execution time:  10.4194495677948\n",
      "execution time:  10.12503457069397\n",
      "execution time:  10.683848142623901\n",
      "execution time:  11.02900743484497\n",
      "execution time:  10.886368036270142\n",
      "execution time:  12.068372011184692\n"
     ]
    },
    {
     "name": "stderr",
     "output_type": "stream",
     "text": [
      "Precision is ill-defined and being set to 0.0 due to no predicted samples. Use `zero_division` parameter to control this behavior.\n"
     ]
    },
    {
     "name": "stdout",
     "output_type": "stream",
     "text": [
      "training with 30 features\n",
      "execution time:  10.170061111450195\n",
      "execution time:  10.260538816452026\n",
      "execution time:  10.119163751602173\n",
      "execution time:  10.490445137023926\n",
      "execution time:  10.39958667755127\n",
      "execution time:  10.265897035598755\n",
      "execution time:  10.320446014404297\n",
      "execution time:  10.855896472930908\n",
      "execution time:  10.90390682220459\n",
      "execution time:  11.030625104904175\n",
      "execution time:  12.20287561416626\n"
     ]
    },
    {
     "name": "stderr",
     "output_type": "stream",
     "text": [
      "Precision is ill-defined and being set to 0.0 due to no predicted samples. Use `zero_division` parameter to control this behavior.\n"
     ]
    },
    {
     "name": "stdout",
     "output_type": "stream",
     "text": [
      "training with 29 features\n",
      "execution time:  10.19418478012085\n",
      "execution time:  10.147232055664062\n",
      "execution time:  10.289174795150757\n",
      "execution time:  10.269846200942993\n",
      "execution time:  10.139940977096558\n",
      "execution time:  10.242746829986572\n",
      "execution time:  10.196265935897827\n",
      "execution time:  10.616752862930298\n",
      "execution time:  11.291692733764648\n",
      "execution time:  11.059483766555786\n",
      "execution time:  11.611867189407349\n",
      "training with 28 features\n",
      "execution time:  9.972645282745361\n",
      "execution time:  10.27793836593628\n",
      "execution time:  10.47782301902771\n",
      "execution time:  10.272274255752563\n",
      "execution time:  10.293323278427124\n",
      "execution time:  10.14695692062378\n",
      "execution time:  10.204654693603516\n",
      "execution time:  10.689072608947754\n",
      "execution time:  10.965942621231079\n",
      "execution time:  10.97601580619812\n",
      "execution time:  12.263135194778442\n",
      "training with 27 features\n"
     ]
    },
    {
     "name": "stderr",
     "output_type": "stream",
     "text": [
      "Precision is ill-defined and being set to 0.0 due to no predicted samples. Use `zero_division` parameter to control this behavior.\n"
     ]
    },
    {
     "name": "stdout",
     "output_type": "stream",
     "text": [
      "execution time:  10.100855350494385\n",
      "execution time:  10.239622354507446\n",
      "execution time:  10.166982650756836\n",
      "execution time:  10.244290828704834\n",
      "execution time:  10.216573715209961\n",
      "execution time:  10.362812757492065\n",
      "execution time:  10.261428833007812\n",
      "execution time:  10.626310110092163\n",
      "execution time:  11.10403847694397\n",
      "execution time:  11.031831979751587\n",
      "execution time:  12.453669309616089\n",
      "training with 26 features\n",
      "execution time:  10.083451747894287\n",
      "execution time:  10.16443943977356\n",
      "execution time:  10.307371377944946\n",
      "execution time:  10.146901845932007\n",
      "execution time:  10.267776250839233\n",
      "execution time:  10.249897003173828\n",
      "execution time:  10.105799198150635\n",
      "execution time:  10.702299356460571\n",
      "execution time:  11.00436019897461\n",
      "execution time:  10.91890001296997\n",
      "execution time:  12.320107698440552\n",
      "training with 25 features\n"
     ]
    },
    {
     "name": "stderr",
     "output_type": "stream",
     "text": [
      "Precision is ill-defined and being set to 0.0 due to no predicted samples. Use `zero_division` parameter to control this behavior.\n"
     ]
    },
    {
     "name": "stdout",
     "output_type": "stream",
     "text": [
      "execution time:  10.055353164672852\n",
      "execution time:  10.248478889465332\n",
      "execution time:  10.335042715072632\n",
      "execution time:  10.285156965255737\n",
      "execution time:  10.243680477142334\n",
      "execution time:  10.090420007705688\n",
      "execution time:  10.25109052658081\n",
      "execution time:  4.916828393936157\n",
      "execution time:  5.228075742721558\n",
      "execution time:  5.103956937789917\n",
      "execution time:  5.39111328125\n",
      "training with 24 features\n"
     ]
    },
    {
     "name": "stderr",
     "output_type": "stream",
     "text": [
      "Precision is ill-defined and being set to 0.0 due to no predicted samples. Use `zero_division` parameter to control this behavior.\n"
     ]
    },
    {
     "name": "stdout",
     "output_type": "stream",
     "text": [
      "execution time:  4.574736833572388\n",
      "execution time:  4.805927038192749\n",
      "execution time:  4.957950592041016\n",
      "execution time:  4.841551780700684\n",
      "execution time:  4.768738746643066\n",
      "execution time:  4.704966306686401\n",
      "execution time:  4.878693103790283\n",
      "execution time:  4.890622138977051\n",
      "execution time:  5.05074405670166\n",
      "execution time:  5.167950391769409\n",
      "execution time:  5.341783285140991\n",
      "training with 23 features\n"
     ]
    },
    {
     "name": "stderr",
     "output_type": "stream",
     "text": [
      "Precision is ill-defined and being set to 0.0 due to no predicted samples. Use `zero_division` parameter to control this behavior.\n"
     ]
    },
    {
     "name": "stdout",
     "output_type": "stream",
     "text": [
      "execution time:  5.499104976654053\n",
      "execution time:  10.077530860900879\n",
      "execution time:  10.105995178222656\n",
      "execution time:  9.989093542098999\n",
      "execution time:  10.12033224105835\n",
      "execution time:  10.087137222290039\n",
      "execution time:  9.990013122558594\n",
      "execution time:  10.562019109725952\n",
      "execution time:  11.028080463409424\n",
      "execution time:  10.749389886856079\n",
      "execution time:  11.624492168426514\n",
      "training with 22 features\n",
      "execution time:  9.984291076660156\n",
      "execution time:  10.11916470527649\n",
      "execution time:  10.02007269859314\n",
      "execution time:  10.043954133987427\n",
      "execution time:  9.999448537826538\n",
      "execution time:  10.07123351097107\n",
      "execution time:  10.034004926681519\n",
      "execution time:  10.47312617301941\n",
      "execution time:  10.933272123336792\n",
      "execution time:  11.614360332489014\n",
      "execution time:  12.25812578201294\n",
      "training with 21 features\n",
      "execution time:  10.644643306732178\n",
      "execution time:  10.567843198776245\n",
      "execution time:  10.641435384750366\n",
      "execution time:  10.71091914176941\n",
      "execution time:  10.580798864364624\n",
      "execution time:  10.663301467895508\n",
      "execution time:  10.607318878173828\n",
      "execution time:  11.018760681152344\n",
      "execution time:  11.495327472686768\n",
      "execution time:  11.532032251358032\n",
      "execution time:  12.194299221038818\n",
      "training with 20 features\n",
      "execution time:  10.679961204528809\n",
      "execution time:  12.176599264144897\n",
      "execution time:  11.42269492149353\n",
      "execution time:  10.864752292633057\n",
      "execution time:  12.598846673965454\n",
      "execution time:  10.840387105941772\n",
      "execution time:  10.932146787643433\n",
      "execution time:  11.212512969970703\n",
      "execution time:  11.804052352905273\n",
      "execution time:  6.955081939697266\n",
      "execution time:  6.36811637878418\n",
      "training with 19 features\n"
     ]
    },
    {
     "name": "stderr",
     "output_type": "stream",
     "text": [
      "Precision is ill-defined and being set to 0.0 due to no predicted samples. Use `zero_division` parameter to control this behavior.\n"
     ]
    },
    {
     "name": "stdout",
     "output_type": "stream",
     "text": [
      "execution time:  5.563318729400635\n",
      "execution time:  5.557793140411377\n",
      "execution time:  5.5770580768585205\n",
      "execution time:  5.634420394897461\n",
      "execution time:  5.531464338302612\n",
      "execution time:  5.582233428955078\n",
      "execution time:  5.646090745925903\n",
      "execution time:  5.781254529953003\n",
      "execution time:  5.955953598022461\n",
      "execution time:  6.058488368988037\n",
      "execution time:  6.313585042953491\n",
      "training with 18 features\n"
     ]
    },
    {
     "name": "stderr",
     "output_type": "stream",
     "text": [
      "Precision is ill-defined and being set to 0.0 due to no predicted samples. Use `zero_division` parameter to control this behavior.\n"
     ]
    },
    {
     "name": "stdout",
     "output_type": "stream",
     "text": [
      "execution time:  5.570227146148682\n",
      "execution time:  5.590358018875122\n",
      "execution time:  5.5894880294799805\n",
      "execution time:  5.606348276138306\n",
      "execution time:  5.502371311187744\n",
      "execution time:  5.615886926651001\n",
      "execution time:  5.537912607192993\n",
      "execution time:  5.813797473907471\n",
      "execution time:  6.099164962768555\n",
      "execution time:  5.994802236557007\n",
      "execution time:  6.314569711685181\n",
      "training with 17 features\n",
      "execution time:  5.481639862060547\n",
      "execution time:  5.51925802230835\n",
      "execution time:  5.6693031787872314\n",
      "execution time:  5.5308873653411865\n",
      "execution time:  5.571029186248779\n",
      "execution time:  5.634074687957764\n",
      "execution time:  5.578345775604248\n",
      "execution time:  5.853269577026367\n",
      "execution time:  6.03644323348999\n",
      "execution time:  5.936655759811401\n",
      "execution time:  6.398063659667969\n",
      "training with 16 features\n"
     ]
    },
    {
     "name": "stderr",
     "output_type": "stream",
     "text": [
      "Precision is ill-defined and being set to 0.0 due to no predicted samples. Use `zero_division` parameter to control this behavior.\n"
     ]
    },
    {
     "name": "stdout",
     "output_type": "stream",
     "text": [
      "execution time:  5.452690124511719\n",
      "execution time:  5.58188271522522\n",
      "execution time:  5.5238494873046875\n",
      "execution time:  5.545777320861816\n",
      "execution time:  5.5856170654296875\n",
      "execution time:  5.521236896514893\n",
      "execution time:  5.552908182144165\n",
      "execution time:  5.89355993270874\n",
      "execution time:  5.915079116821289\n",
      "execution time:  5.938388109207153\n",
      "execution time:  6.383960008621216\n",
      "training with 15 features\n"
     ]
    },
    {
     "name": "stderr",
     "output_type": "stream",
     "text": [
      "Precision is ill-defined and being set to 0.0 due to no predicted samples. Use `zero_division` parameter to control this behavior.\n"
     ]
    },
    {
     "name": "stdout",
     "output_type": "stream",
     "text": [
      "execution time:  5.3760459423065186\n",
      "execution time:  5.6233086585998535\n",
      "execution time:  5.500704765319824\n",
      "execution time:  5.560928821563721\n",
      "execution time:  5.718996047973633\n",
      "execution time:  5.6529693603515625\n",
      "execution time:  5.586376905441284\n",
      "execution time:  5.781606197357178\n",
      "execution time:  5.926601886749268\n",
      "execution time:  6.006664514541626\n",
      "execution time:  6.242506265640259\n",
      "training with 14 features\n"
     ]
    },
    {
     "name": "stderr",
     "output_type": "stream",
     "text": [
      "Precision is ill-defined and being set to 0.0 due to no predicted samples. Use `zero_division` parameter to control this behavior.\n"
     ]
    },
    {
     "name": "stdout",
     "output_type": "stream",
     "text": [
      "execution time:  5.534698009490967\n",
      "execution time:  5.544679880142212\n",
      "execution time:  5.5419769287109375\n",
      "execution time:  5.651682615280151\n",
      "execution time:  5.5505335330963135\n",
      "execution time:  5.563969373703003\n",
      "execution time:  5.626891613006592\n",
      "execution time:  5.9974730014801025\n",
      "execution time:  6.966605186462402\n",
      "execution time:  11.923524618148804\n",
      "execution time:  12.364502906799316\n",
      "training with 13 features\n"
     ]
    },
    {
     "name": "stderr",
     "output_type": "stream",
     "text": [
      "Precision is ill-defined and being set to 0.0 due to no predicted samples. Use `zero_division` parameter to control this behavior.\n"
     ]
    },
    {
     "name": "stdout",
     "output_type": "stream",
     "text": [
      "execution time:  10.667612314224243\n",
      "execution time:  10.788630247116089\n",
      "execution time:  10.58521842956543\n",
      "execution time:  10.794935703277588\n",
      "execution time:  10.635013341903687\n",
      "execution time:  10.44731330871582\n",
      "execution time:  10.645069122314453\n",
      "execution time:  11.339168548583984\n",
      "execution time:  11.488850593566895\n",
      "execution time:  11.770880699157715\n",
      "execution time:  12.221129894256592\n",
      "training with 12 features\n"
     ]
    },
    {
     "name": "stderr",
     "output_type": "stream",
     "text": [
      "Precision is ill-defined and being set to 0.0 due to no predicted samples. Use `zero_division` parameter to control this behavior.\n"
     ]
    },
    {
     "name": "stdout",
     "output_type": "stream",
     "text": [
      "execution time:  10.469228506088257\n",
      "execution time:  10.757371425628662\n",
      "execution time:  10.567711591720581\n",
      "execution time:  10.793872594833374\n",
      "execution time:  10.88978099822998\n",
      "execution time:  10.482986211776733\n",
      "execution time:  10.773947477340698\n",
      "execution time:  11.225746870040894\n",
      "execution time:  11.381057500839233\n",
      "execution time:  11.47566270828247\n",
      "execution time:  12.157383441925049\n",
      "training with 11 features\n",
      "execution time:  10.499804735183716\n",
      "execution time:  10.79546856880188\n",
      "execution time:  10.92369031906128\n",
      "execution time:  10.623240947723389\n",
      "execution time:  10.595232725143433\n",
      "execution time:  10.590214729309082\n",
      "execution time:  10.625571966171265\n",
      "execution time:  11.033203601837158\n",
      "execution time:  11.533918619155884\n",
      "execution time:  11.447660207748413\n",
      "execution time:  12.207395315170288\n",
      "training with 10 features\n",
      "execution time:  10.575064182281494\n",
      "execution time:  10.555956602096558\n",
      "execution time:  10.64481496810913\n",
      "execution time:  10.650362253189087\n",
      "execution time:  10.519866943359375\n",
      "execution time:  10.657660484313965\n",
      "execution time:  10.629542350769043\n",
      "execution time:  11.1158287525177\n",
      "execution time:  11.54319953918457\n",
      "execution time:  11.500044345855713\n",
      "execution time:  12.172525405883789\n",
      "training with 9 features\n",
      "execution time:  10.483400583267212\n",
      "execution time:  10.681459903717041\n",
      "execution time:  10.735211372375488\n",
      "execution time:  10.727753162384033\n",
      "execution time:  11.050825119018555\n",
      "execution time:  10.719523429870605\n",
      "execution time:  10.651362419128418\n",
      "execution time:  11.284611701965332\n",
      "execution time:  11.793891429901123\n",
      "execution time:  11.55992841720581\n",
      "execution time:  12.844750881195068\n",
      "training with 8 features\n"
     ]
    },
    {
     "name": "stderr",
     "output_type": "stream",
     "text": [
      "Precision is ill-defined and being set to 0.0 due to no predicted samples. Use `zero_division` parameter to control this behavior.\n"
     ]
    },
    {
     "name": "stdout",
     "output_type": "stream",
     "text": [
      "execution time:  10.381294012069702\n",
      "execution time:  10.548938512802124\n",
      "execution time:  10.651128768920898\n",
      "execution time:  10.53406548500061\n",
      "execution time:  10.540359497070312\n",
      "execution time:  10.6231107711792\n",
      "execution time:  10.410479545593262\n",
      "execution time:  11.060497522354126\n",
      "execution time:  11.497831344604492\n",
      "execution time:  11.39037823677063\n",
      "execution time:  12.193733930587769\n",
      "training with 7 features\n",
      "execution time:  10.448868989944458\n",
      "execution time:  10.662424087524414\n",
      "execution time:  10.842259883880615\n",
      "execution time:  10.561987161636353\n",
      "execution time:  10.623274564743042\n",
      "execution time:  10.709232807159424\n",
      "execution time:  10.492136001586914\n",
      "execution time:  11.09629774093628\n",
      "execution time:  11.733158588409424\n",
      "execution time:  11.429095268249512\n",
      "execution time:  12.100557327270508\n",
      "training with 6 features\n"
     ]
    },
    {
     "name": "stderr",
     "output_type": "stream",
     "text": [
      "Precision is ill-defined and being set to 0.0 due to no predicted samples. Use `zero_division` parameter to control this behavior.\n"
     ]
    },
    {
     "name": "stdout",
     "output_type": "stream",
     "text": [
      "execution time:  10.544625282287598\n",
      "execution time:  10.743212223052979\n",
      "execution time:  10.743256330490112\n",
      "execution time:  10.622856140136719\n",
      "execution time:  10.88182806968689\n",
      "execution time:  10.838675260543823\n",
      "execution time:  10.522109746932983\n",
      "execution time:  11.078046560287476\n",
      "execution time:  11.47755479812622\n",
      "execution time:  11.35604739189148\n",
      "execution time:  12.075290203094482\n",
      "training with 5 features\n"
     ]
    },
    {
     "name": "stderr",
     "output_type": "stream",
     "text": [
      "Precision is ill-defined and being set to 0.0 due to no predicted samples. Use `zero_division` parameter to control this behavior.\n"
     ]
    },
    {
     "name": "stdout",
     "output_type": "stream",
     "text": [
      "execution time:  10.397690296173096\n",
      "execution time:  10.680825471878052\n",
      "execution time:  10.526259660720825\n",
      "execution time:  10.59220576286316\n",
      "execution time:  10.405085325241089\n",
      "execution time:  10.419678211212158\n",
      "execution time:  10.54826307296753\n",
      "execution time:  10.959400177001953\n",
      "execution time:  11.309809684753418\n",
      "execution time:  11.534308195114136\n",
      "execution time:  11.935172080993652\n",
      "training with 4 features\n"
     ]
    },
    {
     "name": "stderr",
     "output_type": "stream",
     "text": [
      "Precision is ill-defined and being set to 0.0 due to no predicted samples. Use `zero_division` parameter to control this behavior.\n"
     ]
    },
    {
     "name": "stdout",
     "output_type": "stream",
     "text": [
      "execution time:  10.304084777832031\n",
      "execution time:  10.380404472351074\n",
      "execution time:  10.511705875396729\n",
      "execution time:  10.436301708221436\n",
      "execution time:  10.340621709823608\n",
      "execution time:  10.501242876052856\n",
      "execution time:  10.539426326751709\n",
      "execution time:  10.901701211929321\n",
      "execution time:  11.312507152557373\n",
      "execution time:  11.362460136413574\n",
      "execution time:  11.878559112548828\n",
      "training with 3 features\n",
      "execution time:  10.47387409210205\n",
      "execution time:  10.46131443977356\n",
      "execution time:  10.533738851547241\n",
      "execution time:  10.525573015213013\n",
      "execution time:  10.500174045562744\n",
      "execution time:  10.55286455154419\n",
      "execution time:  10.439963817596436\n",
      "execution time:  10.941242933273315\n",
      "execution time:  11.374484777450562\n",
      "execution time:  11.343872308731079\n",
      "execution time:  11.76713490486145\n",
      "training with 2 features\n",
      "execution time:  10.274626016616821\n",
      "execution time:  10.557001113891602\n",
      "execution time:  10.57409405708313\n",
      "execution time:  10.431665182113647\n",
      "execution time:  10.614881992340088\n",
      "execution time:  10.446423292160034\n",
      "execution time:  10.37293004989624\n",
      "execution time:  11.00208854675293\n",
      "execution time:  11.297952890396118\n",
      "execution time:  11.13924264907837\n",
      "execution time:  11.892822027206421\n",
      "training with 1 features\n",
      "execution time:  10.19038701057434\n",
      "execution time:  10.370814323425293\n",
      "execution time:  10.271793603897095\n",
      "execution time:  10.34669280052185\n",
      "execution time:  10.409185409545898\n",
      "execution time:  10.276090145111084\n",
      "execution time:  10.352299928665161\n",
      "execution time:  10.826451539993286\n",
      "execution time:  11.105038404464722\n",
      "execution time:  11.175951719284058\n",
      "execution time:  11.8108549118042\n",
      "CPU times: user 12h 52min 22s, sys: 3min 15s, total: 12h 55min 37s\n",
      "Wall time: 2h 6min\n",
      "traing for  Bruteforce-XML\n",
      "training with 79 features\n",
      "execution time:  14.382176399230957\n",
      "execution time:  14.456536531448364\n",
      "execution time:  14.55095386505127\n",
      "execution time:  14.910885334014893\n",
      "execution time:  14.70431900024414\n",
      "execution time:  14.481980323791504\n",
      "execution time:  14.306581020355225\n",
      "execution time:  15.129555463790894\n",
      "execution time:  16.02168297767639\n",
      "execution time:  15.465953350067139\n",
      "execution time:  16.721586227416992\n",
      "training with 78 features\n",
      "execution time:  14.39880919456482\n",
      "execution time:  14.19654130935669\n",
      "execution time:  14.033734321594238\n",
      "execution time:  14.215362787246704\n",
      "execution time:  14.17776107788086\n",
      "execution time:  14.38193941116333\n",
      "execution time:  14.245152950286865\n",
      "execution time:  14.796048164367676\n",
      "execution time:  15.254916429519653\n",
      "execution time:  15.37285828590393\n",
      "execution time:  16.855897188186646\n"
     ]
    },
    {
     "name": "stderr",
     "output_type": "stream",
     "text": [
      "Precision is ill-defined and being set to 0.0 due to no predicted samples. Use `zero_division` parameter to control this behavior.\n"
     ]
    },
    {
     "name": "stdout",
     "output_type": "stream",
     "text": [
      "training with 77 features\n",
      "execution time:  13.823934555053711\n",
      "execution time:  14.532622814178467\n",
      "execution time:  14.414974927902222\n",
      "execution time:  14.371397018432617\n",
      "execution time:  14.24570631980896\n",
      "execution time:  14.319329261779785\n",
      "execution time:  14.326050996780396\n",
      "execution time:  15.040832281112671\n",
      "execution time:  8.995563983917236\n",
      "execution time:  8.725796222686768\n",
      "execution time:  9.089592456817627\n",
      "training with 76 features\n",
      "execution time:  8.017703533172607\n",
      "execution time:  7.8615031242370605\n",
      "execution time:  8.066237211227417\n",
      "execution time:  7.862243413925171\n",
      "execution time:  8.020429611206055\n",
      "execution time:  7.820018529891968\n",
      "execution time:  7.964512348175049\n",
      "execution time:  8.098432302474976\n",
      "execution time:  11.420308828353882\n",
      "execution time:  13.162116527557373\n",
      "execution time:  15.536195278167725\n"
     ]
    },
    {
     "name": "stderr",
     "output_type": "stream",
     "text": [
      "Precision is ill-defined and being set to 0.0 due to no predicted samples. Use `zero_division` parameter to control this behavior.\n"
     ]
    },
    {
     "name": "stdout",
     "output_type": "stream",
     "text": [
      "training with 75 features\n",
      "execution time:  11.208798170089722\n",
      "execution time:  8.486987590789795\n",
      "execution time:  8.075376749038696\n",
      "execution time:  8.087541580200195\n",
      "execution time:  8.023458003997803\n",
      "execution time:  8.031718492507935\n",
      "execution time:  7.9415247440338135\n",
      "execution time:  8.371185541152954\n",
      "execution time:  8.633455753326416\n",
      "execution time:  12.118682622909546\n",
      "execution time:  16.626839876174927\n"
     ]
    },
    {
     "name": "stderr",
     "output_type": "stream",
     "text": [
      "Precision is ill-defined and being set to 0.0 due to no predicted samples. Use `zero_division` parameter to control this behavior.\n"
     ]
    },
    {
     "name": "stdout",
     "output_type": "stream",
     "text": [
      "training with 74 features\n",
      "execution time:  8.343214511871338\n",
      "execution time:  8.067224264144897\n",
      "execution time:  8.116217851638794\n",
      "execution time:  7.822590351104736\n",
      "execution time:  8.270906209945679\n",
      "execution time:  7.821608781814575\n",
      "execution time:  8.093155145645142\n",
      "execution time:  8.358788967132568\n",
      "execution time:  8.738979816436768\n",
      "execution time:  8.898541450500488\n",
      "execution time:  9.393292427062988\n",
      "training with 73 features\n",
      "execution time:  7.749629497528076\n",
      "execution time:  7.796491861343384\n",
      "execution time:  8.020310640335083\n",
      "execution time:  7.8663389682769775\n",
      "execution time:  7.941513776779175\n",
      "execution time:  7.850133895874023\n",
      "execution time:  7.881715774536133\n",
      "execution time:  8.01282525062561\n",
      "execution time:  8.551034450531006\n",
      "execution time:  8.227619886398315\n",
      "execution time:  9.046895265579224\n"
     ]
    },
    {
     "name": "stderr",
     "output_type": "stream",
     "text": [
      "Precision is ill-defined and being set to 0.0 due to no predicted samples. Use `zero_division` parameter to control this behavior.\n"
     ]
    },
    {
     "name": "stdout",
     "output_type": "stream",
     "text": [
      "training with 72 features\n",
      "execution time:  7.552091360092163\n",
      "execution time:  7.801356077194214\n",
      "execution time:  8.026823043823242\n",
      "execution time:  13.911449909210205\n",
      "execution time:  8.766242265701294\n",
      "execution time:  7.59267258644104\n",
      "execution time:  13.385575771331787\n",
      "execution time:  14.882213115692139\n",
      "execution time:  15.257169961929321\n",
      "execution time:  15.29425835609436\n",
      "execution time:  16.2490713596344\n",
      "training with 71 features\n",
      "execution time:  10.217109680175781\n",
      "execution time:  10.362553119659424\n",
      "execution time:  10.254814624786377\n",
      "execution time:  10.360625267028809\n",
      "execution time:  10.397077798843384\n",
      "execution time:  10.275931358337402\n",
      "execution time:  10.346879482269287\n",
      "execution time:  10.818706750869751\n",
      "execution time:  11.206471681594849\n",
      "execution time:  11.158320188522339\n",
      "execution time:  12.520476818084717\n"
     ]
    },
    {
     "name": "stderr",
     "output_type": "stream",
     "text": [
      "Precision is ill-defined and being set to 0.0 due to no predicted samples. Use `zero_division` parameter to control this behavior.\n"
     ]
    },
    {
     "name": "stdout",
     "output_type": "stream",
     "text": [
      "training with 70 features\n",
      "execution time:  10.187682390213013\n",
      "execution time:  10.427395820617676\n",
      "execution time:  10.51035737991333\n",
      "execution time:  10.348847389221191\n",
      "execution time:  10.29647159576416\n",
      "execution time:  10.833242654800415\n",
      "execution time:  10.404969215393066\n",
      "execution time:  10.756861686706543\n",
      "execution time:  11.182328224182129\n",
      "execution time:  11.09666633605957\n",
      "execution time:  12.271823406219482\n"
     ]
    },
    {
     "name": "stderr",
     "output_type": "stream",
     "text": [
      "Precision is ill-defined and being set to 0.0 due to no predicted samples. Use `zero_division` parameter to control this behavior.\n"
     ]
    },
    {
     "name": "stdout",
     "output_type": "stream",
     "text": [
      "training with 69 features\n",
      "execution time:  10.259890794754028\n",
      "execution time:  10.493044376373291\n",
      "execution time:  10.338189125061035\n",
      "execution time:  10.389485120773315\n",
      "execution time:  10.349770784378052\n",
      "execution time:  10.380049705505371\n",
      "execution time:  10.34514331817627\n",
      "execution time:  10.821943998336792\n",
      "execution time:  11.164703369140625\n",
      "execution time:  11.17299199104309\n",
      "execution time:  12.21108603477478\n",
      "training with 68 features\n",
      "execution time:  10.215651512145996\n",
      "execution time:  10.485751152038574\n",
      "execution time:  10.52565050125122\n",
      "execution time:  10.613425731658936\n",
      "execution time:  11.527711391448975\n",
      "execution time:  10.549481868743896\n",
      "execution time:  10.520658016204834\n",
      "execution time:  11.002026557922363\n",
      "execution time:  11.3931725025177\n",
      "execution time:  11.257914304733276\n",
      "execution time:  12.449121236801147\n"
     ]
    },
    {
     "name": "stderr",
     "output_type": "stream",
     "text": [
      "Precision is ill-defined and being set to 0.0 due to no predicted samples. Use `zero_division` parameter to control this behavior.\n"
     ]
    },
    {
     "name": "stdout",
     "output_type": "stream",
     "text": [
      "training with 67 features\n",
      "execution time:  10.411925792694092\n",
      "execution time:  10.536322832107544\n",
      "execution time:  10.570406198501587\n",
      "execution time:  10.506422281265259\n",
      "execution time:  10.585159540176392\n",
      "execution time:  10.67160677909851\n",
      "execution time:  10.567457914352417\n",
      "execution time:  11.045630931854248\n",
      "execution time:  11.360808610916138\n",
      "execution time:  11.255687713623047\n",
      "execution time:  12.426017999649048\n",
      "training with 66 features\n",
      "execution time:  10.435893297195435\n",
      "execution time:  10.574454307556152\n",
      "execution time:  10.46921706199646\n",
      "execution time:  10.589668035507202\n",
      "execution time:  10.571989297866821\n",
      "execution time:  10.504016399383545\n",
      "execution time:  10.67383623123169\n",
      "execution time:  11.077546119689941\n",
      "execution time:  11.276752948760986\n",
      "execution time:  11.324473857879639\n",
      "execution time:  12.358941078186035\n",
      "training with 65 features\n",
      "execution time:  10.45754075050354\n",
      "execution time:  10.650116443634033\n",
      "execution time:  10.465927600860596\n",
      "execution time:  10.638848543167114\n",
      "execution time:  10.52182674407959\n",
      "execution time:  10.475504875183105\n",
      "execution time:  10.573943376541138\n",
      "execution time:  11.146849155426025\n",
      "execution time:  11.270835638046265\n",
      "execution time:  11.395250797271729\n",
      "execution time:  12.225332498550415\n",
      "training with 64 features\n",
      "execution time:  10.324994087219238\n",
      "execution time:  10.461359024047852\n",
      "execution time:  10.389344692230225\n",
      "execution time:  10.4442720413208\n",
      "execution time:  10.381759881973267\n",
      "execution time:  10.432958126068115\n",
      "execution time:  10.849042177200317\n",
      "execution time:  11.26770305633545\n",
      "execution time:  11.53061842918396\n",
      "execution time:  11.496222972869873\n",
      "execution time:  12.680198192596436\n",
      "training with 63 features\n",
      "execution time:  10.641669034957886\n",
      "execution time:  10.742470979690552\n",
      "execution time:  10.874145269393921\n",
      "execution time:  10.82817792892456\n",
      "execution time:  11.30588698387146\n",
      "execution time:  10.894174814224243\n",
      "execution time:  10.835775136947632\n",
      "execution time:  11.318482875823975\n",
      "execution time:  11.599689245223999\n",
      "execution time:  11.700942993164062\n",
      "execution time:  12.694611549377441\n",
      "training with 62 features\n",
      "execution time:  10.742192268371582\n",
      "execution time:  10.808292388916016\n",
      "execution time:  10.885449409484863\n",
      "execution time:  10.81092643737793\n",
      "execution time:  10.727708101272583\n",
      "execution time:  10.785691976547241\n",
      "execution time:  10.818268060684204\n",
      "execution time:  11.32527494430542\n",
      "execution time:  11.62922191619873\n",
      "execution time:  11.677175998687744\n",
      "execution time:  12.63525104522705\n"
     ]
    },
    {
     "name": "stderr",
     "output_type": "stream",
     "text": [
      "Precision is ill-defined and being set to 0.0 due to no predicted samples. Use `zero_division` parameter to control this behavior.\n"
     ]
    },
    {
     "name": "stdout",
     "output_type": "stream",
     "text": [
      "training with 61 features\n",
      "execution time:  10.690031051635742\n",
      "execution time:  10.799137830734253\n",
      "execution time:  10.814478874206543\n",
      "execution time:  10.786152601242065\n",
      "execution time:  10.757915496826172\n",
      "execution time:  10.806146144866943\n",
      "execution time:  10.84907341003418\n",
      "execution time:  11.34428071975708\n",
      "execution time:  11.569182634353638\n",
      "execution time:  11.622298955917358\n",
      "execution time:  12.57107925415039\n"
     ]
    },
    {
     "name": "stderr",
     "output_type": "stream",
     "text": [
      "Precision is ill-defined and being set to 0.0 due to no predicted samples. Use `zero_division` parameter to control this behavior.\n"
     ]
    },
    {
     "name": "stdout",
     "output_type": "stream",
     "text": [
      "training with 60 features\n",
      "execution time:  10.715304851531982\n",
      "execution time:  10.75092887878418\n",
      "execution time:  10.778584003448486\n",
      "execution time:  10.77798867225647\n",
      "execution time:  10.912444114685059\n",
      "execution time:  10.7166428565979\n",
      "execution time:  10.842727661132812\n",
      "execution time:  11.283597230911255\n",
      "execution time:  11.574933052062988\n",
      "execution time:  11.654086351394653\n",
      "execution time:  12.545225143432617\n"
     ]
    },
    {
     "name": "stderr",
     "output_type": "stream",
     "text": [
      "Precision is ill-defined and being set to 0.0 due to no predicted samples. Use `zero_division` parameter to control this behavior.\n"
     ]
    },
    {
     "name": "stdout",
     "output_type": "stream",
     "text": [
      "training with 59 features\n",
      "execution time:  10.64862585067749\n",
      "execution time:  10.873164653778076\n",
      "execution time:  10.787760972976685\n",
      "execution time:  10.963132858276367\n",
      "execution time:  10.835135459899902\n",
      "execution time:  10.910234928131104\n",
      "execution time:  10.578521013259888\n",
      "execution time:  11.032865524291992\n",
      "execution time:  11.176959037780762\n",
      "execution time:  11.289509296417236\n",
      "execution time:  12.206185579299927\n",
      "training with 58 features\n",
      "execution time:  10.727700233459473\n",
      "execution time:  10.710539817810059\n",
      "execution time:  5.80302095413208\n",
      "execution time:  5.607619762420654\n",
      "execution time:  5.668534994125366\n",
      "execution time:  5.61642861366272\n",
      "execution time:  5.594408273696899\n",
      "execution time:  5.646800756454468\n",
      "execution time:  5.753585338592529\n",
      "execution time:  5.744766473770142\n",
      "execution time:  6.1826012134552\n",
      "training with 57 features\n",
      "execution time:  5.4723992347717285\n",
      "execution time:  5.69213342666626\n",
      "execution time:  5.6252601146698\n",
      "execution time:  5.574370622634888\n",
      "execution time:  5.677521467208862\n",
      "execution time:  5.573598384857178\n",
      "execution time:  5.616434812545776\n",
      "execution time:  5.90303373336792\n",
      "execution time:  6.014583349227905\n",
      "execution time:  6.109896421432495\n",
      "execution time:  6.4505720138549805\n"
     ]
    },
    {
     "name": "stderr",
     "output_type": "stream",
     "text": [
      "Precision is ill-defined and being set to 0.0 due to no predicted samples. Use `zero_division` parameter to control this behavior.\n"
     ]
    },
    {
     "name": "stdout",
     "output_type": "stream",
     "text": [
      "training with 56 features\n",
      "execution time:  5.626190185546875\n",
      "execution time:  5.613475561141968\n",
      "execution time:  5.625497341156006\n",
      "execution time:  10.647286891937256\n",
      "execution time:  10.787010431289673\n",
      "execution time:  10.664093971252441\n",
      "execution time:  10.860128164291382\n",
      "execution time:  10.731802225112915\n",
      "execution time:  11.006490468978882\n",
      "execution time:  11.01241135597229\n",
      "execution time:  11.94768214225769\n",
      "training with 55 features\n",
      "execution time:  10.628068208694458\n",
      "execution time:  10.689607858657837\n",
      "execution time:  10.928751468658447\n",
      "execution time:  10.857441425323486\n",
      "execution time:  10.707176685333252\n",
      "execution time:  10.810343265533447\n",
      "execution time:  10.780520915985107\n",
      "execution time:  11.259945631027222\n",
      "execution time:  11.632982015609741\n",
      "execution time:  6.147252798080444\n",
      "execution time:  6.396754741668701\n",
      "training with 54 features\n",
      "execution time:  5.592357635498047\n",
      "execution time:  5.602320432662964\n",
      "execution time:  5.599048614501953\n",
      "execution time:  5.703284502029419\n",
      "execution time:  5.611682891845703\n",
      "execution time:  5.583971738815308\n",
      "execution time:  5.701153755187988\n",
      "execution time:  5.813059329986572\n",
      "execution time:  6.000459432601929\n",
      "execution time:  6.055277585983276\n",
      "execution time:  6.345273971557617\n"
     ]
    },
    {
     "name": "stderr",
     "output_type": "stream",
     "text": [
      "Precision is ill-defined and being set to 0.0 due to no predicted samples. Use `zero_division` parameter to control this behavior.\n"
     ]
    },
    {
     "name": "stdout",
     "output_type": "stream",
     "text": [
      "training with 53 features\n",
      "execution time:  5.509028196334839\n",
      "execution time:  5.592003583908081\n",
      "execution time:  5.666378021240234\n",
      "execution time:  5.587924480438232\n",
      "execution time:  5.568030118942261\n",
      "execution time:  5.712645769119263\n",
      "execution time:  5.576155185699463\n",
      "execution time:  5.791592121124268\n",
      "execution time:  6.091552972793579\n",
      "execution time:  5.991910219192505\n",
      "execution time:  6.561076641082764\n",
      "training with 52 features\n",
      "execution time:  5.494163990020752\n",
      "execution time:  5.6170384883880615\n",
      "execution time:  5.689590692520142\n",
      "execution time:  5.570030689239502\n",
      "execution time:  5.699794054031372\n",
      "execution time:  5.616326093673706\n",
      "execution time:  5.5796895027160645\n",
      "execution time:  5.9092676639556885\n",
      "execution time:  6.009819507598877\n",
      "execution time:  5.996615886688232\n",
      "execution time:  6.467694997787476\n"
     ]
    },
    {
     "name": "stderr",
     "output_type": "stream",
     "text": [
      "Precision is ill-defined and being set to 0.0 due to no predicted samples. Use `zero_division` parameter to control this behavior.\n"
     ]
    },
    {
     "name": "stdout",
     "output_type": "stream",
     "text": [
      "training with 51 features\n",
      "execution time:  5.466169595718384\n",
      "execution time:  5.635454893112183\n",
      "execution time:  5.538885116577148\n",
      "execution time:  5.572400093078613\n",
      "execution time:  5.677793502807617\n",
      "execution time:  5.3443922996521\n",
      "execution time:  5.325608968734741\n",
      "execution time:  5.6708784103393555\n",
      "execution time:  5.74903416633606\n",
      "execution time:  5.997219562530518\n",
      "execution time:  6.298283815383911\n",
      "training with 50 features\n",
      "execution time:  5.536959648132324\n",
      "execution time:  5.609272718429565\n",
      "execution time:  5.572394847869873\n",
      "execution time:  5.665656566619873\n",
      "execution time:  5.586150884628296\n",
      "execution time:  5.582477807998657\n",
      "execution time:  5.665480375289917\n",
      "execution time:  5.805744647979736\n",
      "execution time:  6.02300500869751\n",
      "execution time:  6.11229133605957\n",
      "execution time:  6.339933633804321\n"
     ]
    },
    {
     "name": "stderr",
     "output_type": "stream",
     "text": [
      "Precision is ill-defined and being set to 0.0 due to no predicted samples. Use `zero_division` parameter to control this behavior.\n"
     ]
    },
    {
     "name": "stdout",
     "output_type": "stream",
     "text": [
      "training with 49 features\n",
      "execution time:  5.584454536437988\n",
      "execution time:  5.583785533905029\n",
      "execution time:  5.595516204833984\n",
      "execution time:  5.682881593704224\n",
      "execution time:  5.554167747497559\n",
      "execution time:  5.6320319175720215\n",
      "execution time:  5.599168062210083\n",
      "execution time:  5.820831775665283\n",
      "execution time:  6.088179349899292\n",
      "execution time:  6.0073583126068115\n",
      "execution time:  6.348185777664185\n"
     ]
    },
    {
     "name": "stderr",
     "output_type": "stream",
     "text": [
      "Precision is ill-defined and being set to 0.0 due to no predicted samples. Use `zero_division` parameter to control this behavior.\n"
     ]
    },
    {
     "name": "stdout",
     "output_type": "stream",
     "text": [
      "training with 48 features\n",
      "execution time:  5.421409606933594\n",
      "execution time:  4.785813093185425\n",
      "execution time:  4.791164398193359\n",
      "execution time:  4.724740028381348\n",
      "execution time:  4.717179775238037\n",
      "execution time:  4.73332667350769\n",
      "execution time:  4.704867839813232\n",
      "execution time:  4.824902057647705\n",
      "execution time:  4.969472885131836\n",
      "execution time:  5.147438287734985\n",
      "execution time:  5.298402547836304\n",
      "training with 47 features\n",
      "execution time:  4.682226657867432\n",
      "execution time:  4.652792930603027\n",
      "execution time:  4.689328670501709\n",
      "execution time:  4.759451389312744\n",
      "execution time:  4.762765407562256\n",
      "execution time:  4.620059251785278\n",
      "execution time:  4.64277458190918\n",
      "execution time:  4.91222357749939\n",
      "execution time:  4.9400553703308105\n",
      "execution time:  4.998868703842163\n",
      "execution time:  5.446038722991943\n",
      "training with 46 features\n",
      "execution time:  4.533039808273315\n",
      "execution time:  4.637960195541382\n",
      "execution time:  4.807382583618164\n",
      "execution time:  4.684998273849487\n",
      "execution time:  4.653988599777222\n",
      "execution time:  4.956151723861694\n",
      "execution time:  4.661444664001465\n",
      "execution time:  4.7876081466674805\n",
      "execution time:  5.101279973983765\n",
      "execution time:  4.935602426528931\n",
      "execution time:  5.281970024108887\n"
     ]
    },
    {
     "name": "stderr",
     "output_type": "stream",
     "text": [
      "Precision is ill-defined and being set to 0.0 due to no predicted samples. Use `zero_division` parameter to control this behavior.\n"
     ]
    },
    {
     "name": "stdout",
     "output_type": "stream",
     "text": [
      "training with 45 features\n",
      "execution time:  4.678698778152466\n",
      "execution time:  4.746803283691406\n",
      "execution time:  4.6390252113342285\n",
      "execution time:  4.792523622512817\n",
      "execution time:  4.794102430343628\n",
      "execution time:  4.6416168212890625\n",
      "execution time:  4.8795201778411865\n",
      "execution time:  4.876171588897705\n",
      "execution time:  5.051362752914429\n",
      "execution time:  4.963599920272827\n",
      "execution time:  5.379257678985596\n",
      "training with 44 features\n",
      "execution time:  4.518724203109741\n",
      "execution time:  4.811602592468262\n",
      "execution time:  4.677224159240723\n",
      "execution time:  4.623515844345093\n",
      "execution time:  4.693563938140869\n",
      "execution time:  4.710130453109741\n",
      "execution time:  4.78346586227417\n",
      "execution time:  4.914871454238892\n",
      "execution time:  5.168848037719727\n",
      "execution time:  5.01400089263916\n",
      "execution time:  5.336217164993286\n",
      "training with 43 features\n",
      "execution time:  4.485823154449463\n",
      "execution time:  4.674937963485718\n",
      "execution time:  4.769471168518066\n",
      "execution time:  4.727384090423584\n",
      "execution time:  4.630537748336792\n",
      "execution time:  4.6200902462005615\n",
      "execution time:  4.746798276901245\n",
      "execution time:  4.8169472217559814\n",
      "execution time:  5.01018762588501\n",
      "execution time:  4.911947250366211\n",
      "execution time:  5.059353590011597\n"
     ]
    },
    {
     "name": "stderr",
     "output_type": "stream",
     "text": [
      "Precision is ill-defined and being set to 0.0 due to no predicted samples. Use `zero_division` parameter to control this behavior.\n"
     ]
    },
    {
     "name": "stdout",
     "output_type": "stream",
     "text": [
      "training with 42 features\n",
      "execution time:  4.5170698165893555\n",
      "execution time:  4.7942094802856445\n",
      "execution time:  4.667078256607056\n",
      "execution time:  4.659560680389404\n",
      "execution time:  4.762039661407471\n",
      "execution time:  9.91633129119873\n",
      "execution time:  10.21383810043335\n",
      "execution time:  10.670541524887085\n",
      "execution time:  10.866562128067017\n",
      "execution time:  11.036650657653809\n",
      "execution time:  11.792663812637329\n"
     ]
    },
    {
     "name": "stderr",
     "output_type": "stream",
     "text": [
      "Precision is ill-defined and being set to 0.0 due to no predicted samples. Use `zero_division` parameter to control this behavior.\n"
     ]
    },
    {
     "name": "stdout",
     "output_type": "stream",
     "text": [
      "training with 41 features\n",
      "execution time:  10.02298903465271\n",
      "execution time:  10.016802787780762\n",
      "execution time:  10.174776077270508\n",
      "execution time:  10.108459234237671\n",
      "execution time:  9.985684156417847\n",
      "execution time:  6.82917332649231\n",
      "execution time:  10.093800783157349\n",
      "execution time:  10.610454797744751\n",
      "execution time:  10.981644630432129\n",
      "execution time:  10.836560249328613\n",
      "execution time:  11.741389989852905\n",
      "training with 40 features\n",
      "execution time:  10.498073816299438\n",
      "execution time:  10.64215612411499\n",
      "execution time:  10.527613639831543\n",
      "execution time:  10.624443292617798\n",
      "execution time:  10.597158193588257\n",
      "execution time:  10.495728254318237\n",
      "execution time:  10.643535375595093\n",
      "execution time:  11.09748649597168\n",
      "execution time:  11.374995946884155\n",
      "execution time:  11.488903522491455\n",
      "execution time:  12.323493003845215\n"
     ]
    },
    {
     "name": "stderr",
     "output_type": "stream",
     "text": [
      "Precision is ill-defined and being set to 0.0 due to no predicted samples. Use `zero_division` parameter to control this behavior.\n"
     ]
    },
    {
     "name": "stdout",
     "output_type": "stream",
     "text": [
      "training with 39 features\n",
      "execution time:  10.539023160934448\n",
      "execution time:  10.678391218185425\n",
      "execution time:  10.649758577346802\n",
      "execution time:  10.763219594955444\n",
      "execution time:  10.851770162582397\n",
      "execution time:  10.602285146713257\n",
      "execution time:  10.705533504486084\n",
      "execution time:  11.196860313415527\n",
      "execution time:  11.42768120765686\n",
      "execution time:  11.5539391040802\n",
      "execution time:  12.471583604812622\n",
      "training with 38 features\n",
      "execution time:  10.586430072784424\n",
      "execution time:  10.577333927154541\n",
      "execution time:  10.701244115829468\n",
      "execution time:  10.449054956436157\n",
      "execution time:  10.543895244598389\n",
      "execution time:  10.6850004196167\n",
      "execution time:  10.7274329662323\n",
      "execution time:  11.0051589012146\n",
      "execution time:  11.886754751205444\n",
      "execution time:  11.575340509414673\n",
      "execution time:  12.439379930496216\n",
      "training with 37 features\n",
      "execution time:  10.557579755783081\n",
      "execution time:  10.643076419830322\n",
      "execution time:  10.582464218139648\n",
      "execution time:  10.717119932174683\n",
      "execution time:  10.623095035552979\n",
      "execution time:  10.760080099105835\n",
      "execution time:  10.707528591156006\n",
      "execution time:  11.037575960159302\n",
      "execution time:  11.594907522201538\n",
      "execution time:  11.641932725906372\n",
      "execution time:  12.429274320602417\n"
     ]
    },
    {
     "name": "stderr",
     "output_type": "stream",
     "text": [
      "Precision is ill-defined and being set to 0.0 due to no predicted samples. Use `zero_division` parameter to control this behavior.\n"
     ]
    },
    {
     "name": "stdout",
     "output_type": "stream",
     "text": [
      "training with 36 features\n",
      "execution time:  10.25184178352356\n",
      "execution time:  10.30602741241455\n",
      "execution time:  10.39138126373291\n",
      "execution time:  10.368006229400635\n",
      "execution time:  10.350746154785156\n",
      "execution time:  10.678828716278076\n",
      "execution time:  10.719533443450928\n",
      "execution time:  11.038258075714111\n",
      "execution time:  11.503461122512817\n",
      "execution time:  11.453492403030396\n",
      "execution time:  12.326523780822754\n",
      "training with 35 features\n",
      "execution time:  10.453155755996704\n",
      "execution time:  10.67370319366455\n",
      "execution time:  10.684527397155762\n",
      "execution time:  10.566385507583618\n",
      "execution time:  10.791251182556152\n",
      "execution time:  10.699064016342163\n",
      "execution time:  10.537774085998535\n",
      "execution time:  11.18779444694519\n",
      "execution time:  11.472672939300537\n",
      "execution time:  11.47623610496521\n",
      "execution time:  12.25043249130249\n"
     ]
    },
    {
     "name": "stderr",
     "output_type": "stream",
     "text": [
      "Precision is ill-defined and being set to 0.0 due to no predicted samples. Use `zero_division` parameter to control this behavior.\n"
     ]
    },
    {
     "name": "stdout",
     "output_type": "stream",
     "text": [
      "training with 34 features\n",
      "execution time:  10.448858976364136\n",
      "execution time:  10.681753635406494\n",
      "execution time:  10.707634449005127\n",
      "execution time:  10.573704242706299\n",
      "execution time:  10.764013767242432\n",
      "execution time:  10.773747682571411\n",
      "execution time:  11.201904773712158\n",
      "execution time:  11.21152663230896\n",
      "execution time:  11.961529970169067\n",
      "execution time:  11.557159423828125\n",
      "execution time:  12.17578387260437\n"
     ]
    },
    {
     "name": "stderr",
     "output_type": "stream",
     "text": [
      "Precision is ill-defined and being set to 0.0 due to no predicted samples. Use `zero_division` parameter to control this behavior.\n"
     ]
    },
    {
     "name": "stdout",
     "output_type": "stream",
     "text": [
      "training with 33 features\n",
      "execution time:  10.469875574111938\n",
      "execution time:  10.741854429244995\n",
      "execution time:  10.719586849212646\n",
      "execution time:  10.652436256408691\n",
      "execution time:  10.826576232910156\n",
      "execution time:  10.749387979507446\n",
      "execution time:  10.678352355957031\n",
      "execution time:  11.229394435882568\n",
      "execution time:  11.597836971282959\n",
      "execution time:  11.5101478099823\n",
      "execution time:  12.36564302444458\n"
     ]
    },
    {
     "name": "stderr",
     "output_type": "stream",
     "text": [
      "Precision is ill-defined and being set to 0.0 due to no predicted samples. Use `zero_division` parameter to control this behavior.\n"
     ]
    },
    {
     "name": "stdout",
     "output_type": "stream",
     "text": [
      "training with 32 features\n",
      "execution time:  10.372242212295532\n",
      "execution time:  10.627830982208252\n",
      "execution time:  10.642252683639526\n",
      "execution time:  10.457015752792358\n",
      "execution time:  10.623536586761475\n",
      "execution time:  10.641934156417847\n",
      "execution time:  10.487456560134888\n",
      "execution time:  11.190298318862915\n",
      "execution time:  11.49714207649231\n",
      "execution time:  11.322886228561401\n",
      "execution time:  12.314560174942017\n"
     ]
    },
    {
     "name": "stderr",
     "output_type": "stream",
     "text": [
      "Precision is ill-defined and being set to 0.0 due to no predicted samples. Use `zero_division` parameter to control this behavior.\n"
     ]
    },
    {
     "name": "stdout",
     "output_type": "stream",
     "text": [
      "training with 31 features\n",
      "execution time:  10.525137424468994\n",
      "execution time:  10.702210426330566\n",
      "execution time:  10.55220651626587\n",
      "execution time:  10.730825662612915\n",
      "execution time:  10.685203552246094\n",
      "execution time:  10.625393152236938\n",
      "execution time:  10.716394424438477\n",
      "execution time:  11.067025423049927\n",
      "execution time:  11.438732862472534\n",
      "execution time:  11.365025281906128\n",
      "execution time:  12.301694393157959\n",
      "training with 30 features\n",
      "execution time:  10.531831979751587\n",
      "execution time:  10.72415018081665\n",
      "execution time:  10.567400455474854\n",
      "execution time:  10.66930365562439\n",
      "execution time:  10.67713212966919\n",
      "execution time:  10.600187540054321\n",
      "execution time:  10.679086208343506\n",
      "execution time:  11.193991422653198\n",
      "execution time:  11.335428476333618\n",
      "execution time:  11.47016453742981\n",
      "execution time:  12.188951253890991\n",
      "training with 29 features\n",
      "execution time:  10.52497673034668\n",
      "execution time:  10.878313779830933\n",
      "execution time:  10.535542964935303\n",
      "execution time:  10.582979679107666\n",
      "execution time:  10.601257801055908\n",
      "execution time:  10.64089035987854\n",
      "execution time:  10.658398151397705\n",
      "execution time:  11.067154884338379\n",
      "execution time:  11.313161373138428\n",
      "execution time:  11.458227157592773\n",
      "execution time:  12.273796558380127\n"
     ]
    },
    {
     "name": "stderr",
     "output_type": "stream",
     "text": [
      "Precision is ill-defined and being set to 0.0 due to no predicted samples. Use `zero_division` parameter to control this behavior.\n"
     ]
    },
    {
     "name": "stdout",
     "output_type": "stream",
     "text": [
      "training with 28 features\n",
      "execution time:  10.517052173614502\n",
      "execution time:  10.554882526397705\n",
      "execution time:  10.703088998794556\n",
      "execution time:  10.623726844787598\n",
      "execution time:  10.586072206497192\n",
      "execution time:  10.866673707962036\n",
      "execution time:  10.712630271911621\n",
      "execution time:  11.02739667892456\n",
      "execution time:  11.472044229507446\n",
      "execution time:  11.463676452636719\n",
      "execution time:  12.188716650009155\n",
      "training with 27 features\n"
     ]
    },
    {
     "name": "stderr",
     "output_type": "stream",
     "text": [
      "Precision is ill-defined and being set to 0.0 due to no predicted samples. Use `zero_division` parameter to control this behavior.\n"
     ]
    },
    {
     "name": "stdout",
     "output_type": "stream",
     "text": [
      "execution time:  10.540750503540039\n",
      "execution time:  10.507146120071411\n",
      "execution time:  10.655028581619263\n",
      "execution time:  10.666513919830322\n",
      "execution time:  10.521175622940063\n",
      "execution time:  10.688107013702393\n",
      "execution time:  10.776622772216797\n",
      "execution time:  11.025893449783325\n",
      "execution time:  11.447375535964966\n",
      "execution time:  11.48797345161438\n",
      "execution time:  12.186105966567993\n"
     ]
    },
    {
     "name": "stderr",
     "output_type": "stream",
     "text": [
      "Precision is ill-defined and being set to 0.0 due to no predicted samples. Use `zero_division` parameter to control this behavior.\n"
     ]
    },
    {
     "name": "stdout",
     "output_type": "stream",
     "text": [
      "training with 26 features\n",
      "execution time:  10.418163776397705\n",
      "execution time:  10.636388540267944\n",
      "execution time:  10.604427099227905\n",
      "execution time:  10.495981931686401\n",
      "execution time:  10.655766725540161\n",
      "execution time:  10.62054443359375\n",
      "execution time:  10.540238857269287\n",
      "execution time:  11.147555351257324\n",
      "execution time:  11.65795636177063\n",
      "execution time:  11.408928155899048\n",
      "execution time:  12.126363277435303\n",
      "training with 25 features\n"
     ]
    },
    {
     "name": "stderr",
     "output_type": "stream",
     "text": [
      "Precision is ill-defined and being set to 0.0 due to no predicted samples. Use `zero_division` parameter to control this behavior.\n"
     ]
    },
    {
     "name": "stdout",
     "output_type": "stream",
     "text": [
      "execution time:  10.418819427490234\n",
      "execution time:  10.67156982421875\n",
      "execution time:  10.611706256866455\n",
      "execution time:  10.489461660385132\n",
      "execution time:  10.594476699829102\n",
      "execution time:  10.612658023834229\n",
      "execution time:  10.491056442260742\n",
      "execution time:  11.098718166351318\n",
      "execution time:  11.421112060546875\n",
      "execution time:  11.292156457901001\n",
      "execution time:  12.239555358886719\n",
      "training with 24 features\n",
      "execution time:  10.296172857284546\n",
      "execution time:  10.57077693939209\n",
      "execution time:  10.450329780578613\n",
      "execution time:  10.561072587966919\n",
      "execution time:  10.618300676345825\n",
      "execution time:  10.427917957305908\n",
      "execution time:  10.58024525642395\n",
      "execution time:  11.065466403961182\n",
      "execution time:  11.302908658981323\n",
      "execution time:  11.338131189346313\n",
      "execution time:  12.154430389404297\n",
      "training with 23 features\n",
      "execution time:  10.441130638122559\n",
      "execution time:  10.631049871444702\n",
      "execution time:  10.468814134597778\n",
      "execution time:  10.58214783668518\n",
      "execution time:  10.57278823852539\n",
      "execution time:  10.473172187805176\n",
      "execution time:  10.586746454238892\n",
      "execution time:  11.044593811035156\n",
      "execution time:  11.319307804107666\n",
      "execution time:  11.39142394065857\n",
      "execution time:  12.156811714172363\n",
      "training with 22 features\n",
      "execution time:  10.464388608932495\n",
      "execution time:  10.512253522872925\n",
      "execution time:  10.66895604133606\n",
      "execution time:  10.637481212615967\n",
      "execution time:  10.484461545944214\n",
      "execution time:  10.642940998077393\n",
      "execution time:  10.605729579925537\n",
      "execution time:  10.934250831604004\n",
      "execution time:  11.53238296508789\n",
      "execution time:  11.017489433288574\n",
      "execution time:  12.117399454116821\n",
      "training with 21 features\n",
      "execution time:  10.394005537033081\n",
      "execution time:  10.45186161994934\n",
      "execution time:  10.603307008743286\n",
      "execution time:  10.516752481460571\n",
      "execution time:  10.472335815429688\n",
      "execution time:  10.588465213775635\n",
      "execution time:  10.521449565887451\n",
      "execution time:  11.053706884384155\n",
      "execution time:  11.47600531578064\n",
      "execution time:  11.433719396591187\n",
      "execution time:  12.124857664108276\n",
      "training with 20 features\n"
     ]
    },
    {
     "name": "stderr",
     "output_type": "stream",
     "text": [
      "Precision is ill-defined and being set to 0.0 due to no predicted samples. Use `zero_division` parameter to control this behavior.\n"
     ]
    },
    {
     "name": "stdout",
     "output_type": "stream",
     "text": [
      "execution time:  10.361928701400757\n",
      "execution time:  10.601055145263672\n",
      "execution time:  10.692868709564209\n",
      "execution time:  10.466261148452759\n",
      "execution time:  10.63413143157959\n",
      "execution time:  10.600040912628174\n",
      "execution time:  10.511716604232788\n",
      "execution time:  11.064388751983643\n",
      "execution time:  11.476218938827515\n",
      "execution time:  11.33456301689148\n",
      "execution time:  12.144760608673096\n",
      "training with 19 features\n",
      "execution time:  10.390423059463501\n",
      "execution time:  10.599316120147705\n",
      "execution time:  10.594148397445679\n",
      "execution time:  10.545260190963745\n",
      "execution time:  10.591543912887573\n",
      "execution time:  10.50963807106018\n",
      "execution time:  10.594950914382935\n",
      "execution time:  11.073680400848389\n",
      "execution time:  11.408556461334229\n",
      "execution time:  11.334894180297852\n",
      "execution time:  12.119840621948242\n",
      "training with 18 features\n"
     ]
    },
    {
     "name": "stderr",
     "output_type": "stream",
     "text": [
      "Precision is ill-defined and being set to 0.0 due to no predicted samples. Use `zero_division` parameter to control this behavior.\n"
     ]
    },
    {
     "name": "stdout",
     "output_type": "stream",
     "text": [
      "execution time:  10.497195482254028\n",
      "execution time:  10.628133773803711\n",
      "execution time:  10.462924718856812\n",
      "execution time:  11.10253119468689\n",
      "execution time:  10.583706140518188\n",
      "execution time:  10.422212600708008\n",
      "execution time:  10.568053245544434\n",
      "execution time:  11.044618129730225\n",
      "execution time:  11.348283052444458\n",
      "execution time:  11.520665168762207\n",
      "execution time:  12.056788206100464\n",
      "training with 17 features\n"
     ]
    },
    {
     "name": "stderr",
     "output_type": "stream",
     "text": [
      "Precision is ill-defined and being set to 0.0 due to no predicted samples. Use `zero_division` parameter to control this behavior.\n"
     ]
    },
    {
     "name": "stdout",
     "output_type": "stream",
     "text": [
      "execution time:  10.411807537078857\n",
      "execution time:  10.463140726089478\n",
      "execution time:  10.875832796096802\n",
      "execution time:  10.829113721847534\n",
      "execution time:  10.48631501197815\n",
      "execution time:  10.510833263397217\n",
      "execution time:  10.587346076965332\n",
      "execution time:  10.960188388824463\n",
      "execution time:  11.32942533493042\n",
      "execution time:  11.465468168258667\n",
      "execution time:  12.063942909240723\n",
      "training with 16 features\n"
     ]
    },
    {
     "name": "stderr",
     "output_type": "stream",
     "text": [
      "Precision is ill-defined and being set to 0.0 due to no predicted samples. Use `zero_division` parameter to control this behavior.\n"
     ]
    },
    {
     "name": "stdout",
     "output_type": "stream",
     "text": [
      "execution time:  10.322498798370361\n",
      "execution time:  10.386335134506226\n",
      "execution time:  10.520144939422607\n",
      "execution time:  10.49901533126831\n",
      "execution time:  10.387017250061035\n",
      "execution time:  10.455858945846558\n",
      "execution time:  10.47681999206543\n",
      "execution time:  10.858096837997437\n",
      "execution time:  11.29202675819397\n",
      "execution time:  11.317562580108643\n",
      "execution time:  11.89827275276184\n",
      "training with 15 features\n"
     ]
    },
    {
     "name": "stderr",
     "output_type": "stream",
     "text": [
      "Precision is ill-defined and being set to 0.0 due to no predicted samples. Use `zero_division` parameter to control this behavior.\n"
     ]
    },
    {
     "name": "stdout",
     "output_type": "stream",
     "text": [
      "execution time:  10.296422243118286\n",
      "execution time:  10.577699184417725\n",
      "execution time:  10.539742469787598\n",
      "execution time:  10.448360443115234\n",
      "execution time:  10.610695123672485\n",
      "execution time:  10.573135137557983\n",
      "execution time:  10.686213970184326\n",
      "execution time:  10.944477319717407\n",
      "execution time:  11.309244632720947\n",
      "execution time:  11.2276611328125\n",
      "execution time:  12.096406936645508\n",
      "training with 14 features\n"
     ]
    },
    {
     "name": "stderr",
     "output_type": "stream",
     "text": [
      "Precision is ill-defined and being set to 0.0 due to no predicted samples. Use `zero_division` parameter to control this behavior.\n"
     ]
    },
    {
     "name": "stdout",
     "output_type": "stream",
     "text": [
      "execution time:  10.253244638442993\n",
      "execution time:  10.517496824264526\n",
      "execution time:  10.41227126121521\n",
      "execution time:  10.465395212173462\n",
      "execution time:  10.552790641784668\n",
      "execution time:  10.405760765075684\n",
      "execution time:  10.515736818313599\n",
      "execution time:  11.198950052261353\n",
      "execution time:  11.26088547706604\n",
      "execution time:  11.27884554862976\n",
      "execution time:  12.030001878738403\n",
      "training with 13 features\n"
     ]
    },
    {
     "name": "stderr",
     "output_type": "stream",
     "text": [
      "Precision is ill-defined and being set to 0.0 due to no predicted samples. Use `zero_division` parameter to control this behavior.\n"
     ]
    },
    {
     "name": "stdout",
     "output_type": "stream",
     "text": [
      "execution time:  10.474772453308105\n",
      "execution time:  10.527052402496338\n",
      "execution time:  10.438757181167603\n",
      "execution time:  10.626640319824219\n",
      "execution time:  10.631375074386597\n",
      "execution time:  10.463792562484741\n",
      "execution time:  10.564063549041748\n",
      "execution time:  10.965321063995361\n",
      "execution time:  10.879206418991089\n",
      "execution time:  10.969135046005249\n",
      "execution time:  11.783210039138794\n",
      "training with 12 features\n"
     ]
    },
    {
     "name": "stderr",
     "output_type": "stream",
     "text": [
      "Precision is ill-defined and being set to 0.0 due to no predicted samples. Use `zero_division` parameter to control this behavior.\n"
     ]
    },
    {
     "name": "stdout",
     "output_type": "stream",
     "text": [
      "execution time:  10.417776584625244\n",
      "execution time:  10.400026559829712\n",
      "execution time:  10.49594521522522\n",
      "execution time:  10.531838178634644\n",
      "execution time:  10.435364484786987\n",
      "execution time:  10.612481832504272\n",
      "execution time:  10.57168459892273\n",
      "execution time:  10.878100395202637\n",
      "execution time:  11.318039655685425\n",
      "execution time:  11.331015586853027\n",
      "execution time:  11.927788019180298\n",
      "training with 11 features\n"
     ]
    },
    {
     "name": "stderr",
     "output_type": "stream",
     "text": [
      "Precision is ill-defined and being set to 0.0 due to no predicted samples. Use `zero_division` parameter to control this behavior.\n"
     ]
    },
    {
     "name": "stdout",
     "output_type": "stream",
     "text": [
      "execution time:  10.304226398468018\n",
      "execution time:  10.580831050872803\n",
      "execution time:  10.51129412651062\n",
      "execution time:  10.371035814285278\n",
      "execution time:  10.58479356765747\n",
      "execution time:  10.575372457504272\n",
      "execution time:  10.405940771102905\n",
      "execution time:  11.0302255153656\n",
      "execution time:  11.345847368240356\n",
      "execution time:  11.21321439743042\n",
      "execution time:  12.08423662185669\n",
      "training with 10 features\n"
     ]
    },
    {
     "name": "stderr",
     "output_type": "stream",
     "text": [
      "Precision is ill-defined and being set to 0.0 due to no predicted samples. Use `zero_division` parameter to control this behavior.\n"
     ]
    },
    {
     "name": "stdout",
     "output_type": "stream",
     "text": [
      "execution time:  10.342325448989868\n",
      "execution time:  10.512617588043213\n",
      "execution time:  10.406907558441162\n",
      "execution time:  10.53936505317688\n",
      "execution time:  10.466162204742432\n",
      "execution time:  10.393431663513184\n",
      "execution time:  10.576743125915527\n",
      "execution time:  11.010770797729492\n",
      "execution time:  11.293700218200684\n",
      "execution time:  11.372326612472534\n",
      "execution time:  11.990052700042725\n",
      "training with 9 features\n"
     ]
    },
    {
     "name": "stderr",
     "output_type": "stream",
     "text": [
      "Precision is ill-defined and being set to 0.0 due to no predicted samples. Use `zero_division` parameter to control this behavior.\n"
     ]
    },
    {
     "name": "stdout",
     "output_type": "stream",
     "text": [
      "execution time:  10.480373859405518\n",
      "execution time:  10.551063537597656\n",
      "execution time:  10.387720823287964\n",
      "execution time:  10.478298425674438\n",
      "execution time:  10.424477577209473\n",
      "execution time:  10.37086796760559\n",
      "execution time:  10.474118947982788\n",
      "execution time:  10.862324714660645\n",
      "execution time:  11.2359938621521\n",
      "execution time:  11.276245594024658\n",
      "execution time:  11.97701358795166\n",
      "training with 8 features\n",
      "execution time:  10.285979509353638\n",
      "execution time:  10.33621859550476\n",
      "execution time:  10.432793617248535\n",
      "execution time:  10.42098069190979\n",
      "execution time:  10.298151016235352\n",
      "execution time:  10.419467687606812\n",
      "execution time:  10.307578086853027\n",
      "execution time:  10.863908767700195\n",
      "execution time:  11.26667833328247\n",
      "execution time:  11.198572874069214\n",
      "execution time:  11.989719152450562\n",
      "training with 7 features\n",
      "execution time:  10.22462248802185\n",
      "execution time:  10.53136396408081\n",
      "execution time:  10.515035390853882\n",
      "execution time:  10.355282545089722\n",
      "execution time:  10.407637119293213\n",
      "execution time:  10.42864727973938\n",
      "execution time:  10.348891735076904\n",
      "execution time:  10.90546464920044\n",
      "execution time:  11.309375286102295\n",
      "execution time:  11.153809547424316\n",
      "execution time:  11.954631090164185\n",
      "training with 6 features\n"
     ]
    },
    {
     "name": "stderr",
     "output_type": "stream",
     "text": [
      "Precision is ill-defined and being set to 0.0 due to no predicted samples. Use `zero_division` parameter to control this behavior.\n"
     ]
    },
    {
     "name": "stdout",
     "output_type": "stream",
     "text": [
      "execution time:  10.299097061157227\n",
      "execution time:  10.612508058547974\n",
      "execution time:  10.393328428268433\n",
      "execution time:  10.490469455718994\n",
      "execution time:  10.46083927154541\n",
      "execution time:  10.33975100517273\n",
      "execution time:  9.769864797592163\n",
      "execution time:  10.14562439918518\n",
      "execution time:  10.499759435653687\n",
      "execution time:  11.104370355606079\n",
      "execution time:  11.28307032585144\n",
      "training with 5 features\n"
     ]
    },
    {
     "name": "stderr",
     "output_type": "stream",
     "text": [
      "Precision is ill-defined and being set to 0.0 due to no predicted samples. Use `zero_division` parameter to control this behavior.\n"
     ]
    },
    {
     "name": "stdout",
     "output_type": "stream",
     "text": [
      "execution time:  9.529650449752808\n",
      "execution time:  9.78497052192688\n",
      "execution time:  9.777336835861206\n",
      "execution time:  9.673831701278687\n",
      "execution time:  9.732032775878906\n",
      "execution time:  9.74562120437622\n",
      "execution time:  9.633220434188843\n",
      "execution time:  10.17976188659668\n",
      "execution time:  10.415191888809204\n",
      "execution time:  10.669134140014648\n",
      "execution time:  11.27224326133728\n",
      "training with 4 features\n"
     ]
    },
    {
     "name": "stderr",
     "output_type": "stream",
     "text": [
      "Precision is ill-defined and being set to 0.0 due to no predicted samples. Use `zero_division` parameter to control this behavior.\n"
     ]
    },
    {
     "name": "stdout",
     "output_type": "stream",
     "text": [
      "execution time:  9.632615089416504\n",
      "execution time:  9.587765216827393\n",
      "execution time:  9.722810745239258\n",
      "execution time:  9.69446063041687\n",
      "execution time:  9.706515312194824\n",
      "execution time:  9.75770878791809\n",
      "execution time:  9.66588306427002\n",
      "execution time:  10.254690647125244\n",
      "execution time:  10.6018545627594\n",
      "execution time:  10.400663614273071\n",
      "execution time:  11.064796924591064\n",
      "training with 3 features\n",
      "execution time:  9.617877006530762\n",
      "execution time:  9.592287540435791\n",
      "execution time:  9.685921907424927\n",
      "execution time:  9.726900815963745\n",
      "execution time:  9.774163007736206\n",
      "execution time:  9.762277603149414\n",
      "execution time:  9.714394569396973\n",
      "execution time:  10.141962051391602\n",
      "execution time:  10.55824613571167\n",
      "execution time:  10.401774406433105\n",
      "execution time:  11.035564661026001\n",
      "training with 2 features\n",
      "execution time:  9.619195461273193\n",
      "execution time:  9.722965955734253\n",
      "execution time:  9.593037605285645\n",
      "execution time:  9.722438335418701\n",
      "execution time:  9.61548376083374\n",
      "execution time:  9.670921802520752\n",
      "execution time:  9.686260223388672\n",
      "execution time:  10.098905086517334\n",
      "execution time:  10.561938285827637\n",
      "execution time:  10.672842979431152\n",
      "execution time:  10.925463438034058\n",
      "training with 1 features\n",
      "execution time:  9.353657007217407\n",
      "execution time:  9.603817701339722\n",
      "execution time:  9.537489891052246\n",
      "execution time:  9.577963590621948\n",
      "execution time:  9.618859767913818\n",
      "execution time:  9.505523204803467\n",
      "execution time:  9.641590356826782\n",
      "execution time:  9.932026147842407\n",
      "execution time:  10.405604839324951\n",
      "execution time:  10.480995178222656\n",
      "execution time:  10.943074464797974\n",
      "CPU times: user 15h 13min 50s, sys: 3min 16s, total: 15h 17min 7s\n",
      "Wall time: 2h 29min 15s\n"
     ]
    }
   ],
   "source": [
    "# add also training time\n",
    "attack_f1 = []\n",
    "attack_recall = []\n",
    "attack_precision = []\n",
    "cv_score_avg = []\n",
    "cv_score_std = []\n",
    "n_features = []\n",
    "attacks = []\n",
    "fit_time = []\n",
    "pred_time = []\n",
    "\n",
    "# warmup boolean, this variable will be used to load in memory the function in order to have reliable time measures\n",
    "warmup = True\n",
    "\n",
    "\n",
    "def test_zero_day(attack, features, rus, rus_attack):\n",
    "    print(f\"training with {len(features)} features\")\n",
    "    global warmup\n",
    "    epochs = 99\n",
    "    \n",
    "    X_res, y_res = rus.fit_resample(ds[features], ds.traffic_category)\n",
    "    \n",
    "    X_attack, y_attack = rus_attack.fit_resample(ds[features], ds.traffic_category)\n",
    "    X_attack = torch.from_numpy(X_attack.to_numpy().astype(np.float32)).to(device)\n",
    "    y_attack = ds.loc[y_attack.index].Label\n",
    "    \n",
    "    cv_mean, cv_std, cv_time = cross_validation(X_res, ds.loc[y_res.index].Label, y_res, 0, epochs)\n",
    "    \n",
    "    if warmup:\n",
    "        mlp = mlp_train(X_res, ds.loc[y_res.index].Label, False, epochs)\n",
    "        with torch.no_grad():\n",
    "            mlp.eval()\n",
    "            mlp(X_attack)\n",
    "    \n",
    "    start_fit = time.time()\n",
    "    mlp = mlp_train(X_res, ds.loc[y_res.index].Label, False, epochs)\n",
    "    end_fit = time.time()\n",
    "    \n",
    "    with torch.no_grad():\n",
    "        start_pred = time.time()\n",
    "        mlp.eval()\n",
    "        y_predicted = mlp(X_attack)\n",
    "        end_pred = time.time()\n",
    "        y_predicted = (y_predicted >= 0.5).squeeze().cpu()\n",
    "    \n",
    "    attack_f1.append(metrics.f1_score(y_attack, y_predicted))\n",
    "    attack_recall.append(metrics.recall_score(y_attack, y_predicted))\n",
    "    attack_precision.append(metrics.precision_score(y_attack, y_predicted))\n",
    "    cv_score_avg.append(cv_mean)\n",
    "    cv_score_std.append(cv_std)\n",
    "    n_features.append(len(features))\n",
    "    attacks.append(attack)\n",
    "    fit_time.append(end_fit - start_fit)\n",
    "    pred_time.append(end_pred - start_pred)\n",
    "\n",
    "    # at the very first iteration we change it to false\n",
    "    warmup = False\n",
    "    \n",
    "def recursive_reduction(attack):\n",
    "    global scaler\n",
    "    # making a sample for having a 1:1 ration for positive and negative class\n",
    "    # keep in mind that in the training I will have only three attacks, while for the test only one attack\n",
    "    sampling_weights = {'Background': 4918, 'Benign': 4918, 'XMRIGCC CryptoMiner': 3279, 'Probing': 3279, 'Bruteforce': 3279, 'Bruteforce-XML': 3279}\n",
    "    sampling_attack = {'Background': 1638, 'Benign': 1638, 'XMRIGCC CryptoMiner': 0, 'Probing': 0, 'Bruteforce': 0, 'Bruteforce-XML': 0}\n",
    "    \n",
    "    # removing all the attack observations\n",
    "    sampling_weights[attack] = 0\n",
    "    \n",
    "    # doing the undersampling\n",
    "    rus = RandomUnderSampler(random_state=42, sampling_strategy=sampling_weights)\n",
    "    \n",
    "    # adding the attack to the test dataset with the non attack traffic\n",
    "    sampling_attack[attack] = 3279\n",
    "    \n",
    "    # making the dataset with only one attack\n",
    "    rus_attack = RandomUnderSampler(random_state=42, sampling_strategy=sampling_attack)\n",
    "    \n",
    "    scaler.fit(ds[feature_above_zero])\n",
    "    test_zero_day(attack, feature_above_zero, rus, rus_attack)\n",
    "\n",
    "    for i in range(1,len(feature_above_zero)):\n",
    "        scaler.fit(ds[feature_above_zero[:-i]])\n",
    "        test_zero_day(attack, feature_above_zero[:-i], rus, rus_attack)\n",
    "\n",
    "for attack in ['XMRIGCC CryptoMiner','Probing','Bruteforce','Bruteforce-XML']:\n",
    "    print('traing for ', attack)\n",
    "    %time recursive_reduction(attack)\n",
    "    \n",
    "zero_day_feature_reduction_scores = pd.DataFrame({'attack_f1': attack_f1,  'attack_recall': attack_recall, 'attack_precision': attack_precision, 'cv_score_avg': cv_score_avg, 'cv_score_std': cv_score_std, 'n_features': n_features, 'attack_name': attacks, 'fit_time': fit_time, 'pred_time': pred_time})"
   ]
  },
  {
   "cell_type": "code",
   "execution_count": 23,
   "id": "a4e94226-4bfd-4fc7-846c-8d8361912128",
   "metadata": {
    "tags": []
   },
   "outputs": [],
   "source": [
    "with open('mlp_data/zero_day_feature_reduction_scores_kernel.pickle', 'wb') as handle:\n",
    "    pickle.dump(zero_day_feature_reduction_scores, handle, protocol=pickle.HIGHEST_PROTOCOL)"
   ]
  },
  {
   "cell_type": "code",
   "execution_count": 24,
   "id": "3279c89f-4c91-4743-9563-8b19a45c8d64",
   "metadata": {
    "tags": []
   },
   "outputs": [],
   "source": [
    "# here I create this detected variable, so that we can see how many attacks are detected because only by using the mean we didn't get the best one\n",
    "zero_day_feature_reduction_scores['detected'] = np.where(zero_day_feature_reduction_scores['attack_recall'] > 0, 1, 0)"
   ]
  },
  {
   "cell_type": "code",
   "execution_count": 25,
   "id": "98d495e9-56cb-4eee-bcf9-0f4f92ca5487",
   "metadata": {
    "tags": []
   },
   "outputs": [
    {
     "data": {
      "text/html": [
       "<div>\n",
       "<style scoped>\n",
       "    .dataframe tbody tr th:only-of-type {\n",
       "        vertical-align: middle;\n",
       "    }\n",
       "\n",
       "    .dataframe tbody tr th {\n",
       "        vertical-align: top;\n",
       "    }\n",
       "\n",
       "    .dataframe thead th {\n",
       "        text-align: right;\n",
       "    }\n",
       "</style>\n",
       "<table border=\"1\" class=\"dataframe\">\n",
       "  <thead>\n",
       "    <tr style=\"text-align: right;\">\n",
       "      <th></th>\n",
       "      <th>attack_f1</th>\n",
       "      <th>attack_recall</th>\n",
       "      <th>attack_precision</th>\n",
       "      <th>cv_score_avg</th>\n",
       "      <th>cv_score_std</th>\n",
       "      <th>n_features</th>\n",
       "      <th>attack_name</th>\n",
       "      <th>fit_time</th>\n",
       "      <th>pred_time</th>\n",
       "      <th>detected</th>\n",
       "    </tr>\n",
       "  </thead>\n",
       "  <tbody>\n",
       "    <tr>\n",
       "      <th>315</th>\n",
       "      <td>0.666870</td>\n",
       "      <td>1.000000</td>\n",
       "      <td>0.500229</td>\n",
       "      <td>0.811955</td>\n",
       "      <td>0.095398</td>\n",
       "      <td>1</td>\n",
       "      <td>Bruteforce-XML</td>\n",
       "      <td>10.964661</td>\n",
       "      <td>0.000649</td>\n",
       "      <td>1</td>\n",
       "    </tr>\n",
       "    <tr>\n",
       "      <th>140</th>\n",
       "      <td>0.854574</td>\n",
       "      <td>1.000000</td>\n",
       "      <td>0.746075</td>\n",
       "      <td>0.969251</td>\n",
       "      <td>0.015553</td>\n",
       "      <td>18</td>\n",
       "      <td>Probing</td>\n",
       "      <td>6.443509</td>\n",
       "      <td>0.000592</td>\n",
       "      <td>1</td>\n",
       "    </tr>\n",
       "    <tr>\n",
       "      <th>168</th>\n",
       "      <td>0.666870</td>\n",
       "      <td>1.000000</td>\n",
       "      <td>0.500229</td>\n",
       "      <td>0.944582</td>\n",
       "      <td>0.027099</td>\n",
       "      <td>69</td>\n",
       "      <td>Bruteforce</td>\n",
       "      <td>6.303405</td>\n",
       "      <td>0.000707</td>\n",
       "      <td>1</td>\n",
       "    </tr>\n",
       "    <tr>\n",
       "      <th>112</th>\n",
       "      <td>0.666870</td>\n",
       "      <td>1.000000</td>\n",
       "      <td>0.500229</td>\n",
       "      <td>0.979864</td>\n",
       "      <td>0.011005</td>\n",
       "      <td>46</td>\n",
       "      <td>Probing</td>\n",
       "      <td>6.435588</td>\n",
       "      <td>0.000576</td>\n",
       "      <td>1</td>\n",
       "    </tr>\n",
       "    <tr>\n",
       "      <th>113</th>\n",
       "      <td>0.795874</td>\n",
       "      <td>1.000000</td>\n",
       "      <td>0.660955</td>\n",
       "      <td>0.980428</td>\n",
       "      <td>0.010611</td>\n",
       "      <td>45</td>\n",
       "      <td>Probing</td>\n",
       "      <td>6.565765</td>\n",
       "      <td>0.000614</td>\n",
       "      <td>1</td>\n",
       "    </tr>\n",
       "    <tr>\n",
       "      <th>...</th>\n",
       "      <td>...</td>\n",
       "      <td>...</td>\n",
       "      <td>...</td>\n",
       "      <td>...</td>\n",
       "      <td>...</td>\n",
       "      <td>...</td>\n",
       "      <td>...</td>\n",
       "      <td>...</td>\n",
       "      <td>...</td>\n",
       "      <td>...</td>\n",
       "    </tr>\n",
       "    <tr>\n",
       "      <th>130</th>\n",
       "      <td>0.001187</td>\n",
       "      <td>0.000610</td>\n",
       "      <td>0.022222</td>\n",
       "      <td>0.977387</td>\n",
       "      <td>0.013076</td>\n",
       "      <td>28</td>\n",
       "      <td>Probing</td>\n",
       "      <td>6.129353</td>\n",
       "      <td>0.000580</td>\n",
       "      <td>1</td>\n",
       "    </tr>\n",
       "    <tr>\n",
       "      <th>78</th>\n",
       "      <td>0.000487</td>\n",
       "      <td>0.000305</td>\n",
       "      <td>0.001212</td>\n",
       "      <td>0.893933</td>\n",
       "      <td>0.052234</td>\n",
       "      <td>1</td>\n",
       "      <td>XMRIGCC CryptoMiner</td>\n",
       "      <td>11.412012</td>\n",
       "      <td>0.000653</td>\n",
       "      <td>1</td>\n",
       "    </tr>\n",
       "    <tr>\n",
       "      <th>77</th>\n",
       "      <td>0.000489</td>\n",
       "      <td>0.000305</td>\n",
       "      <td>0.001239</td>\n",
       "      <td>0.862740</td>\n",
       "      <td>0.101176</td>\n",
       "      <td>2</td>\n",
       "      <td>XMRIGCC CryptoMiner</td>\n",
       "      <td>11.559075</td>\n",
       "      <td>0.000803</td>\n",
       "      <td>1</td>\n",
       "    </tr>\n",
       "    <tr>\n",
       "      <th>76</th>\n",
       "      <td>0.000486</td>\n",
       "      <td>0.000305</td>\n",
       "      <td>0.001198</td>\n",
       "      <td>0.893231</td>\n",
       "      <td>0.049596</td>\n",
       "      <td>3</td>\n",
       "      <td>XMRIGCC CryptoMiner</td>\n",
       "      <td>5.307494</td>\n",
       "      <td>0.000551</td>\n",
       "      <td>1</td>\n",
       "    </tr>\n",
       "    <tr>\n",
       "      <th>160</th>\n",
       "      <td>0.000564</td>\n",
       "      <td>0.000305</td>\n",
       "      <td>0.003731</td>\n",
       "      <td>0.940650</td>\n",
       "      <td>0.030345</td>\n",
       "      <td>77</td>\n",
       "      <td>Bruteforce</td>\n",
       "      <td>10.034000</td>\n",
       "      <td>0.000604</td>\n",
       "      <td>1</td>\n",
       "    </tr>\n",
       "  </tbody>\n",
       "</table>\n",
       "<p>94 rows × 10 columns</p>\n",
       "</div>"
      ],
      "text/plain": [
       "     attack_f1  attack_recall  attack_precision  cv_score_avg  cv_score_std  \\\n",
       "315   0.666870       1.000000          0.500229      0.811955      0.095398   \n",
       "140   0.854574       1.000000          0.746075      0.969251      0.015553   \n",
       "168   0.666870       1.000000          0.500229      0.944582      0.027099   \n",
       "112   0.666870       1.000000          0.500229      0.979864      0.011005   \n",
       "113   0.795874       1.000000          0.660955      0.980428      0.010611   \n",
       "..         ...            ...               ...           ...           ...   \n",
       "130   0.001187       0.000610          0.022222      0.977387      0.013076   \n",
       "78    0.000487       0.000305          0.001212      0.893933      0.052234   \n",
       "77    0.000489       0.000305          0.001239      0.862740      0.101176   \n",
       "76    0.000486       0.000305          0.001198      0.893231      0.049596   \n",
       "160   0.000564       0.000305          0.003731      0.940650      0.030345   \n",
       "\n",
       "     n_features          attack_name   fit_time  pred_time  detected  \n",
       "315           1       Bruteforce-XML  10.964661   0.000649         1  \n",
       "140          18              Probing   6.443509   0.000592         1  \n",
       "168          69           Bruteforce   6.303405   0.000707         1  \n",
       "112          46              Probing   6.435588   0.000576         1  \n",
       "113          45              Probing   6.565765   0.000614         1  \n",
       "..          ...                  ...        ...        ...       ...  \n",
       "130          28              Probing   6.129353   0.000580         1  \n",
       "78            1  XMRIGCC CryptoMiner  11.412012   0.000653         1  \n",
       "77            2  XMRIGCC CryptoMiner  11.559075   0.000803         1  \n",
       "76            3  XMRIGCC CryptoMiner   5.307494   0.000551         1  \n",
       "160          77           Bruteforce  10.034000   0.000604         1  \n",
       "\n",
       "[94 rows x 10 columns]"
      ]
     },
     "execution_count": 25,
     "metadata": {},
     "output_type": "execute_result"
    }
   ],
   "source": [
    "zero_day_feature_reduction_scores.query('attack_recall != 0').sort_values('attack_recall', ascending=False)"
   ]
  },
  {
   "cell_type": "code",
   "execution_count": 26,
   "id": "f59eaca7-f9c5-4560-8eda-30a7ea5ad1f6",
   "metadata": {
    "tags": []
   },
   "outputs": [
    {
     "data": {
      "image/png": "[encoded data removed]",
      "text/plain": [
       "<Figure size 640x480 with 1 Axes>"
      ]
     },
     "metadata": {},
     "output_type": "display_data"
    }
   ],
   "source": [
    "def print_plot():\n",
    "    data = zero_day_feature_reduction_scores.groupby('n_features')[['pred_time','n_features']].mean().query('n_features < 79')\n",
    "    sns.set_theme()\n",
    "    sns.lineplot(data=data, x=data.index, y='pred_time')\n",
    "    sns.regplot(data=data, x=\"n_features\", y=\"pred_time\", ci=None)  # ci=None removes confidence intervals\n",
    "\n",
    "print_plot()"
   ]
  },
  {
   "cell_type": "code",
   "execution_count": 27,
   "id": "cc4fa6f5-5e8e-481e-af84-fac59eab8e68",
   "metadata": {
    "tags": []
   },
   "outputs": [
    {
     "data": {
      "image/png": "[encoded data removed]",
      "text/plain": [
       "<Figure size 640x480 with 1 Axes>"
      ]
     },
     "metadata": {},
     "output_type": "display_data"
    }
   ],
   "source": [
    "def print_plot():\n",
    "    data = zero_day_feature_reduction_scores.groupby('n_features')[['cv_score_std','n_features']].mean().query('n_features < 79')\n",
    "    sns.set_theme()\n",
    "    sns.lineplot(data=data, x=data.index, y='cv_score_std')\n",
    "\n",
    "print_plot()"
   ]
  },
  {
   "cell_type": "code",
   "execution_count": 28,
   "id": "1b5a3e62-e59c-40b1-9e8e-d86c41432a11",
   "metadata": {
    "tags": []
   },
   "outputs": [
    {
     "data": {
      "text/html": [
       "<div>\n",
       "<style scoped>\n",
       "    .dataframe tbody tr th:only-of-type {\n",
       "        vertical-align: middle;\n",
       "    }\n",
       "\n",
       "    .dataframe tbody tr th {\n",
       "        vertical-align: top;\n",
       "    }\n",
       "\n",
       "    .dataframe thead th {\n",
       "        text-align: right;\n",
       "    }\n",
       "</style>\n",
       "<table border=\"1\" class=\"dataframe\">\n",
       "  <thead>\n",
       "    <tr style=\"text-align: right;\">\n",
       "      <th></th>\n",
       "      <th>attack_f1</th>\n",
       "      <th>attack_recall</th>\n",
       "      <th>attack_precision</th>\n",
       "      <th>cv_score_avg</th>\n",
       "      <th>cv_score_std</th>\n",
       "      <th>fit_time</th>\n",
       "      <th>pred_time</th>\n",
       "      <th>detected</th>\n",
       "    </tr>\n",
       "    <tr>\n",
       "      <th>n_features</th>\n",
       "      <th></th>\n",
       "      <th></th>\n",
       "      <th></th>\n",
       "      <th></th>\n",
       "      <th></th>\n",
       "      <th></th>\n",
       "      <th></th>\n",
       "      <th></th>\n",
       "    </tr>\n",
       "  </thead>\n",
       "  <tbody>\n",
       "    <tr>\n",
       "      <th>1</th>\n",
       "      <td>0.551974</td>\n",
       "      <td>0.750000</td>\n",
       "      <td>0.444382</td>\n",
       "      <td>0.832914</td>\n",
       "      <td>0.099582</td>\n",
       "      <td>10.112308</td>\n",
       "      <td>0.000617</td>\n",
       "      <td>1.00</td>\n",
       "    </tr>\n",
       "    <tr>\n",
       "      <th>29</th>\n",
       "      <td>0.519763</td>\n",
       "      <td>0.750000</td>\n",
       "      <td>0.398620</td>\n",
       "      <td>0.908851</td>\n",
       "      <td>0.121578</td>\n",
       "      <td>8.821051</td>\n",
       "      <td>0.000695</td>\n",
       "      <td>0.75</td>\n",
       "    </tr>\n",
       "    <tr>\n",
       "      <th>38</th>\n",
       "      <td>0.561579</td>\n",
       "      <td>0.743062</td>\n",
       "      <td>0.455599</td>\n",
       "      <td>0.949635</td>\n",
       "      <td>0.023905</td>\n",
       "      <td>7.292583</td>\n",
       "      <td>0.001583</td>\n",
       "      <td>0.75</td>\n",
       "    </tr>\n",
       "    <tr>\n",
       "      <th>66</th>\n",
       "      <td>0.553821</td>\n",
       "      <td>0.742986</td>\n",
       "      <td>0.441474</td>\n",
       "      <td>0.945671</td>\n",
       "      <td>0.036711</td>\n",
       "      <td>9.354148</td>\n",
       "      <td>0.000809</td>\n",
       "      <td>0.75</td>\n",
       "    </tr>\n",
       "    <tr>\n",
       "      <th>8</th>\n",
       "      <td>0.635815</td>\n",
       "      <td>0.727203</td>\n",
       "      <td>0.564936</td>\n",
       "      <td>0.920842</td>\n",
       "      <td>0.044425</td>\n",
       "      <td>8.984650</td>\n",
       "      <td>0.000711</td>\n",
       "      <td>0.75</td>\n",
       "    </tr>\n",
       "    <tr>\n",
       "      <th>...</th>\n",
       "      <td>...</td>\n",
       "      <td>...</td>\n",
       "      <td>...</td>\n",
       "      <td>...</td>\n",
       "      <td>...</td>\n",
       "      <td>...</td>\n",
       "      <td>...</td>\n",
       "      <td>...</td>\n",
       "    </tr>\n",
       "    <tr>\n",
       "      <th>70</th>\n",
       "      <td>0.000000</td>\n",
       "      <td>0.000000</td>\n",
       "      <td>0.000000</td>\n",
       "      <td>0.946081</td>\n",
       "      <td>0.035836</td>\n",
       "      <td>9.306561</td>\n",
       "      <td>0.000948</td>\n",
       "      <td>0.00</td>\n",
       "    </tr>\n",
       "    <tr>\n",
       "      <th>71</th>\n",
       "      <td>0.000000</td>\n",
       "      <td>0.000000</td>\n",
       "      <td>0.000000</td>\n",
       "      <td>0.950066</td>\n",
       "      <td>0.024809</td>\n",
       "      <td>9.497737</td>\n",
       "      <td>0.001013</td>\n",
       "      <td>0.00</td>\n",
       "    </tr>\n",
       "    <tr>\n",
       "      <th>72</th>\n",
       "      <td>0.000000</td>\n",
       "      <td>0.000000</td>\n",
       "      <td>0.000000</td>\n",
       "      <td>0.951324</td>\n",
       "      <td>0.024528</td>\n",
       "      <td>13.637598</td>\n",
       "      <td>0.000798</td>\n",
       "      <td>0.00</td>\n",
       "    </tr>\n",
       "    <tr>\n",
       "      <th>74</th>\n",
       "      <td>0.000000</td>\n",
       "      <td>0.000000</td>\n",
       "      <td>0.000000</td>\n",
       "      <td>0.926076</td>\n",
       "      <td>0.087093</td>\n",
       "      <td>11.891690</td>\n",
       "      <td>0.000669</td>\n",
       "      <td>0.00</td>\n",
       "    </tr>\n",
       "    <tr>\n",
       "      <th>75</th>\n",
       "      <td>0.000000</td>\n",
       "      <td>0.000000</td>\n",
       "      <td>0.000000</td>\n",
       "      <td>0.951053</td>\n",
       "      <td>0.024978</td>\n",
       "      <td>13.864100</td>\n",
       "      <td>0.000834</td>\n",
       "      <td>0.00</td>\n",
       "    </tr>\n",
       "  </tbody>\n",
       "</table>\n",
       "<p>79 rows × 8 columns</p>\n",
       "</div>"
      ],
      "text/plain": [
       "            attack_f1  attack_recall  attack_precision  cv_score_avg  \\\n",
       "n_features                                                             \n",
       "1            0.551974       0.750000          0.444382      0.832914   \n",
       "29           0.519763       0.750000          0.398620      0.908851   \n",
       "38           0.561579       0.743062          0.455599      0.949635   \n",
       "66           0.553821       0.742986          0.441474      0.945671   \n",
       "8            0.635815       0.727203          0.564936      0.920842   \n",
       "...               ...            ...               ...           ...   \n",
       "70           0.000000       0.000000          0.000000      0.946081   \n",
       "71           0.000000       0.000000          0.000000      0.950066   \n",
       "72           0.000000       0.000000          0.000000      0.951324   \n",
       "74           0.000000       0.000000          0.000000      0.926076   \n",
       "75           0.000000       0.000000          0.000000      0.951053   \n",
       "\n",
       "            cv_score_std   fit_time  pred_time  detected  \n",
       "n_features                                                \n",
       "1               0.099582  10.112308   0.000617      1.00  \n",
       "29              0.121578   8.821051   0.000695      0.75  \n",
       "38              0.023905   7.292583   0.001583      0.75  \n",
       "66              0.036711   9.354148   0.000809      0.75  \n",
       "8               0.044425   8.984650   0.000711      0.75  \n",
       "...                  ...        ...        ...       ...  \n",
       "70              0.035836   9.306561   0.000948      0.00  \n",
       "71              0.024809   9.497737   0.001013      0.00  \n",
       "72              0.024528  13.637598   0.000798      0.00  \n",
       "74              0.087093  11.891690   0.000669      0.00  \n",
       "75              0.024978  13.864100   0.000834      0.00  \n",
       "\n",
       "[79 rows x 8 columns]"
      ]
     },
     "execution_count": 28,
     "metadata": {},
     "output_type": "execute_result"
    }
   ],
   "source": [
    "zero_day_feature_reduction_scores.groupby('n_features')[['attack_f1','attack_recall','attack_precision','cv_score_avg','cv_score_std','fit_time','pred_time', 'detected']].mean().sort_values(['attack_recall', 'attack_precision'], ascending=False)"
   ]
  },
  {
   "cell_type": "code",
   "execution_count": 29,
   "id": "0bbc8608-418f-47e7-9b30-b86e34afedfc",
   "metadata": {
    "tags": []
   },
   "outputs": [
    {
     "data": {
      "image/png": "[encoded data removed]",
      "text/plain": [
       "<Figure size 640x480 with 1 Axes>"
      ]
     },
     "metadata": {},
     "output_type": "display_data"
    }
   ],
   "source": [
    "def print_plot():\n",
    "    data = zero_day_feature_reduction_scores.groupby('n_features')[['detected','n_features']].mean().query('n_features < 79')\n",
    "    sns.set_theme()\n",
    "    sns.lineplot(data=data, x=data.index, y='detected')\n",
    "\n",
    "print_plot()"
   ]
  },
  {
   "cell_type": "code",
   "execution_count": 30,
   "id": "1b650016-ee41-49d7-80bf-a5ceff55917d",
   "metadata": {
    "tags": []
   },
   "outputs": [
    {
     "data": {
      "image/png": "[encoded data removed]",
      "text/plain": [
       "<Figure size 640x480 with 1 Axes>"
      ]
     },
     "metadata": {},
     "output_type": "display_data"
    }
   ],
   "source": [
    "def print_plot():\n",
    "    data = zero_day_feature_reduction_scores.groupby('n_features')[['attack_recall','n_features']].mean().query('n_features < 79')\n",
    "    sns.set_theme()\n",
    "    sns.lineplot(data=data, x=data.index, y='attack_recall')\n",
    "\n",
    "print_plot()"
   ]
  },
  {
   "cell_type": "code",
   "execution_count": 31,
   "id": "6ca108a1-ae82-4952-bd51-4b4acca4e755",
   "metadata": {
    "tags": []
   },
   "outputs": [
    {
     "data": {
      "text/html": [
       "<div>\n",
       "<style scoped>\n",
       "    .dataframe tbody tr th:only-of-type {\n",
       "        vertical-align: middle;\n",
       "    }\n",
       "\n",
       "    .dataframe tbody tr th {\n",
       "        vertical-align: top;\n",
       "    }\n",
       "\n",
       "    .dataframe thead th {\n",
       "        text-align: right;\n",
       "    }\n",
       "</style>\n",
       "<table border=\"1\" class=\"dataframe\">\n",
       "  <thead>\n",
       "    <tr style=\"text-align: right;\">\n",
       "      <th></th>\n",
       "      <th>attack_f1</th>\n",
       "      <th>attack_recall</th>\n",
       "      <th>attack_precision</th>\n",
       "      <th>cv_score_avg</th>\n",
       "      <th>cv_score_std</th>\n",
       "      <th>fit_time</th>\n",
       "      <th>pred_time</th>\n",
       "    </tr>\n",
       "    <tr>\n",
       "      <th>n_features</th>\n",
       "      <th></th>\n",
       "      <th></th>\n",
       "      <th></th>\n",
       "      <th></th>\n",
       "      <th></th>\n",
       "      <th></th>\n",
       "      <th></th>\n",
       "    </tr>\n",
       "  </thead>\n",
       "  <tbody>\n",
       "    <tr>\n",
       "      <th>8</th>\n",
       "      <td>0.635815</td>\n",
       "      <td>0.727203</td>\n",
       "      <td>0.564936</td>\n",
       "      <td>0.920842</td>\n",
       "      <td>0.044425</td>\n",
       "      <td>8.984650</td>\n",
       "      <td>0.000711</td>\n",
       "    </tr>\n",
       "    <tr>\n",
       "      <th>38</th>\n",
       "      <td>0.561579</td>\n",
       "      <td>0.743062</td>\n",
       "      <td>0.455599</td>\n",
       "      <td>0.949635</td>\n",
       "      <td>0.023905</td>\n",
       "      <td>7.292583</td>\n",
       "      <td>0.001583</td>\n",
       "    </tr>\n",
       "    <tr>\n",
       "      <th>66</th>\n",
       "      <td>0.553821</td>\n",
       "      <td>0.742986</td>\n",
       "      <td>0.441474</td>\n",
       "      <td>0.945671</td>\n",
       "      <td>0.036711</td>\n",
       "      <td>9.354148</td>\n",
       "      <td>0.000809</td>\n",
       "    </tr>\n",
       "    <tr>\n",
       "      <th>1</th>\n",
       "      <td>0.551974</td>\n",
       "      <td>0.750000</td>\n",
       "      <td>0.444382</td>\n",
       "      <td>0.832914</td>\n",
       "      <td>0.099582</td>\n",
       "      <td>10.112308</td>\n",
       "      <td>0.000617</td>\n",
       "    </tr>\n",
       "    <tr>\n",
       "      <th>29</th>\n",
       "      <td>0.519763</td>\n",
       "      <td>0.750000</td>\n",
       "      <td>0.398620</td>\n",
       "      <td>0.908851</td>\n",
       "      <td>0.121578</td>\n",
       "      <td>8.821051</td>\n",
       "      <td>0.000695</td>\n",
       "    </tr>\n",
       "    <tr>\n",
       "      <th>...</th>\n",
       "      <td>...</td>\n",
       "      <td>...</td>\n",
       "      <td>...</td>\n",
       "      <td>...</td>\n",
       "      <td>...</td>\n",
       "      <td>...</td>\n",
       "      <td>...</td>\n",
       "    </tr>\n",
       "    <tr>\n",
       "      <th>16</th>\n",
       "      <td>0.000000</td>\n",
       "      <td>0.000000</td>\n",
       "      <td>0.000000</td>\n",
       "      <td>0.931947</td>\n",
       "      <td>0.042625</td>\n",
       "      <td>9.178038</td>\n",
       "      <td>0.000736</td>\n",
       "    </tr>\n",
       "    <tr>\n",
       "      <th>49</th>\n",
       "      <td>0.000000</td>\n",
       "      <td>0.000000</td>\n",
       "      <td>0.000000</td>\n",
       "      <td>0.951213</td>\n",
       "      <td>0.023699</td>\n",
       "      <td>7.762286</td>\n",
       "      <td>0.000766</td>\n",
       "    </tr>\n",
       "    <tr>\n",
       "      <th>50</th>\n",
       "      <td>0.000000</td>\n",
       "      <td>0.000000</td>\n",
       "      <td>0.000000</td>\n",
       "      <td>0.950499</td>\n",
       "      <td>0.024815</td>\n",
       "      <td>7.749654</td>\n",
       "      <td>0.000770</td>\n",
       "    </tr>\n",
       "    <tr>\n",
       "      <th>27</th>\n",
       "      <td>0.000000</td>\n",
       "      <td>0.000000</td>\n",
       "      <td>0.000000</td>\n",
       "      <td>0.948630</td>\n",
       "      <td>0.026618</td>\n",
       "      <td>9.311310</td>\n",
       "      <td>0.003121</td>\n",
       "    </tr>\n",
       "    <tr>\n",
       "      <th>11</th>\n",
       "      <td>0.000000</td>\n",
       "      <td>0.000000</td>\n",
       "      <td>0.000000</td>\n",
       "      <td>0.932242</td>\n",
       "      <td>0.032179</td>\n",
       "      <td>9.240069</td>\n",
       "      <td>0.000827</td>\n",
       "    </tr>\n",
       "  </tbody>\n",
       "</table>\n",
       "<p>79 rows × 7 columns</p>\n",
       "</div>"
      ],
      "text/plain": [
       "            attack_f1  attack_recall  attack_precision  cv_score_avg  \\\n",
       "n_features                                                             \n",
       "8            0.635815       0.727203          0.564936      0.920842   \n",
       "38           0.561579       0.743062          0.455599      0.949635   \n",
       "66           0.553821       0.742986          0.441474      0.945671   \n",
       "1            0.551974       0.750000          0.444382      0.832914   \n",
       "29           0.519763       0.750000          0.398620      0.908851   \n",
       "...               ...            ...               ...           ...   \n",
       "16           0.000000       0.000000          0.000000      0.931947   \n",
       "49           0.000000       0.000000          0.000000      0.951213   \n",
       "50           0.000000       0.000000          0.000000      0.950499   \n",
       "27           0.000000       0.000000          0.000000      0.948630   \n",
       "11           0.000000       0.000000          0.000000      0.932242   \n",
       "\n",
       "            cv_score_std   fit_time  pred_time  \n",
       "n_features                                      \n",
       "8               0.044425   8.984650   0.000711  \n",
       "38              0.023905   7.292583   0.001583  \n",
       "66              0.036711   9.354148   0.000809  \n",
       "1               0.099582  10.112308   0.000617  \n",
       "29              0.121578   8.821051   0.000695  \n",
       "...                  ...        ...        ...  \n",
       "16              0.042625   9.178038   0.000736  \n",
       "49              0.023699   7.762286   0.000766  \n",
       "50              0.024815   7.749654   0.000770  \n",
       "27              0.026618   9.311310   0.003121  \n",
       "11              0.032179   9.240069   0.000827  \n",
       "\n",
       "[79 rows x 7 columns]"
      ]
     },
     "execution_count": 31,
     "metadata": {},
     "output_type": "execute_result"
    }
   ],
   "source": [
    "zero_day_feature_reduction_scores.groupby('n_features')[['attack_f1','attack_recall','attack_precision','cv_score_avg','cv_score_std','fit_time','pred_time']].mean().sort_values('attack_f1', ascending=False)"
   ]
  },
  {
   "cell_type": "code",
   "execution_count": 32,
   "id": "abf68271-57d9-4271-9dba-10f5549868e2",
   "metadata": {
    "tags": []
   },
   "outputs": [
    {
     "data": {
      "image/png": "[encoded data removed]",
      "text/plain": [
       "<Figure size 640x480 with 1 Axes>"
      ]
     },
     "metadata": {},
     "output_type": "display_data"
    }
   ],
   "source": [
    "def print_plot():\n",
    "    data = zero_day_feature_reduction_scores.groupby('n_features')[['attack_f1','n_features']].mean().query('n_features < 79')\n",
    "    sns.set_theme()\n",
    "    sns.lineplot(data=data, x=data.index, y='attack_f1')\n",
    "\n",
    "print_plot()"
   ]
  },
  {
   "cell_type": "code",
   "execution_count": 33,
   "id": "7b1fb6a2-0634-425e-8eaa-b45f6c8c5e36",
   "metadata": {
    "tags": []
   },
   "outputs": [
    {
     "data": {
      "text/html": [
       "<div>\n",
       "<style scoped>\n",
       "    .dataframe tbody tr th:only-of-type {\n",
       "        vertical-align: middle;\n",
       "    }\n",
       "\n",
       "    .dataframe tbody tr th {\n",
       "        vertical-align: top;\n",
       "    }\n",
       "\n",
       "    .dataframe thead th {\n",
       "        text-align: right;\n",
       "    }\n",
       "</style>\n",
       "<table border=\"1\" class=\"dataframe\">\n",
       "  <thead>\n",
       "    <tr style=\"text-align: right;\">\n",
       "      <th></th>\n",
       "      <th>attack_f1</th>\n",
       "      <th>attack_recall</th>\n",
       "      <th>attack_precision</th>\n",
       "      <th>cv_score_avg</th>\n",
       "      <th>cv_score_std</th>\n",
       "      <th>n_features</th>\n",
       "      <th>attack_name</th>\n",
       "      <th>fit_time</th>\n",
       "      <th>pred_time</th>\n",
       "      <th>detected</th>\n",
       "    </tr>\n",
       "  </thead>\n",
       "  <tbody>\n",
       "    <tr>\n",
       "      <th>71</th>\n",
       "      <td>0.846522</td>\n",
       "      <td>0.972248</td>\n",
       "      <td>0.749589</td>\n",
       "      <td>0.918665</td>\n",
       "      <td>0.033140</td>\n",
       "      <td>8</td>\n",
       "      <td>XMRIGCC CryptoMiner</td>\n",
       "      <td>5.428372</td>\n",
       "      <td>0.000649</td>\n",
       "      <td>1</td>\n",
       "    </tr>\n",
       "    <tr>\n",
       "      <th>150</th>\n",
       "      <td>0.000000</td>\n",
       "      <td>0.000000</td>\n",
       "      <td>0.000000</td>\n",
       "      <td>0.965795</td>\n",
       "      <td>0.015797</td>\n",
       "      <td>8</td>\n",
       "      <td>Probing</td>\n",
       "      <td>6.280287</td>\n",
       "      <td>0.000609</td>\n",
       "      <td>0</td>\n",
       "    </tr>\n",
       "    <tr>\n",
       "      <th>229</th>\n",
       "      <td>0.832137</td>\n",
       "      <td>0.936566</td>\n",
       "      <td>0.748659</td>\n",
       "      <td>0.888226</td>\n",
       "      <td>0.092079</td>\n",
       "      <td>8</td>\n",
       "      <td>Bruteforce</td>\n",
       "      <td>12.217481</td>\n",
       "      <td>0.000801</td>\n",
       "      <td>1</td>\n",
       "    </tr>\n",
       "    <tr>\n",
       "      <th>308</th>\n",
       "      <td>0.864601</td>\n",
       "      <td>1.000000</td>\n",
       "      <td>0.761496</td>\n",
       "      <td>0.910684</td>\n",
       "      <td>0.036686</td>\n",
       "      <td>8</td>\n",
       "      <td>Bruteforce-XML</td>\n",
       "      <td>12.012460</td>\n",
       "      <td>0.000784</td>\n",
       "      <td>1</td>\n",
       "    </tr>\n",
       "  </tbody>\n",
       "</table>\n",
       "</div>"
      ],
      "text/plain": [
       "     attack_f1  attack_recall  attack_precision  cv_score_avg  cv_score_std  \\\n",
       "71    0.846522       0.972248          0.749589      0.918665      0.033140   \n",
       "150   0.000000       0.000000          0.000000      0.965795      0.015797   \n",
       "229   0.832137       0.936566          0.748659      0.888226      0.092079   \n",
       "308   0.864601       1.000000          0.761496      0.910684      0.036686   \n",
       "\n",
       "     n_features          attack_name   fit_time  pred_time  detected  \n",
       "71            8  XMRIGCC CryptoMiner   5.428372   0.000649         1  \n",
       "150           8              Probing   6.280287   0.000609         0  \n",
       "229           8           Bruteforce  12.217481   0.000801         1  \n",
       "308           8       Bruteforce-XML  12.012460   0.000784         1  "
      ]
     },
     "execution_count": 33,
     "metadata": {},
     "output_type": "execute_result"
    }
   ],
   "source": [
    "zero_day_feature_reduction_scores.query('n_features == 8')"
   ]
  }
 ],
 "metadata": {
  "kernelspec": {
   "display_name": "Python 3 (ipykernel)",
   "language": "python",
   "name": "python3"
  },
  "language_info": {
   "codemirror_mode": {
    "name": "ipython",
    "version": 3
   },
   "file_extension": ".py",
   "mimetype": "text/x-python",
   "name": "python",
   "nbconvert_exporter": "python",
   "pygments_lexer": "ipython3",
   "version": "3.11.5"
  }
 },
 "nbformat": 4,
 "nbformat_minor": 5
}
